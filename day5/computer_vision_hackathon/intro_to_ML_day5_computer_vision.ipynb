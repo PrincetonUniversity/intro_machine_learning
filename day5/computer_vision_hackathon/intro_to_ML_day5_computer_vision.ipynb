{
  "nbformat": 4,
  "nbformat_minor": 0,
  "metadata": {
    "colab": {
      "provenance": []
    },
    "kernelspec": {
      "name": "python3",
      "display_name": "Python 3"
    },
    "language_info": {
      "name": "python"
    },
    "accelerator": "GPU",
    "gpuClass": "standard"
  },
  "cells": [
    {
      "cell_type": "markdown",
      "source": [
        "#Introduction to Machine Learning  \n",
        "Computer Vision Hackathon  \\\n",
        "Gage DeZoort and Jon Halverson\\\n",
        "Princeton University Wintersession  \\\n",
        "January 22, 2024\n"
      ],
      "metadata": {
        "id": "aga1pGnHqFDc"
      }
    },
    {
      "cell_type": "markdown",
      "source": [
        "This notebook trains a simple CNN on the MNIST dataset. The code comes from a [PyTorch example on GitHub](https://github.com/pytorch/examples/blob/master/mnist/main.py)."
      ],
      "metadata": {
        "id": "UNycfWo7M0TV"
      }
    },
    {
      "cell_type": "markdown",
      "source": [
        "# About Your Colab Session"
      ],
      "metadata": {
        "id": "2zeUMxrssifc"
      }
    },
    {
      "cell_type": "markdown",
      "source": [
        "Learn about the CPU-cores for your session:"
      ],
      "metadata": {
        "id": "DuQEJ5K4T6mr"
      }
    },
    {
      "cell_type": "code",
      "source": [
        "cat /proc/cpuinfo"
      ],
      "metadata": {
        "id": "kmhl7u9GTJdM",
        "outputId": "5ba4c05f-0781-492d-c02f-ac812f0e4c3f",
        "colab": {
          "base_uri": "https://localhost:8080/"
        }
      },
      "execution_count": 5,
      "outputs": [
        {
          "output_type": "stream",
          "name": "stdout",
          "text": [
            "processor\t: 0\n",
            "vendor_id\t: GenuineIntel\n",
            "cpu family\t: 6\n",
            "model\t\t: 63\n",
            "model name\t: Intel(R) Xeon(R) CPU @ 2.30GHz\n",
            "stepping\t: 0\n",
            "microcode\t: 0xffffffff\n",
            "cpu MHz\t\t: 2299.998\n",
            "cache size\t: 46080 KB\n",
            "physical id\t: 0\n",
            "siblings\t: 2\n",
            "core id\t\t: 0\n",
            "cpu cores\t: 1\n",
            "apicid\t\t: 0\n",
            "initial apicid\t: 0\n",
            "fpu\t\t: yes\n",
            "fpu_exception\t: yes\n",
            "cpuid level\t: 13\n",
            "wp\t\t: yes\n",
            "flags\t\t: fpu vme de pse tsc msr pae mce cx8 apic sep mtrr pge mca cmov pat pse36 clflush mmx fxsr sse sse2 ss ht syscall nx pdpe1gb rdtscp lm constant_tsc rep_good nopl xtopology nonstop_tsc cpuid tsc_known_freq pni pclmulqdq ssse3 fma cx16 pcid sse4_1 sse4_2 x2apic movbe popcnt aes xsave avx f16c rdrand hypervisor lahf_lm abm invpcid_single ssbd ibrs ibpb stibp fsgsbase tsc_adjust bmi1 avx2 smep bmi2 erms invpcid xsaveopt arat md_clear arch_capabilities\n",
            "bugs\t\t: cpu_meltdown spectre_v1 spectre_v2 spec_store_bypass l1tf mds swapgs mmio_stale_data retbleed\n",
            "bogomips\t: 4599.99\n",
            "clflush size\t: 64\n",
            "cache_alignment\t: 64\n",
            "address sizes\t: 46 bits physical, 48 bits virtual\n",
            "power management:\n",
            "\n",
            "processor\t: 1\n",
            "vendor_id\t: GenuineIntel\n",
            "cpu family\t: 6\n",
            "model\t\t: 63\n",
            "model name\t: Intel(R) Xeon(R) CPU @ 2.30GHz\n",
            "stepping\t: 0\n",
            "microcode\t: 0xffffffff\n",
            "cpu MHz\t\t: 2299.998\n",
            "cache size\t: 46080 KB\n",
            "physical id\t: 0\n",
            "siblings\t: 2\n",
            "core id\t\t: 0\n",
            "cpu cores\t: 1\n",
            "apicid\t\t: 1\n",
            "initial apicid\t: 1\n",
            "fpu\t\t: yes\n",
            "fpu_exception\t: yes\n",
            "cpuid level\t: 13\n",
            "wp\t\t: yes\n",
            "flags\t\t: fpu vme de pse tsc msr pae mce cx8 apic sep mtrr pge mca cmov pat pse36 clflush mmx fxsr sse sse2 ss ht syscall nx pdpe1gb rdtscp lm constant_tsc rep_good nopl xtopology nonstop_tsc cpuid tsc_known_freq pni pclmulqdq ssse3 fma cx16 pcid sse4_1 sse4_2 x2apic movbe popcnt aes xsave avx f16c rdrand hypervisor lahf_lm abm invpcid_single ssbd ibrs ibpb stibp fsgsbase tsc_adjust bmi1 avx2 smep bmi2 erms invpcid xsaveopt arat md_clear arch_capabilities\n",
            "bugs\t\t: cpu_meltdown spectre_v1 spectre_v2 spec_store_bypass l1tf mds swapgs mmio_stale_data retbleed\n",
            "bogomips\t: 4599.99\n",
            "clflush size\t: 64\n",
            "cache_alignment\t: 64\n",
            "address sizes\t: 46 bits physical, 48 bits virtual\n",
            "power management:\n",
            "\n"
          ]
        }
      ]
    },
    {
      "cell_type": "code",
      "source": [
        "import os\n",
        "num_cores = min(os.cpu_count(), 2)\n",
        "print(num_cores)"
      ],
      "metadata": {
        "id": "pvmd8gdqqadV",
        "outputId": "8e631058-d988-49e7-b78f-ea5fdb272807",
        "colab": {
          "base_uri": "https://localhost:8080/"
        }
      },
      "execution_count": 6,
      "outputs": [
        {
          "output_type": "stream",
          "name": "stdout",
          "text": [
            "2\n"
          ]
        }
      ]
    },
    {
      "cell_type": "markdown",
      "source": [
        "Let's see which GPU we are using (probably a Tesla T4):"
      ],
      "metadata": {
        "id": "boWe_CxtT_NO"
      }
    },
    {
      "cell_type": "code",
      "source": [
        "!nvidia-smi"
      ],
      "metadata": {
        "id": "8yR2en5xCqsO",
        "outputId": "54126e58-a44a-4a76-a78a-2d78225ef5c5",
        "colab": {
          "base_uri": "https://localhost:8080/"
        }
      },
      "execution_count": 7,
      "outputs": [
        {
          "output_type": "stream",
          "name": "stdout",
          "text": [
            "Tue Jan 23 05:01:18 2024       \n",
            "+---------------------------------------------------------------------------------------+\n",
            "| NVIDIA-SMI 535.104.05             Driver Version: 535.104.05   CUDA Version: 12.2     |\n",
            "|-----------------------------------------+----------------------+----------------------+\n",
            "| GPU  Name                 Persistence-M | Bus-Id        Disp.A | Volatile Uncorr. ECC |\n",
            "| Fan  Temp   Perf          Pwr:Usage/Cap |         Memory-Usage | GPU-Util  Compute M. |\n",
            "|                                         |                      |               MIG M. |\n",
            "|=========================================+======================+======================|\n",
            "|   0  Tesla T4                       Off | 00000000:00:04.0 Off |                    0 |\n",
            "| N/A   45C    P8               9W /  70W |      0MiB / 15360MiB |      0%      Default |\n",
            "|                                         |                      |                  N/A |\n",
            "+-----------------------------------------+----------------------+----------------------+\n",
            "                                                                                         \n",
            "+---------------------------------------------------------------------------------------+\n",
            "| Processes:                                                                            |\n",
            "|  GPU   GI   CI        PID   Type   Process name                            GPU Memory |\n",
            "|        ID   ID                                                             Usage      |\n",
            "|=======================================================================================|\n",
            "|  No running processes found                                                           |\n",
            "+---------------------------------------------------------------------------------------+\n"
          ]
        }
      ]
    },
    {
      "cell_type": "markdown",
      "source": [
        "# Data Preparation\n",
        "\n",
        "Surprise! We're going to load up MNIST again :)."
      ],
      "metadata": {
        "id": "wGufTwtPso3h"
      }
    },
    {
      "cell_type": "code",
      "execution_count": 8,
      "metadata": {
        "id": "bH3SrMfHBejx"
      },
      "outputs": [],
      "source": [
        "import torch\n",
        "import torch.nn as nn\n",
        "import torch.nn.functional as F\n",
        "import torch.optim as optim\n",
        "from torchvision import datasets, transforms\n",
        "from torch.optim.lr_scheduler import StepLR\n",
        "from matplotlib import pyplot as plt"
      ]
    },
    {
      "cell_type": "markdown",
      "source": [
        "We want to use a GPU when one is available:"
      ],
      "metadata": {
        "id": "OOKVq098sZne"
      }
    },
    {
      "cell_type": "code",
      "source": [
        "use_cuda = torch.cuda.is_available()\n",
        "print(use_cuda)"
      ],
      "metadata": {
        "id": "Nk3pkXNxCF5F",
        "outputId": "5ab95929-8a39-45e2-fc10-4ee4f27b5133",
        "colab": {
          "base_uri": "https://localhost:8080/"
        }
      },
      "execution_count": 9,
      "outputs": [
        {
          "output_type": "stream",
          "name": "stdout",
          "text": [
            "True\n"
          ]
        }
      ]
    },
    {
      "cell_type": "code",
      "source": [
        "torch.manual_seed(42)\n",
        "device = torch.device(\"cuda\") if use_cuda else torch.device(\"cpu\")\n",
        "\n",
        "train_kwargs = {'batch_size': 64}\n",
        "test_kwargs  = {'batch_size': 1000}\n",
        "if use_cuda:\n",
        "    cuda_kwargs = {'num_workers': num_cores, 'pin_memory': True, 'shuffle': True}\n",
        "    train_kwargs.update(cuda_kwargs)\n",
        "    test_kwargs.update(cuda_kwargs)"
      ],
      "metadata": {
        "id": "TVoXo2d6CVwC"
      },
      "execution_count": 10,
      "outputs": []
    },
    {
      "cell_type": "code",
      "source": [
        "transform=transforms.Compose([\n",
        "    transforms.ToTensor(),\n",
        "    transforms.Normalize((0.1307,), (0.3081,))\n",
        "])\n",
        "train_data = datasets.MNIST('/tmp', train=True, download=True,\n",
        "                       transform=transform)\n",
        "test_data = datasets.MNIST('/tmp', train=False,\n",
        "                       transform=transform)\n",
        "train_loader = torch.utils.data.DataLoader(train_data, **train_kwargs)\n",
        "test_loader  = torch.utils.data.DataLoader(test_data, **test_kwargs)"
      ],
      "metadata": {
        "id": "NgIFFS1TJp-O",
        "outputId": "5243b011-4d5b-4d8d-b87c-2ea250fe312b",
        "colab": {
          "base_uri": "https://localhost:8080/"
        }
      },
      "execution_count": 11,
      "outputs": [
        {
          "output_type": "stream",
          "name": "stdout",
          "text": [
            "Downloading http://yann.lecun.com/exdb/mnist/train-images-idx3-ubyte.gz\n",
            "Downloading http://yann.lecun.com/exdb/mnist/train-images-idx3-ubyte.gz to /tmp/MNIST/raw/train-images-idx3-ubyte.gz\n"
          ]
        },
        {
          "output_type": "stream",
          "name": "stderr",
          "text": [
            "100%|██████████| 9912422/9912422 [00:00<00:00, 100594023.85it/s]\n"
          ]
        },
        {
          "output_type": "stream",
          "name": "stdout",
          "text": [
            "Extracting /tmp/MNIST/raw/train-images-idx3-ubyte.gz to /tmp/MNIST/raw\n",
            "\n",
            "Downloading http://yann.lecun.com/exdb/mnist/train-labels-idx1-ubyte.gz\n",
            "Downloading http://yann.lecun.com/exdb/mnist/train-labels-idx1-ubyte.gz to /tmp/MNIST/raw/train-labels-idx1-ubyte.gz\n"
          ]
        },
        {
          "output_type": "stream",
          "name": "stderr",
          "text": [
            "100%|██████████| 28881/28881 [00:00<00:00, 31719218.07it/s]"
          ]
        },
        {
          "output_type": "stream",
          "name": "stdout",
          "text": [
            "Extracting /tmp/MNIST/raw/train-labels-idx1-ubyte.gz to /tmp/MNIST/raw\n",
            "\n",
            "Downloading http://yann.lecun.com/exdb/mnist/t10k-images-idx3-ubyte.gz\n",
            "Downloading http://yann.lecun.com/exdb/mnist/t10k-images-idx3-ubyte.gz to /tmp/MNIST/raw/t10k-images-idx3-ubyte.gz\n"
          ]
        },
        {
          "output_type": "stream",
          "name": "stderr",
          "text": [
            "\n",
            "100%|██████████| 1648877/1648877 [00:00<00:00, 8773795.17it/s]\n"
          ]
        },
        {
          "output_type": "stream",
          "name": "stdout",
          "text": [
            "Extracting /tmp/MNIST/raw/t10k-images-idx3-ubyte.gz to /tmp/MNIST/raw\n",
            "\n",
            "Downloading http://yann.lecun.com/exdb/mnist/t10k-labels-idx1-ubyte.gz\n",
            "Downloading http://yann.lecun.com/exdb/mnist/t10k-labels-idx1-ubyte.gz to /tmp/MNIST/raw/t10k-labels-idx1-ubyte.gz\n"
          ]
        },
        {
          "output_type": "stream",
          "name": "stderr",
          "text": [
            "100%|██████████| 4542/4542 [00:00<00:00, 15350949.85it/s]"
          ]
        },
        {
          "output_type": "stream",
          "name": "stdout",
          "text": [
            "Extracting /tmp/MNIST/raw/t10k-labels-idx1-ubyte.gz to /tmp/MNIST/raw\n",
            "\n"
          ]
        },
        {
          "output_type": "stream",
          "name": "stderr",
          "text": [
            "\n"
          ]
        }
      ]
    },
    {
      "cell_type": "code",
      "source": [
        "# plot several random examples\n",
        "figure = plt.figure(figsize=(8, 8))\n",
        "cols, rows = 3, 3\n",
        "for i in range(1, cols * rows + 1):\n",
        "    sample_idx = torch.randint(len(train_data), size=(1,)).item()\n",
        "    img, label = train_data[sample_idx]\n",
        "    figure.add_subplot(rows, cols, i)\n",
        "    plt.axis(\"off\")\n",
        "    plt.imshow(img.squeeze(), cmap=\"gray\")\n",
        "plt.show()"
      ],
      "metadata": {
        "id": "y-46k5yEHtyT",
        "outputId": "f00dd365-42d0-4b2f-cc3a-690f36b586a9",
        "colab": {
          "base_uri": "https://localhost:8080/",
          "height": 653
        }
      },
      "execution_count": 12,
      "outputs": [
        {
          "output_type": "display_data",
          "data": {
            "text/plain": [
              "<Figure size 800x800 with 9 Axes>"
            ],
            "image/png": "[encoded data removed]"
          },
          "metadata": {}
        }
      ]
    },
    {
      "cell_type": "markdown",
      "source": [
        "# Model Definition"
      ],
      "metadata": {
        "id": "NxvDfF0Ps9uZ"
      }
    },
    {
      "cell_type": "markdown",
      "source": [
        "Create a Python class called Net that derives from the nn.Module of PyTorch. The \\_\\_init__() method defines the network layers and regularization method while the forward method describes the forward pass."
      ],
      "metadata": {
        "id": "SzBNqmv3M7o3"
      }
    },
    {
      "cell_type": "code",
      "source": [
        "class Net(nn.Module):\n",
        "    def __init__(self):\n",
        "        super(Net, self).__init__()\n",
        "\n",
        "        # first convolutional layer\n",
        "        self.conv1 = nn.Conv2d(\n",
        "            in_channels=1,   # input image is greyscale, each pixel has 1 feature\n",
        "            out_channels=32, # ask for 32 output features\n",
        "            kernel_size=3,   # each filter is 3x3\n",
        "            stride=1,        # slide the filters pixel-by-pixel across the image\n",
        "        )\n",
        "\n",
        "        # second convolutional layer\n",
        "        self.conv2 = nn.Conv2d(\n",
        "            in_channels=32,  # we have 32 feature maps (26x26x32) from the last Conv2d\n",
        "            out_channels=64, # ask for 64 output features\n",
        "            kernel_size=3,   # each filter is 3x3x32\n",
        "            stride=1,        # slide the filters without making jumps\n",
        "        )\n",
        "\n",
        "        # dropout randomly \"drops out\" a tensor so that the model doesn't overtrain\n",
        "        self.dropout1 = nn.Dropout(0.25)\n",
        "        self.dropout2 = nn.Dropout(0.5)\n",
        "\n",
        "        # flattened images after pooling, 12x12x64=9216\n",
        "        self.fc1 = nn.Linear(\n",
        "            in_features=9216,\n",
        "            out_features=128\n",
        "        )\n",
        "        self.fc2 = nn.Linear(\n",
        "            in_features=128,\n",
        "            out_features=10\n",
        "        )\n",
        "\n",
        "    def forward(self, x):\n",
        "        # apply convolutional layers\n",
        "        x = self.conv1(x)\n",
        "        # input images are (batch_size, 1, 28, 28)\n",
        "        # (1 input feature) x (32 output features) = 32 filters\n",
        "        # each 3x3 filter reduces the pixel dimensions from (28,28) to (26, 26)\n",
        "        # at output we expect (batch_size, 32, 26, 26)\n",
        "        x = F.relu(x)\n",
        "        x = self.conv2(x)\n",
        "        # output from conv1 has shape (batch_size, 32, 26, 26)\n",
        "        # (32 input features) x (64 output features) = 2048 filters created\n",
        "        # each 3x3 filter reduces te pixel dimensions from (26,26) to (24,24)\n",
        "        # at output we expect (batch_size, 64, 24, 24)\n",
        "        x = F.relu(x)\n",
        "        x = F.max_pool2d(x, kernel_size=2)\n",
        "        # maxpooling operator with kernel_size=stride=2\n",
        "        # reduces the pixel dimensions to (24/2, 24/2) = (12, 12)\n",
        "        # at output we expect (batch_size, 64, 12, 12)\n",
        "        x = self.dropout1(x)\n",
        "        # flatten and feed to a NN\n",
        "        x = torch.flatten(x, 1)\n",
        "        # 64x12x12=9216 features fed to fc1\n",
        "        x = self.fc1(x)\n",
        "        x = F.relu(x)\n",
        "        x = self.dropout2(x)\n",
        "        x = self.fc2(x)\n",
        "        output = F.log_softmax(x, dim=1) # log_softmax + nll_loss = cross entropy loss\n",
        "        return output"
      ],
      "metadata": {
        "id": "HYNJjPkeB4Rj"
      },
      "execution_count": 13,
      "outputs": []
    },
    {
      "cell_type": "markdown",
      "source": [
        "Instantiate the network and move it to the device (which is a GPU when available). Create the optimizer."
      ],
      "metadata": {
        "id": "QVGbz36OuS8O"
      }
    },
    {
      "cell_type": "code",
      "source": [
        "model = Net().to(device)\n",
        "optimizer = optim.Adadelta(model.parameters(), lr=1.0)"
      ],
      "metadata": {
        "id": "tvkGwJD_JGEY"
      },
      "execution_count": 14,
      "outputs": []
    },
    {
      "cell_type": "code",
      "source": [
        "from torchsummary import summary\n",
        "summary(model, input_size=(1, 28, 28))"
      ],
      "metadata": {
        "id": "kTfbe4QKRYLu",
        "colab": {
          "base_uri": "https://localhost:8080/"
        },
        "outputId": "ff8267d0-5eec-4235-dccb-37ed6a41190e"
      },
      "execution_count": 15,
      "outputs": [
        {
          "output_type": "stream",
          "name": "stdout",
          "text": [
            "----------------------------------------------------------------\n",
            "        Layer (type)               Output Shape         Param #\n",
            "================================================================\n",
            "            Conv2d-1           [-1, 32, 26, 26]             320\n",
            "            Conv2d-2           [-1, 64, 24, 24]          18,496\n",
            "           Dropout-3           [-1, 64, 12, 12]               0\n",
            "            Linear-4                  [-1, 128]       1,179,776\n",
            "           Dropout-5                  [-1, 128]               0\n",
            "            Linear-6                   [-1, 10]           1,290\n",
            "================================================================\n",
            "Total params: 1,199,882\n",
            "Trainable params: 1,199,882\n",
            "Non-trainable params: 0\n",
            "----------------------------------------------------------------\n",
            "Input size (MB): 0.00\n",
            "Forward/backward pass size (MB): 0.52\n",
            "Params size (MB): 4.58\n",
            "Estimated Total Size (MB): 5.10\n",
            "----------------------------------------------------------------\n"
          ]
        }
      ]
    },
    {
      "cell_type": "markdown",
      "source": [
        "# Train and Test Methods"
      ],
      "metadata": {
        "id": "KYR03y9dvDEO"
      }
    },
    {
      "cell_type": "code",
      "source": [
        "def train(model, device, train_loader, optimizer, epoch):\n",
        "    model.train() # sets the model in training mode (i.e., dropout enabled)\n",
        "    for batch_idx, (data, target) in enumerate(train_loader):\n",
        "        data, target = data.to(device), target.to(device)\n",
        "        optimizer.zero_grad()\n",
        "        output = model(data)\n",
        "        loss = F.nll_loss(output, target)\n",
        "        loss.backward()\n",
        "        optimizer.step()\n",
        "        if batch_idx % 100 == 0:\n",
        "            print('Train Epoch: {} [{}/{} ({:.0f}%)]\\tLoss: {:.6f}'.format(\n",
        "                epoch, batch_idx * len(data), len(train_loader.dataset),\n",
        "                100. * batch_idx / len(train_loader), loss.item()))"
      ],
      "metadata": {
        "id": "_PrPJRlsCCO5"
      },
      "execution_count": 16,
      "outputs": []
    },
    {
      "cell_type": "code",
      "source": [
        "def test(model, device, test_loader):\n",
        "    model.eval() # sets the model in evaluation mode (i.e., dropout disabled)\n",
        "    test_loss = 0\n",
        "    correct = 0\n",
        "    with torch.no_grad():\n",
        "        for data, target in test_loader:\n",
        "            data, target = data.to(device), target.to(device)\n",
        "            output = model(data)\n",
        "            test_loss += F.nll_loss(output, target, reduction='sum').item()  # sum up batch loss\n",
        "            pred = output.argmax(dim=1, keepdim=True)  # get the index of the max log-probability\n",
        "            correct += pred.eq(target.view_as(pred)).sum().item()\n",
        "\n",
        "    test_loss /= len(test_loader.dataset)\n",
        "\n",
        "    print('\\nTest set: Average loss: {:.4f}, Accuracy: {}/{} ({:.0f}%)\\n'.format(\n",
        "        test_loss, correct, len(test_loader.dataset),\n",
        "        100. * correct / len(test_loader.dataset)))"
      ],
      "metadata": {
        "id": "bns0Q8O-CFVM"
      },
      "execution_count": 17,
      "outputs": []
    },
    {
      "cell_type": "markdown",
      "source": [
        "Train for some number of epochs while reporting the accuracy on the test set periodically:"
      ],
      "metadata": {
        "id": "2Zxo7USTvKMv"
      }
    },
    {
      "cell_type": "code",
      "source": [
        "epochs = 5\n",
        "scheduler = StepLR(optimizer, step_size=1, gamma=0.7)\n",
        "for epoch in range(1, epochs + 1):\n",
        "    train(model, device, train_loader, optimizer, epoch)\n",
        "    test(model, device, test_loader)\n",
        "    scheduler.step()"
      ],
      "metadata": {
        "id": "Yl8Lcz1RJCk9",
        "colab": {
          "base_uri": "https://localhost:8080/"
        },
        "outputId": "b402d685-9df0-43ad-8cab-afdd5bc9bda6"
      },
      "execution_count": 18,
      "outputs": [
        {
          "output_type": "stream",
          "name": "stdout",
          "text": [
            "Train Epoch: 1 [0/60000 (0%)]\tLoss: 2.303002\n",
            "Train Epoch: 1 [6400/60000 (11%)]\tLoss: 0.235444\n",
            "Train Epoch: 1 [12800/60000 (21%)]\tLoss: 0.093324\n",
            "Train Epoch: 1 [19200/60000 (32%)]\tLoss: 0.091235\n",
            "Train Epoch: 1 [25600/60000 (43%)]\tLoss: 0.174501\n",
            "Train Epoch: 1 [32000/60000 (53%)]\tLoss: 0.037191\n",
            "Train Epoch: 1 [38400/60000 (64%)]\tLoss: 0.172091\n",
            "Train Epoch: 1 [44800/60000 (75%)]\tLoss: 0.090374\n",
            "Train Epoch: 1 [51200/60000 (85%)]\tLoss: 0.115071\n",
            "Train Epoch: 1 [57600/60000 (96%)]\tLoss: 0.135946\n",
            "\n",
            "Test set: Average loss: 0.0423, Accuracy: 9854/10000 (99%)\n",
            "\n",
            "Train Epoch: 2 [0/60000 (0%)]\tLoss: 0.083882\n",
            "Train Epoch: 2 [6400/60000 (11%)]\tLoss: 0.070705\n",
            "Train Epoch: 2 [12800/60000 (21%)]\tLoss: 0.003522\n",
            "Train Epoch: 2 [19200/60000 (32%)]\tLoss: 0.038864\n",
            "Train Epoch: 2 [25600/60000 (43%)]\tLoss: 0.063291\n",
            "Train Epoch: 2 [32000/60000 (53%)]\tLoss: 0.015491\n",
            "Train Epoch: 2 [38400/60000 (64%)]\tLoss: 0.114971\n",
            "Train Epoch: 2 [44800/60000 (75%)]\tLoss: 0.231971\n",
            "Train Epoch: 2 [51200/60000 (85%)]\tLoss: 0.020442\n",
            "Train Epoch: 2 [57600/60000 (96%)]\tLoss: 0.013287\n",
            "\n",
            "Test set: Average loss: 0.0390, Accuracy: 9871/10000 (99%)\n",
            "\n",
            "Train Epoch: 3 [0/60000 (0%)]\tLoss: 0.027803\n",
            "Train Epoch: 3 [6400/60000 (11%)]\tLoss: 0.024864\n",
            "Train Epoch: 3 [12800/60000 (21%)]\tLoss: 0.010957\n",
            "Train Epoch: 3 [19200/60000 (32%)]\tLoss: 0.001819\n",
            "Train Epoch: 3 [25600/60000 (43%)]\tLoss: 0.099359\n",
            "Train Epoch: 3 [32000/60000 (53%)]\tLoss: 0.097185\n",
            "Train Epoch: 3 [38400/60000 (64%)]\tLoss: 0.094424\n",
            "Train Epoch: 3 [44800/60000 (75%)]\tLoss: 0.082439\n",
            "Train Epoch: 3 [51200/60000 (85%)]\tLoss: 0.003857\n",
            "Train Epoch: 3 [57600/60000 (96%)]\tLoss: 0.009417\n",
            "\n",
            "Test set: Average loss: 0.0354, Accuracy: 9895/10000 (99%)\n",
            "\n",
            "Train Epoch: 4 [0/60000 (0%)]\tLoss: 0.103240\n",
            "Train Epoch: 4 [6400/60000 (11%)]\tLoss: 0.125715\n",
            "Train Epoch: 4 [12800/60000 (21%)]\tLoss: 0.064834\n",
            "Train Epoch: 4 [19200/60000 (32%)]\tLoss: 0.005740\n",
            "Train Epoch: 4 [25600/60000 (43%)]\tLoss: 0.025495\n",
            "Train Epoch: 4 [32000/60000 (53%)]\tLoss: 0.014650\n",
            "Train Epoch: 4 [38400/60000 (64%)]\tLoss: 0.050106\n",
            "Train Epoch: 4 [44800/60000 (75%)]\tLoss: 0.080830\n",
            "Train Epoch: 4 [51200/60000 (85%)]\tLoss: 0.007329\n",
            "Train Epoch: 4 [57600/60000 (96%)]\tLoss: 0.038212\n",
            "\n",
            "Test set: Average loss: 0.0308, Accuracy: 9898/10000 (99%)\n",
            "\n",
            "Train Epoch: 5 [0/60000 (0%)]\tLoss: 0.060542\n",
            "Train Epoch: 5 [6400/60000 (11%)]\tLoss: 0.134764\n",
            "Train Epoch: 5 [12800/60000 (21%)]\tLoss: 0.042432\n",
            "Train Epoch: 5 [19200/60000 (32%)]\tLoss: 0.006464\n",
            "Train Epoch: 5 [25600/60000 (43%)]\tLoss: 0.082496\n",
            "Train Epoch: 5 [32000/60000 (53%)]\tLoss: 0.003111\n",
            "Train Epoch: 5 [38400/60000 (64%)]\tLoss: 0.005105\n",
            "Train Epoch: 5 [44800/60000 (75%)]\tLoss: 0.023144\n",
            "Train Epoch: 5 [51200/60000 (85%)]\tLoss: 0.007355\n",
            "Train Epoch: 5 [57600/60000 (96%)]\tLoss: 0.040927\n",
            "\n",
            "Test set: Average loss: 0.0283, Accuracy: 9911/10000 (99%)\n",
            "\n"
          ]
        }
      ]
    },
    {
      "cell_type": "code",
      "source": [],
      "metadata": {
        "id": "kQ1vBgwJR3VG"
      },
      "execution_count": null,
      "outputs": []
    }
  ]
}