{
  "cells": [
    {
      "cell_type": "markdown",
      "metadata": {
        "id": "view-in-github",
        "colab_type": "text"
      },
      "source": [
        "<a href=\"https://colab.research.google.com/github/PrincetonUniversity/intro_machine_learning/blob/main/intro_ml_day4_basic_gan_mnist.ipynb\" target=\"_parent\"><img src=\"https://colab.research.google.com/assets/colab-badge.svg\" alt=\"Open In Colab\"/></a>"
      ]
    },
    {
      "cell_type": "markdown",
      "source": [
        "Introduction to Machine Learning\n",
        "\n",
        "Wintersession\n",
        "\n",
        "This notebook is based on [this one](https://https://www.kaggle.com/code/songseungwon/pytorch-gan-basic-tutorial-for-beginner) on Kaggle."
      ],
      "metadata": {
        "id": "megx9P2Vvskc"
      },
      "id": "megx9P2Vvskc"
    },
    {
      "cell_type": "markdown",
      "id": "fiscal-publicity",
      "metadata": {
        "papermill": {
          "duration": 0.066405,
          "end_time": "2021-06-23T15:56:59.994924",
          "exception": false,
          "start_time": "2021-06-23T15:56:59.928519",
          "status": "completed"
        },
        "tags": [],
        "id": "fiscal-publicity"
      },
      "source": [
        "# Generative Adversarial Networks(GAN) - PyTorch Tutorial"
      ]
    },
    {
      "cell_type": "markdown",
      "id": "running-skating",
      "metadata": {
        "execution": {
          "iopub.execute_input": "2021-06-23T15:52:00.243235Z",
          "iopub.status.busy": "2021-06-23T15:52:00.242873Z",
          "iopub.status.idle": "2021-06-23T15:52:00.880086Z",
          "shell.execute_reply": "2021-06-23T15:52:00.879121Z",
          "shell.execute_reply.started": "2021-06-23T15:52:00.243159Z"
        },
        "papermill": {
          "duration": 0.047088,
          "end_time": "2021-06-23T15:57:00.102789",
          "exception": false,
          "start_time": "2021-06-23T15:57:00.055701",
          "status": "completed"
        },
        "tags": [],
        "id": "running-skating"
      },
      "source": [
        "![image](https://img1.daumcdn.net/thumb/R1280x0/?scode=mtistory2&fname=https%3A%2F%2Fblog.kakaocdn.net%2Fdn%2FHwq72%2FbtqAY6E0wYb%2FBFRgtJWTY3Ij9BKks7vsM1%2Fimg.png)"
      ]
    },
    {
      "cell_type": "markdown",
      "id": "saving-chain",
      "metadata": {
        "papermill": {
          "duration": 0.058304,
          "end_time": "2021-06-23T15:57:00.232764",
          "exception": false,
          "start_time": "2021-06-23T15:57:00.174460",
          "status": "completed"
        },
        "tags": [],
        "id": "saving-chain"
      },
      "source": [
        "This kernel is for those new to gan.\n",
        "\n",
        "And It was coded with pytorch, and all the code was converted into the familiar Jupyter notebook form for data analysts and machine learning engineers by referring to the gan official Python code.\n",
        "\n",
        "I hope that many Kaglers will be interested in Generative Adversarial Networks(GAN), and that it will be shared and helpful to more people. So let's get started!"
      ]
    },
    {
      "cell_type": "markdown",
      "id": "italian-ordinance",
      "metadata": {
        "execution": {
          "iopub.execute_input": "2021-06-12T13:11:22.760936Z",
          "iopub.status.busy": "2021-06-12T13:11:22.760514Z",
          "iopub.status.idle": "2021-06-12T13:11:22.773432Z",
          "shell.execute_reply": "2021-06-12T13:11:22.771815Z",
          "shell.execute_reply.started": "2021-06-12T13:11:22.760902Z"
        },
        "papermill": {
          "duration": 0.046821,
          "end_time": "2021-06-23T15:57:00.326810",
          "exception": false,
          "start_time": "2021-06-23T15:57:00.279989",
          "status": "completed"
        },
        "tags": [],
        "id": "italian-ordinance"
      },
      "source": [
        "## MAIN Reference\n",
        "1. [PyTorch-GAN | Github/eriklindernoren | Collection of PyTorch implementations of GAN](https://github.com/sw-song/PyTorch-GAN)\n"
      ]
    },
    {
      "cell_type": "markdown",
      "id": "working-escape",
      "metadata": {
        "papermill": {
          "duration": 0.045072,
          "end_time": "2021-06-23T15:57:00.417804",
          "exception": false,
          "start_time": "2021-06-23T15:57:00.372732",
          "status": "completed"
        },
        "tags": [],
        "id": "working-escape"
      },
      "source": [
        "## Index\n",
        "```\n",
        "Step 1. Import Libraries\n",
        "Step 2. Initial Setting\n",
        "Step 3. Define Generator\n",
        "Step 4. Define Discriminator\n",
        "Step 5. Define Loss Function\n",
        "Step 6. Initialize Generator and Discriminator\n",
        "Step 7. GPU Setting\n",
        "Step 8. Configure Data Loader\n",
        "Step 9. Define Optimizers\n",
        "Step 10. Training\n",
        "```\n",
        "---"
      ]
    },
    {
      "cell_type": "markdown",
      "id": "limited-eligibility",
      "metadata": {
        "papermill": {
          "duration": 0.045384,
          "end_time": "2021-06-23T15:57:00.508717",
          "exception": false,
          "start_time": "2021-06-23T15:57:00.463333",
          "status": "completed"
        },
        "tags": [],
        "id": "limited-eligibility"
      },
      "source": [
        "### Step 1. Import Libraries"
      ]
    },
    {
      "cell_type": "code",
      "execution_count": null,
      "id": "touched-phase",
      "metadata": {
        "execution": {
          "iopub.execute_input": "2021-06-23T15:57:00.611183Z",
          "iopub.status.busy": "2021-06-23T15:57:00.610471Z",
          "iopub.status.idle": "2021-06-23T15:57:02.113220Z",
          "shell.execute_reply": "2021-06-23T15:57:02.114347Z",
          "shell.execute_reply.started": "2021-06-14T10:50:34.767977Z"
        },
        "papermill": {
          "duration": 1.560143,
          "end_time": "2021-06-23T15:57:02.114682",
          "exception": false,
          "start_time": "2021-06-23T15:57:00.554539",
          "status": "completed"
        },
        "tags": [],
        "colab": {
          "base_uri": "https://localhost:8080/"
        },
        "id": "touched-phase",
        "outputId": "478427e4-3597-424a-db4f-81a85956b1b6"
      },
      "outputs": [
        {
          "output_type": "stream",
          "name": "stdout",
          "text": [
            "2.1.0+cu121\n"
          ]
        }
      ],
      "source": [
        "import numpy as np\n",
        "\n",
        "import torchvision.transforms as transforms\n",
        "\n",
        "from torch.utils.data import DataLoader\n",
        "from torchvision import datasets\n",
        "from torch.autograd import Variable\n",
        "\n",
        "import torch.nn as nn\n",
        "import torch.nn.functional as F\n",
        "import torch\n",
        "\n",
        "print(torch.__version__)"
      ]
    },
    {
      "cell_type": "markdown",
      "id": "dramatic-bullet",
      "metadata": {
        "papermill": {
          "duration": 0.058773,
          "end_time": "2021-06-23T15:57:02.254010",
          "exception": false,
          "start_time": "2021-06-23T15:57:02.195237",
          "status": "completed"
        },
        "tags": [],
        "id": "dramatic-bullet"
      },
      "source": [
        "### Step 2. Initial setting"
      ]
    },
    {
      "cell_type": "code",
      "execution_count": null,
      "id": "czech-bahrain",
      "metadata": {
        "execution": {
          "iopub.execute_input": "2021-06-23T15:57:02.350107Z",
          "iopub.status.busy": "2021-06-23T15:57:02.349187Z",
          "iopub.status.idle": "2021-06-23T15:57:02.351947Z",
          "shell.execute_reply": "2021-06-23T15:57:02.351430Z",
          "shell.execute_reply.started": "2021-06-14T10:50:34.774368Z"
        },
        "papermill": {
          "duration": 0.052084,
          "end_time": "2021-06-23T15:57:02.352056",
          "exception": false,
          "start_time": "2021-06-23T15:57:02.299972",
          "status": "completed"
        },
        "tags": [],
        "id": "czech-bahrain"
      },
      "outputs": [],
      "source": [
        "channels = 1 # suggested default : 1, number of image channels (gray scale)\n",
        "img_size = 28 # suggested default : 28, size of each image dimension\n",
        "img_shape = (channels, img_size, img_size) # (Channels, Image Size(H), Image Size(W))"
      ]
    },
    {
      "cell_type": "code",
      "execution_count": null,
      "id": "democratic-magic",
      "metadata": {
        "execution": {
          "iopub.execute_input": "2021-06-23T15:57:02.446628Z",
          "iopub.status.busy": "2021-06-23T15:57:02.446128Z",
          "iopub.status.idle": "2021-06-23T15:57:02.449933Z",
          "shell.execute_reply": "2021-06-23T15:57:02.449517Z",
          "shell.execute_reply.started": "2021-06-14T10:50:34.790593Z"
        },
        "papermill": {
          "duration": 0.052767,
          "end_time": "2021-06-23T15:57:02.450049",
          "exception": false,
          "start_time": "2021-06-23T15:57:02.397282",
          "status": "completed"
        },
        "tags": [],
        "id": "democratic-magic"
      },
      "outputs": [],
      "source": [
        "latent_dim = 100 # suggested default. dimensionality of the latent space"
      ]
    },
    {
      "cell_type": "code",
      "execution_count": null,
      "id": "olive-driving",
      "metadata": {
        "execution": {
          "iopub.execute_input": "2021-06-23T15:57:02.588494Z",
          "iopub.status.busy": "2021-06-23T15:57:02.587765Z",
          "iopub.status.idle": "2021-06-23T15:57:02.591612Z",
          "shell.execute_reply": "2021-06-23T15:57:02.590802Z",
          "shell.execute_reply.started": "2021-06-14T10:50:34.798688Z"
        },
        "papermill": {
          "duration": 0.09587,
          "end_time": "2021-06-23T15:57:02.591735",
          "exception": false,
          "start_time": "2021-06-23T15:57:02.495865",
          "status": "completed"
        },
        "tags": [],
        "colab": {
          "base_uri": "https://localhost:8080/"
        },
        "id": "olive-driving",
        "outputId": "082cb05a-d43d-4221-ba36-f2e3e30ac48d"
      },
      "outputs": [
        {
          "output_type": "stream",
          "name": "stdout",
          "text": [
            "True\n"
          ]
        }
      ],
      "source": [
        "cuda = True if torch.cuda.is_available() else False # GPU Setting\n",
        "print(cuda)"
      ]
    },
    {
      "cell_type": "markdown",
      "id": "compressed-employer",
      "metadata": {
        "papermill": {
          "duration": 0.044867,
          "end_time": "2021-06-23T15:57:02.682618",
          "exception": false,
          "start_time": "2021-06-23T15:57:02.637751",
          "status": "completed"
        },
        "tags": [],
        "id": "compressed-employer"
      },
      "source": [
        "### Step 3. Define Generator"
      ]
    },
    {
      "cell_type": "code",
      "execution_count": null,
      "id": "random-colorado",
      "metadata": {
        "execution": {
          "iopub.execute_input": "2021-06-23T15:57:02.782455Z",
          "iopub.status.busy": "2021-06-23T15:57:02.781610Z",
          "iopub.status.idle": "2021-06-23T15:57:02.784207Z",
          "shell.execute_reply": "2021-06-23T15:57:02.783774Z",
          "shell.execute_reply.started": "2021-06-14T10:50:34.806487Z"
        },
        "papermill": {
          "duration": 0.056433,
          "end_time": "2021-06-23T15:57:02.784323",
          "exception": false,
          "start_time": "2021-06-23T15:57:02.727890",
          "status": "completed"
        },
        "tags": [],
        "id": "random-colorado"
      },
      "outputs": [],
      "source": [
        "class Generator(nn.Module):\n",
        "    def __init__(self):\n",
        "        super(Generator, self).__init__()\n",
        "\n",
        "        def block(input_features, output_features, normalize=True):\n",
        "            layers = [nn.Linear(input_features, output_features)]\n",
        "            if normalize: # Default\n",
        "                layers.append(nn.BatchNorm1d(output_features, 0.8))\n",
        "            layers.append(nn.LeakyReLU(0.2, inplace=True)) # inplace=True : modify the input directly. It can slightly decrease the memory usage.\n",
        "            return layers # return list of layers\n",
        "\n",
        "        self.model = nn.Sequential(\n",
        "            *block(latent_dim, 128, normalize=False), # Asterisk('*') in front of block means unpacking list of layers - leave only values(layers) in list\n",
        "            *block(128, 256),\n",
        "            *block(256, 512),\n",
        "            *block(512, 1024),\n",
        "            nn.Linear(1024, int(np.prod(img_shape))), # np.prod(1, 28, 28) == 1*28*28\n",
        "            nn.Tanh() # result : from -1 to 1\n",
        "        )\n",
        "\n",
        "    def forward(self, z): # z == latent vector(random input vector)\n",
        "        img = self.model(z) # (64, 100) --(model)--> (64, 784)\n",
        "        img = img.view(img.size(0), *img_shape) # img.size(0) == N(Batch Size), (N, C, H, W) == default --> (64, 1, 28, 28)\n",
        "        return img"
      ]
    },
    {
      "cell_type": "markdown",
      "id": "subject-furniture",
      "metadata": {
        "papermill": {
          "duration": 0.046588,
          "end_time": "2021-06-23T15:57:02.876852",
          "exception": false,
          "start_time": "2021-06-23T15:57:02.830264",
          "status": "completed"
        },
        "tags": [],
        "id": "subject-furniture"
      },
      "source": [
        "> Read More\n",
        "- [What is the difference between nn.ReLU() and nn.ReLU(inplace=True)?](https://discuss.pytorch.org/t/whats-the-difference-between-nn-relu-and-nn-relu-inplace-true/948)\n",
        "- [Tanh](https://wiki.documentfoundation.org/Documentation/Calc_Functions/TANH)\n",
        "- [Unpacking Operators in Python](https://towardsdatascience.com/unpacking-operators-in-python-306ae44cd480)"
      ]
    },
    {
      "cell_type": "markdown",
      "id": "familiar-situation",
      "metadata": {
        "papermill": {
          "duration": 0.045691,
          "end_time": "2021-06-23T15:57:02.968902",
          "exception": false,
          "start_time": "2021-06-23T15:57:02.923211",
          "status": "completed"
        },
        "tags": [],
        "id": "familiar-situation"
      },
      "source": [
        "### Step 4. Define Discriminator"
      ]
    },
    {
      "cell_type": "code",
      "execution_count": null,
      "id": "objective-syndicate",
      "metadata": {
        "execution": {
          "iopub.execute_input": "2021-06-23T15:57:03.066394Z",
          "iopub.status.busy": "2021-06-23T15:57:03.065562Z",
          "iopub.status.idle": "2021-06-23T15:57:03.067715Z",
          "shell.execute_reply": "2021-06-23T15:57:03.068159Z",
          "shell.execute_reply.started": "2021-06-14T10:50:34.817193Z"
        },
        "papermill": {
          "duration": 0.054014,
          "end_time": "2021-06-23T15:57:03.068291",
          "exception": false,
          "start_time": "2021-06-23T15:57:03.014277",
          "status": "completed"
        },
        "tags": [],
        "id": "objective-syndicate"
      },
      "outputs": [],
      "source": [
        "class Discriminator(nn.Module):\n",
        "    def __init__(self):\n",
        "        super(Discriminator, self).__init__()\n",
        "\n",
        "        self.model = nn.Sequential(\n",
        "            nn.Linear(int(np.prod(img_shape)), 512), # (28*28, 512)\n",
        "            nn.LeakyReLU(0.2, inplace=True),\n",
        "            nn.Linear(512, 256),\n",
        "            nn.LeakyReLU(0.2, inplace=True),\n",
        "            nn.Linear(256, 1),\n",
        "            nn.Sigmoid() # result : from 0 to 1\n",
        "        )\n",
        "\n",
        "    def forward(self, img):\n",
        "        img_flat = img.view(img.size(0), -1) #flatten -> from (64, 1, 28, 28) to (64, 1*28*28)\n",
        "        validity = self.model(img_flat) # Discriminate -> Real? or Fake? (64, 784) -> (64, 1)\n",
        "        return validity"
      ]
    },
    {
      "cell_type": "markdown",
      "id": "coral-parliament",
      "metadata": {
        "execution": {
          "iopub.execute_input": "2021-06-12T15:28:58.41829Z",
          "iopub.status.busy": "2021-06-12T15:28:58.41792Z",
          "iopub.status.idle": "2021-06-12T15:28:58.423679Z",
          "shell.execute_reply": "2021-06-12T15:28:58.422442Z",
          "shell.execute_reply.started": "2021-06-12T15:28:58.418256Z"
        },
        "papermill": {
          "duration": 0.045437,
          "end_time": "2021-06-23T15:57:03.159718",
          "exception": false,
          "start_time": "2021-06-23T15:57:03.114281",
          "status": "completed"
        },
        "tags": [],
        "id": "coral-parliament"
      },
      "source": [
        "> Read More\n",
        "- [Sigmoid](https://en.wikipedia.org/wiki/Sigmoid_function)\n",
        "- [pytorch in x = x.view (x.size (0), -1) understanding](https://www.programmersought.com/article/11412923760/)"
      ]
    },
    {
      "cell_type": "markdown",
      "id": "complicated-macintosh",
      "metadata": {
        "papermill": {
          "duration": 0.045784,
          "end_time": "2021-06-23T15:57:03.251043",
          "exception": false,
          "start_time": "2021-06-23T15:57:03.205259",
          "status": "completed"
        },
        "tags": [],
        "id": "complicated-macintosh"
      },
      "source": [
        "### Step 5. Define Loss Function"
      ]
    },
    {
      "cell_type": "code",
      "execution_count": null,
      "id": "written-somalia",
      "metadata": {
        "execution": {
          "iopub.execute_input": "2021-06-23T15:57:03.347106Z",
          "iopub.status.busy": "2021-06-23T15:57:03.345816Z",
          "iopub.status.idle": "2021-06-23T15:57:03.348025Z",
          "shell.execute_reply": "2021-06-23T15:57:03.348497Z",
          "shell.execute_reply.started": "2021-06-14T10:50:34.829386Z"
        },
        "papermill": {
          "duration": 0.052019,
          "end_time": "2021-06-23T15:57:03.348632",
          "exception": false,
          "start_time": "2021-06-23T15:57:03.296613",
          "status": "completed"
        },
        "tags": [],
        "id": "written-somalia"
      },
      "outputs": [],
      "source": [
        "adversarial_loss = torch.nn.BCELoss()"
      ]
    },
    {
      "cell_type": "markdown",
      "id": "selective-lloyd",
      "metadata": {
        "papermill": {
          "duration": 0.044943,
          "end_time": "2021-06-23T15:57:03.438981",
          "exception": false,
          "start_time": "2021-06-23T15:57:03.394038",
          "status": "completed"
        },
        "tags": [],
        "id": "selective-lloyd"
      },
      "source": [
        "> Read More\n",
        "- [BCELoss(Binary Cross Entropy Loss)](https://pytorch.org/docs/stable/generated/torch.nn.BCELoss.html)"
      ]
    },
    {
      "cell_type": "markdown",
      "id": "supreme-massage",
      "metadata": {
        "papermill": {
          "duration": 0.045278,
          "end_time": "2021-06-23T15:57:03.529404",
          "exception": false,
          "start_time": "2021-06-23T15:57:03.484126",
          "status": "completed"
        },
        "tags": [],
        "id": "supreme-massage"
      },
      "source": [
        "### Step 6. Initialize generator and Discriminator"
      ]
    },
    {
      "cell_type": "code",
      "execution_count": null,
      "id": "disciplinary-guitar",
      "metadata": {
        "execution": {
          "iopub.execute_input": "2021-06-23T15:57:03.625788Z",
          "iopub.status.busy": "2021-06-23T15:57:03.625261Z",
          "iopub.status.idle": "2021-06-23T15:57:03.672743Z",
          "shell.execute_reply": "2021-06-23T15:57:03.672285Z",
          "shell.execute_reply.started": "2021-06-14T10:50:34.837328Z"
        },
        "papermill": {
          "duration": 0.097554,
          "end_time": "2021-06-23T15:57:03.672851",
          "exception": false,
          "start_time": "2021-06-23T15:57:03.575297",
          "status": "completed"
        },
        "tags": [],
        "id": "disciplinary-guitar"
      },
      "outputs": [],
      "source": [
        "generator = Generator()\n",
        "discriminator = Discriminator()"
      ]
    },
    {
      "cell_type": "code",
      "execution_count": null,
      "id": "matched-glory",
      "metadata": {
        "execution": {
          "iopub.execute_input": "2021-06-23T15:57:03.771613Z",
          "iopub.status.busy": "2021-06-23T15:57:03.771096Z",
          "iopub.status.idle": "2021-06-23T15:57:03.776993Z",
          "shell.execute_reply": "2021-06-23T15:57:03.776590Z",
          "shell.execute_reply.started": "2021-06-14T10:50:34.886549Z"
        },
        "papermill": {
          "duration": 0.058138,
          "end_time": "2021-06-23T15:57:03.777110",
          "exception": false,
          "start_time": "2021-06-23T15:57:03.718972",
          "status": "completed"
        },
        "tags": [],
        "colab": {
          "base_uri": "https://localhost:8080/"
        },
        "id": "matched-glory",
        "outputId": "f2bcaac1-4bb9-42c1-faee-b17f36ce4f8d"
      },
      "outputs": [
        {
          "output_type": "execute_result",
          "data": {
            "text/plain": [
              "Generator(\n",
              "  (model): Sequential(\n",
              "    (0): Linear(in_features=100, out_features=128, bias=True)\n",
              "    (1): LeakyReLU(negative_slope=0.2, inplace=True)\n",
              "    (2): Linear(in_features=128, out_features=256, bias=True)\n",
              "    (3): BatchNorm1d(256, eps=0.8, momentum=0.1, affine=True, track_running_stats=True)\n",
              "    (4): LeakyReLU(negative_slope=0.2, inplace=True)\n",
              "    (5): Linear(in_features=256, out_features=512, bias=True)\n",
              "    (6): BatchNorm1d(512, eps=0.8, momentum=0.1, affine=True, track_running_stats=True)\n",
              "    (7): LeakyReLU(negative_slope=0.2, inplace=True)\n",
              "    (8): Linear(in_features=512, out_features=1024, bias=True)\n",
              "    (9): BatchNorm1d(1024, eps=0.8, momentum=0.1, affine=True, track_running_stats=True)\n",
              "    (10): LeakyReLU(negative_slope=0.2, inplace=True)\n",
              "    (11): Linear(in_features=1024, out_features=784, bias=True)\n",
              "    (12): Tanh()\n",
              "  )\n",
              ")"
            ]
          },
          "metadata": {},
          "execution_count": 9
        }
      ],
      "source": [
        "generator"
      ]
    },
    {
      "cell_type": "code",
      "execution_count": null,
      "id": "fewer-wilson",
      "metadata": {
        "execution": {
          "iopub.execute_input": "2021-06-23T15:57:03.873395Z",
          "iopub.status.busy": "2021-06-23T15:57:03.872652Z",
          "iopub.status.idle": "2021-06-23T15:57:03.876145Z",
          "shell.execute_reply": "2021-06-23T15:57:03.875736Z",
          "shell.execute_reply.started": "2021-06-14T10:50:34.893087Z"
        },
        "papermill": {
          "duration": 0.053415,
          "end_time": "2021-06-23T15:57:03.876259",
          "exception": false,
          "start_time": "2021-06-23T15:57:03.822844",
          "status": "completed"
        },
        "tags": [],
        "colab": {
          "base_uri": "https://localhost:8080/"
        },
        "id": "fewer-wilson",
        "outputId": "f0f607d8-f74b-4d22-8175-1c36d73be0ee"
      },
      "outputs": [
        {
          "output_type": "execute_result",
          "data": {
            "text/plain": [
              "Discriminator(\n",
              "  (model): Sequential(\n",
              "    (0): Linear(in_features=784, out_features=512, bias=True)\n",
              "    (1): LeakyReLU(negative_slope=0.2, inplace=True)\n",
              "    (2): Linear(in_features=512, out_features=256, bias=True)\n",
              "    (3): LeakyReLU(negative_slope=0.2, inplace=True)\n",
              "    (4): Linear(in_features=256, out_features=1, bias=True)\n",
              "    (5): Sigmoid()\n",
              "  )\n",
              ")"
            ]
          },
          "metadata": {},
          "execution_count": 10
        }
      ],
      "source": [
        "discriminator"
      ]
    },
    {
      "cell_type": "markdown",
      "id": "suitable-panama",
      "metadata": {
        "papermill": {
          "duration": 0.045553,
          "end_time": "2021-06-23T15:57:03.968175",
          "exception": false,
          "start_time": "2021-06-23T15:57:03.922622",
          "status": "completed"
        },
        "tags": [],
        "id": "suitable-panama"
      },
      "source": [
        "### Step 7. GPU Setting"
      ]
    },
    {
      "cell_type": "code",
      "execution_count": null,
      "id": "radical-paraguay",
      "metadata": {
        "execution": {
          "iopub.execute_input": "2021-06-23T15:57:04.068403Z",
          "iopub.status.busy": "2021-06-23T15:57:04.067666Z",
          "iopub.status.idle": "2021-06-23T15:57:08.470553Z",
          "shell.execute_reply": "2021-06-23T15:57:08.470110Z",
          "shell.execute_reply.started": "2021-06-14T10:50:34.905437Z"
        },
        "papermill": {
          "duration": 4.456583,
          "end_time": "2021-06-23T15:57:08.470678",
          "exception": false,
          "start_time": "2021-06-23T15:57:04.014095",
          "status": "completed"
        },
        "tags": [],
        "id": "radical-paraguay"
      },
      "outputs": [],
      "source": [
        "if cuda:\n",
        "    generator.cuda()\n",
        "    discriminator.cuda()\n",
        "    adversarial_loss.cuda()"
      ]
    },
    {
      "cell_type": "markdown",
      "id": "distributed-subcommittee",
      "metadata": {
        "papermill": {
          "duration": 0.046577,
          "end_time": "2021-06-23T15:57:08.564572",
          "exception": false,
          "start_time": "2021-06-23T15:57:08.517995",
          "status": "completed"
        },
        "tags": [],
        "id": "distributed-subcommittee"
      },
      "source": [
        "### Step 8. Configure Data Loader"
      ]
    },
    {
      "cell_type": "markdown",
      "id": "dried-quarter",
      "metadata": {
        "papermill": {
          "duration": 0.045862,
          "end_time": "2021-06-23T15:57:08.656938",
          "exception": false,
          "start_time": "2021-06-23T15:57:08.611076",
          "status": "completed"
        },
        "tags": [],
        "id": "dried-quarter"
      },
      "source": [
        "Since we use the Kaggle dataset, it is necessary to read the csv file and convert it into an image format.\n",
        "\n",
        "\n",
        "For the code to load and convert Kaggle MNIST data, I referred to [Pytorch Dataset and DataLoader](https://www.kaggle.com/pinocookie/pytorch-dataset-and-dataloader).\n"
      ]
    },
    {
      "cell_type": "code",
      "execution_count": null,
      "id": "personalized-positive",
      "metadata": {
        "execution": {
          "iopub.execute_input": "2021-06-23T15:57:08.754356Z",
          "iopub.status.busy": "2021-06-23T15:57:08.752966Z",
          "iopub.status.idle": "2021-06-23T15:57:08.755497Z",
          "shell.execute_reply": "2021-06-23T15:57:08.755921Z",
          "shell.execute_reply.started": "2021-06-14T10:50:34.916768Z"
        },
        "papermill": {
          "duration": 0.052988,
          "end_time": "2021-06-23T15:57:08.756055",
          "exception": false,
          "start_time": "2021-06-23T15:57:08.703067",
          "status": "completed"
        },
        "tags": [],
        "id": "personalized-positive"
      },
      "outputs": [],
      "source": [
        "import pandas as pd\n",
        "from torch.utils.data import Dataset"
      ]
    },
    {
      "cell_type": "code",
      "execution_count": null,
      "id": "placed-stroke",
      "metadata": {
        "execution": {
          "iopub.execute_input": "2021-06-23T15:57:08.856128Z",
          "iopub.status.busy": "2021-06-23T15:57:08.855252Z",
          "iopub.status.idle": "2021-06-23T15:57:08.857804Z",
          "shell.execute_reply": "2021-06-23T15:57:08.857416Z",
          "shell.execute_reply.started": "2021-06-14T10:50:34.922514Z"
        },
        "papermill": {
          "duration": 0.055687,
          "end_time": "2021-06-23T15:57:08.857927",
          "exception": false,
          "start_time": "2021-06-23T15:57:08.802240",
          "status": "completed"
        },
        "tags": [],
        "id": "placed-stroke"
      },
      "outputs": [],
      "source": [
        "class DatasetMNIST(Dataset): # inherit abstract class - 'Dataset'\n",
        "\n",
        "    def __init__(self, file_path, transform=None):\n",
        "        self.data = pd.read_csv(file_path)\n",
        "        self.transform = transform\n",
        "\n",
        "    def __len__(self):\n",
        "        return len(self.data)\n",
        "\n",
        "    def __getitem__(self, index):\n",
        "        # load image ad ndarray type (H, W, C)\n",
        "        # be carefull for converting dtype to np.uint8 (Unsigned integer (0 to 255))\n",
        "        # in this example, We use ToTensor(), so we define the numpy array like (H, W, C)\n",
        "\n",
        "        image = self.data.iloc[index, 1:].values.astype(np.uint8).reshape((28,28,1))\n",
        "        label = self.data.iloc[index, 0]\n",
        "        if self.transform is not None:\n",
        "            image = self.transform(image)\n",
        "\n",
        "        return image, label\n"
      ]
    },
    {
      "cell_type": "markdown",
      "id": "narrative-architecture",
      "metadata": {
        "execution": {
          "iopub.execute_input": "2021-06-12T16:15:39.239996Z",
          "iopub.status.busy": "2021-06-12T16:15:39.2396Z",
          "iopub.status.idle": "2021-06-12T16:15:39.246142Z",
          "shell.execute_reply": "2021-06-12T16:15:39.244583Z",
          "shell.execute_reply.started": "2021-06-12T16:15:39.239968Z"
        },
        "papermill": {
          "duration": 0.045823,
          "end_time": "2021-06-23T15:57:08.950198",
          "exception": false,
          "start_time": "2021-06-23T15:57:08.904375",
          "status": "completed"
        },
        "tags": [],
        "id": "narrative-architecture"
      },
      "source": [
        "> TEST CODE : Read CSV file"
      ]
    },
    {
      "cell_type": "code",
      "source": [
        "!pwd"
      ],
      "metadata": {
        "colab": {
          "base_uri": "https://localhost:8080/"
        },
        "id": "diHk_u3f0K9t",
        "outputId": "cd0658c1-49d2-402d-eabc-9b0d974c4bb2"
      },
      "id": "diHk_u3f0K9t",
      "execution_count": null,
      "outputs": [
        {
          "output_type": "stream",
          "name": "stdout",
          "text": [
            "/content\n"
          ]
        }
      ]
    },
    {
      "cell_type": "code",
      "execution_count": null,
      "id": "massive-temperature",
      "metadata": {
        "execution": {
          "iopub.execute_input": "2021-06-23T15:57:09.051423Z",
          "iopub.status.busy": "2021-06-23T15:57:09.050848Z",
          "iopub.status.idle": "2021-06-23T15:57:11.996080Z",
          "shell.execute_reply": "2021-06-23T15:57:11.995199Z",
          "shell.execute_reply.started": "2021-06-14T10:50:34.932828Z"
        },
        "papermill": {
          "duration": 2.999481,
          "end_time": "2021-06-23T15:57:11.996219",
          "exception": false,
          "start_time": "2021-06-23T15:57:08.996738",
          "status": "completed"
        },
        "tags": [],
        "id": "massive-temperature"
      },
      "outputs": [],
      "source": [
        "# train.csv is 74 MB\n",
        "# data taken from https://www.kaggle.com/code/songseungwon/pytorch-gan-basic-tutorial-for-beginner/input\n",
        "train = pd.read_csv('https://tigress-web.princeton.edu/~jdh4/intro_ml/gan/train.csv')"
      ]
    },
    {
      "cell_type": "code",
      "execution_count": null,
      "id": "christian-population",
      "metadata": {
        "execution": {
          "iopub.execute_input": "2021-06-23T15:57:12.097861Z",
          "iopub.status.busy": "2021-06-23T15:57:12.097079Z",
          "iopub.status.idle": "2021-06-23T15:57:12.121115Z",
          "shell.execute_reply": "2021-06-23T15:57:12.121511Z",
          "shell.execute_reply.started": "2021-06-14T10:50:36.997167Z"
        },
        "papermill": {
          "duration": 0.07898,
          "end_time": "2021-06-23T15:57:12.121642",
          "exception": false,
          "start_time": "2021-06-23T15:57:12.042662",
          "status": "completed"
        },
        "tags": [],
        "colab": {
          "base_uri": "https://localhost:8080/",
          "height": 443
        },
        "id": "christian-population",
        "outputId": "711c14ea-a04d-468a-f046-139171bf37f3"
      },
      "outputs": [
        {
          "output_type": "execute_result",
          "data": {
            "text/plain": [
              "       label  pixel0  pixel1  pixel2  pixel3  pixel4  pixel5  pixel6  pixel7  \\\n",
              "0          1       0       0       0       0       0       0       0       0   \n",
              "1          0       0       0       0       0       0       0       0       0   \n",
              "2          1       0       0       0       0       0       0       0       0   \n",
              "3          4       0       0       0       0       0       0       0       0   \n",
              "4          0       0       0       0       0       0       0       0       0   \n",
              "...      ...     ...     ...     ...     ...     ...     ...     ...     ...   \n",
              "41995      0       0       0       0       0       0       0       0       0   \n",
              "41996      1       0       0       0       0       0       0       0       0   \n",
              "41997      7       0       0       0       0       0       0       0       0   \n",
              "41998      6       0       0       0       0       0       0       0       0   \n",
              "41999      9       0       0       0       0       0       0       0       0   \n",
              "\n",
              "       pixel8  ...  pixel774  pixel775  pixel776  pixel777  pixel778  \\\n",
              "0           0  ...         0         0         0         0         0   \n",
              "1           0  ...         0         0         0         0         0   \n",
              "2           0  ...         0         0         0         0         0   \n",
              "3           0  ...         0         0         0         0         0   \n",
              "4           0  ...         0         0         0         0         0   \n",
              "...       ...  ...       ...       ...       ...       ...       ...   \n",
              "41995       0  ...         0         0         0         0         0   \n",
              "41996       0  ...         0         0         0         0         0   \n",
              "41997       0  ...         0         0         0         0         0   \n",
              "41998       0  ...         0         0         0         0         0   \n",
              "41999       0  ...         0         0         0         0         0   \n",
              "\n",
              "       pixel779  pixel780  pixel781  pixel782  pixel783  \n",
              "0             0         0         0         0         0  \n",
              "1             0         0         0         0         0  \n",
              "2             0         0         0         0         0  \n",
              "3             0         0         0         0         0  \n",
              "4             0         0         0         0         0  \n",
              "...         ...       ...       ...       ...       ...  \n",
              "41995         0         0         0         0         0  \n",
              "41996         0         0         0         0         0  \n",
              "41997         0         0         0         0         0  \n",
              "41998         0         0         0         0         0  \n",
              "41999         0         0         0         0         0  \n",
              "\n",
              "[42000 rows x 785 columns]"
            ],
            "text/html": [
              "\n",
              "  <div id=\"df-d3299fbd-73e0-4afb-adb7-961d47623b8e\" class=\"colab-df-container\">\n",
              "    <div>\n",
              "<style scoped>\n",
              "    .dataframe tbody tr th:only-of-type {\n",
              "        vertical-align: middle;\n",
              "    }\n",
              "\n",
              "    .dataframe tbody tr th {\n",
              "        vertical-align: top;\n",
              "    }\n",
              "\n",
              "    .dataframe thead th {\n",
              "        text-align: right;\n",
              "    }\n",
              "</style>\n",
              "<table border=\"1\" class=\"dataframe\">\n",
              "  <thead>\n",
              "    <tr style=\"text-align: right;\">\n",
              "      <th></th>\n",
              "      <th>label</th>\n",
              "      <th>pixel0</th>\n",
              "      <th>pixel1</th>\n",
              "      <th>pixel2</th>\n",
              "      <th>pixel3</th>\n",
              "      <th>pixel4</th>\n",
              "      <th>pixel5</th>\n",
              "      <th>pixel6</th>\n",
              "      <th>pixel7</th>\n",
              "      <th>pixel8</th>\n",
              "      <th>...</th>\n",
              "      <th>pixel774</th>\n",
              "      <th>pixel775</th>\n",
              "      <th>pixel776</th>\n",
              "      <th>pixel777</th>\n",
              "      <th>pixel778</th>\n",
              "      <th>pixel779</th>\n",
              "      <th>pixel780</th>\n",
              "      <th>pixel781</th>\n",
              "      <th>pixel782</th>\n",
              "      <th>pixel783</th>\n",
              "    </tr>\n",
              "  </thead>\n",
              "  <tbody>\n",
              "    <tr>\n",
              "      <th>0</th>\n",
              "      <td>1</td>\n",
              "      <td>0</td>\n",
              "      <td>0</td>\n",
              "      <td>0</td>\n",
              "      <td>0</td>\n",
              "      <td>0</td>\n",
              "      <td>0</td>\n",
              "      <td>0</td>\n",
              "      <td>0</td>\n",
              "      <td>0</td>\n",
              "      <td>...</td>\n",
              "      <td>0</td>\n",
              "      <td>0</td>\n",
              "      <td>0</td>\n",
              "      <td>0</td>\n",
              "      <td>0</td>\n",
              "      <td>0</td>\n",
              "      <td>0</td>\n",
              "      <td>0</td>\n",
              "      <td>0</td>\n",
              "      <td>0</td>\n",
              "    </tr>\n",
              "    <tr>\n",
              "      <th>1</th>\n",
              "      <td>0</td>\n",
              "      <td>0</td>\n",
              "      <td>0</td>\n",
              "      <td>0</td>\n",
              "      <td>0</td>\n",
              "      <td>0</td>\n",
              "      <td>0</td>\n",
              "      <td>0</td>\n",
              "      <td>0</td>\n",
              "      <td>0</td>\n",
              "      <td>...</td>\n",
              "      <td>0</td>\n",
              "      <td>0</td>\n",
              "      <td>0</td>\n",
              "      <td>0</td>\n",
              "      <td>0</td>\n",
              "      <td>0</td>\n",
              "      <td>0</td>\n",
              "      <td>0</td>\n",
              "      <td>0</td>\n",
              "      <td>0</td>\n",
              "    </tr>\n",
              "    <tr>\n",
              "      <th>2</th>\n",
              "      <td>1</td>\n",
              "      <td>0</td>\n",
              "      <td>0</td>\n",
              "      <td>0</td>\n",
              "      <td>0</td>\n",
              "      <td>0</td>\n",
              "      <td>0</td>\n",
              "      <td>0</td>\n",
              "      <td>0</td>\n",
              "      <td>0</td>\n",
              "      <td>...</td>\n",
              "      <td>0</td>\n",
              "      <td>0</td>\n",
              "      <td>0</td>\n",
              "      <td>0</td>\n",
              "      <td>0</td>\n",
              "      <td>0</td>\n",
              "      <td>0</td>\n",
              "      <td>0</td>\n",
              "      <td>0</td>\n",
              "      <td>0</td>\n",
              "    </tr>\n",
              "    <tr>\n",
              "      <th>3</th>\n",
              "      <td>4</td>\n",
              "      <td>0</td>\n",
              "      <td>0</td>\n",
              "      <td>0</td>\n",
              "      <td>0</td>\n",
              "      <td>0</td>\n",
              "      <td>0</td>\n",
              "      <td>0</td>\n",
              "      <td>0</td>\n",
              "      <td>0</td>\n",
              "      <td>...</td>\n",
              "      <td>0</td>\n",
              "      <td>0</td>\n",
              "      <td>0</td>\n",
              "      <td>0</td>\n",
              "      <td>0</td>\n",
              "      <td>0</td>\n",
              "      <td>0</td>\n",
              "      <td>0</td>\n",
              "      <td>0</td>\n",
              "      <td>0</td>\n",
              "    </tr>\n",
              "    <tr>\n",
              "      <th>4</th>\n",
              "      <td>0</td>\n",
              "      <td>0</td>\n",
              "      <td>0</td>\n",
              "      <td>0</td>\n",
              "      <td>0</td>\n",
              "      <td>0</td>\n",
              "      <td>0</td>\n",
              "      <td>0</td>\n",
              "      <td>0</td>\n",
              "      <td>0</td>\n",
              "      <td>...</td>\n",
              "      <td>0</td>\n",
              "      <td>0</td>\n",
              "      <td>0</td>\n",
              "      <td>0</td>\n",
              "      <td>0</td>\n",
              "      <td>0</td>\n",
              "      <td>0</td>\n",
              "      <td>0</td>\n",
              "      <td>0</td>\n",
              "      <td>0</td>\n",
              "    </tr>\n",
              "    <tr>\n",
              "      <th>...</th>\n",
              "      <td>...</td>\n",
              "      <td>...</td>\n",
              "      <td>...</td>\n",
              "      <td>...</td>\n",
              "      <td>...</td>\n",
              "      <td>...</td>\n",
              "      <td>...</td>\n",
              "      <td>...</td>\n",
              "      <td>...</td>\n",
              "      <td>...</td>\n",
              "      <td>...</td>\n",
              "      <td>...</td>\n",
              "      <td>...</td>\n",
              "      <td>...</td>\n",
              "      <td>...</td>\n",
              "      <td>...</td>\n",
              "      <td>...</td>\n",
              "      <td>...</td>\n",
              "      <td>...</td>\n",
              "      <td>...</td>\n",
              "      <td>...</td>\n",
              "    </tr>\n",
              "    <tr>\n",
              "      <th>41995</th>\n",
              "      <td>0</td>\n",
              "      <td>0</td>\n",
              "      <td>0</td>\n",
              "      <td>0</td>\n",
              "      <td>0</td>\n",
              "      <td>0</td>\n",
              "      <td>0</td>\n",
              "      <td>0</td>\n",
              "      <td>0</td>\n",
              "      <td>0</td>\n",
              "      <td>...</td>\n",
              "      <td>0</td>\n",
              "      <td>0</td>\n",
              "      <td>0</td>\n",
              "      <td>0</td>\n",
              "      <td>0</td>\n",
              "      <td>0</td>\n",
              "      <td>0</td>\n",
              "      <td>0</td>\n",
              "      <td>0</td>\n",
              "      <td>0</td>\n",
              "    </tr>\n",
              "    <tr>\n",
              "      <th>41996</th>\n",
              "      <td>1</td>\n",
              "      <td>0</td>\n",
              "      <td>0</td>\n",
              "      <td>0</td>\n",
              "      <td>0</td>\n",
              "      <td>0</td>\n",
              "      <td>0</td>\n",
              "      <td>0</td>\n",
              "      <td>0</td>\n",
              "      <td>0</td>\n",
              "      <td>...</td>\n",
              "      <td>0</td>\n",
              "      <td>0</td>\n",
              "      <td>0</td>\n",
              "      <td>0</td>\n",
              "      <td>0</td>\n",
              "      <td>0</td>\n",
              "      <td>0</td>\n",
              "      <td>0</td>\n",
              "      <td>0</td>\n",
              "      <td>0</td>\n",
              "    </tr>\n",
              "    <tr>\n",
              "      <th>41997</th>\n",
              "      <td>7</td>\n",
              "      <td>0</td>\n",
              "      <td>0</td>\n",
              "      <td>0</td>\n",
              "      <td>0</td>\n",
              "      <td>0</td>\n",
              "      <td>0</td>\n",
              "      <td>0</td>\n",
              "      <td>0</td>\n",
              "      <td>0</td>\n",
              "      <td>...</td>\n",
              "      <td>0</td>\n",
              "      <td>0</td>\n",
              "      <td>0</td>\n",
              "      <td>0</td>\n",
              "      <td>0</td>\n",
              "      <td>0</td>\n",
              "      <td>0</td>\n",
              "      <td>0</td>\n",
              "      <td>0</td>\n",
              "      <td>0</td>\n",
              "    </tr>\n",
              "    <tr>\n",
              "      <th>41998</th>\n",
              "      <td>6</td>\n",
              "      <td>0</td>\n",
              "      <td>0</td>\n",
              "      <td>0</td>\n",
              "      <td>0</td>\n",
              "      <td>0</td>\n",
              "      <td>0</td>\n",
              "      <td>0</td>\n",
              "      <td>0</td>\n",
              "      <td>0</td>\n",
              "      <td>...</td>\n",
              "      <td>0</td>\n",
              "      <td>0</td>\n",
              "      <td>0</td>\n",
              "      <td>0</td>\n",
              "      <td>0</td>\n",
              "      <td>0</td>\n",
              "      <td>0</td>\n",
              "      <td>0</td>\n",
              "      <td>0</td>\n",
              "      <td>0</td>\n",
              "    </tr>\n",
              "    <tr>\n",
              "      <th>41999</th>\n",
              "      <td>9</td>\n",
              "      <td>0</td>\n",
              "      <td>0</td>\n",
              "      <td>0</td>\n",
              "      <td>0</td>\n",
              "      <td>0</td>\n",
              "      <td>0</td>\n",
              "      <td>0</td>\n",
              "      <td>0</td>\n",
              "      <td>0</td>\n",
              "      <td>...</td>\n",
              "      <td>0</td>\n",
              "      <td>0</td>\n",
              "      <td>0</td>\n",
              "      <td>0</td>\n",
              "      <td>0</td>\n",
              "      <td>0</td>\n",
              "      <td>0</td>\n",
              "      <td>0</td>\n",
              "      <td>0</td>\n",
              "      <td>0</td>\n",
              "    </tr>\n",
              "  </tbody>\n",
              "</table>\n",
              "<p>42000 rows × 785 columns</p>\n",
              "</div>\n",
              "    <div class=\"colab-df-buttons\">\n",
              "\n",
              "  <div class=\"colab-df-container\">\n",
              "    <button class=\"colab-df-convert\" onclick=\"convertToInteractive('df-d3299fbd-73e0-4afb-adb7-961d47623b8e')\"\n",
              "            title=\"Convert this dataframe to an interactive table.\"\n",
              "            style=\"display:none;\">\n",
              "\n",
              "  <svg xmlns=\"http://www.w3.org/2000/svg\" height=\"24px\" viewBox=\"0 -960 960 960\">\n",
              "    <path d=\"M120-120v-720h720v720H120Zm60-500h600v-160H180v160Zm220 220h160v-160H400v160Zm0 220h160v-160H400v160ZM180-400h160v-160H180v160Zm440 0h160v-160H620v160ZM180-180h160v-160H180v160Zm440 0h160v-160H620v160Z\"/>\n",
              "  </svg>\n",
              "    </button>\n",
              "\n",
              "  <style>\n",
              "    .colab-df-container {\n",
              "      display:flex;\n",
              "      gap: 12px;\n",
              "    }\n",
              "\n",
              "    .colab-df-convert {\n",
              "      background-color: #E8F0FE;\n",
              "      border: none;\n",
              "      border-radius: 50%;\n",
              "      cursor: pointer;\n",
              "      display: none;\n",
              "      fill: #1967D2;\n",
              "      height: 32px;\n",
              "      padding: 0 0 0 0;\n",
              "      width: 32px;\n",
              "    }\n",
              "\n",
              "    .colab-df-convert:hover {\n",
              "      background-color: #E2EBFA;\n",
              "      box-shadow: 0px 1px 2px rgba(60, 64, 67, 0.3), 0px 1px 3px 1px rgba(60, 64, 67, 0.15);\n",
              "      fill: #174EA6;\n",
              "    }\n",
              "\n",
              "    .colab-df-buttons div {\n",
              "      margin-bottom: 4px;\n",
              "    }\n",
              "\n",
              "    [theme=dark] .colab-df-convert {\n",
              "      background-color: #3B4455;\n",
              "      fill: #D2E3FC;\n",
              "    }\n",
              "\n",
              "    [theme=dark] .colab-df-convert:hover {\n",
              "      background-color: #434B5C;\n",
              "      box-shadow: 0px 1px 3px 1px rgba(0, 0, 0, 0.15);\n",
              "      filter: drop-shadow(0px 1px 2px rgba(0, 0, 0, 0.3));\n",
              "      fill: #FFFFFF;\n",
              "    }\n",
              "  </style>\n",
              "\n",
              "    <script>\n",
              "      const buttonEl =\n",
              "        document.querySelector('#df-d3299fbd-73e0-4afb-adb7-961d47623b8e button.colab-df-convert');\n",
              "      buttonEl.style.display =\n",
              "        google.colab.kernel.accessAllowed ? 'block' : 'none';\n",
              "\n",
              "      async function convertToInteractive(key) {\n",
              "        const element = document.querySelector('#df-d3299fbd-73e0-4afb-adb7-961d47623b8e');\n",
              "        const dataTable =\n",
              "          await google.colab.kernel.invokeFunction('convertToInteractive',\n",
              "                                                    [key], {});\n",
              "        if (!dataTable) return;\n",
              "\n",
              "        const docLinkHtml = 'Like what you see? Visit the ' +\n",
              "          '<a target=\"_blank\" href=https://colab.research.google.com/notebooks/data_table.ipynb>data table notebook</a>'\n",
              "          + ' to learn more about interactive tables.';\n",
              "        element.innerHTML = '';\n",
              "        dataTable['output_type'] = 'display_data';\n",
              "        await google.colab.output.renderOutput(dataTable, element);\n",
              "        const docLink = document.createElement('div');\n",
              "        docLink.innerHTML = docLinkHtml;\n",
              "        element.appendChild(docLink);\n",
              "      }\n",
              "    </script>\n",
              "  </div>\n",
              "\n",
              "\n",
              "<div id=\"df-a3383b19-cff7-4d46-9e7a-7b38194cae13\">\n",
              "  <button class=\"colab-df-quickchart\" onclick=\"quickchart('df-a3383b19-cff7-4d46-9e7a-7b38194cae13')\"\n",
              "            title=\"Suggest charts\"\n",
              "            style=\"display:none;\">\n",
              "\n",
              "<svg xmlns=\"http://www.w3.org/2000/svg\" height=\"24px\"viewBox=\"0 0 24 24\"\n",
              "     width=\"24px\">\n",
              "    <g>\n",
              "        <path d=\"M19 3H5c-1.1 0-2 .9-2 2v14c0 1.1.9 2 2 2h14c1.1 0 2-.9 2-2V5c0-1.1-.9-2-2-2zM9 17H7v-7h2v7zm4 0h-2V7h2v10zm4 0h-2v-4h2v4z\"/>\n",
              "    </g>\n",
              "</svg>\n",
              "  </button>\n",
              "\n",
              "<style>\n",
              "  .colab-df-quickchart {\n",
              "      --bg-color: #E8F0FE;\n",
              "      --fill-color: #1967D2;\n",
              "      --hover-bg-color: #E2EBFA;\n",
              "      --hover-fill-color: #174EA6;\n",
              "      --disabled-fill-color: #AAA;\n",
              "      --disabled-bg-color: #DDD;\n",
              "  }\n",
              "\n",
              "  [theme=dark] .colab-df-quickchart {\n",
              "      --bg-color: #3B4455;\n",
              "      --fill-color: #D2E3FC;\n",
              "      --hover-bg-color: #434B5C;\n",
              "      --hover-fill-color: #FFFFFF;\n",
              "      --disabled-bg-color: #3B4455;\n",
              "      --disabled-fill-color: #666;\n",
              "  }\n",
              "\n",
              "  .colab-df-quickchart {\n",
              "    background-color: var(--bg-color);\n",
              "    border: none;\n",
              "    border-radius: 50%;\n",
              "    cursor: pointer;\n",
              "    display: none;\n",
              "    fill: var(--fill-color);\n",
              "    height: 32px;\n",
              "    padding: 0;\n",
              "    width: 32px;\n",
              "  }\n",
              "\n",
              "  .colab-df-quickchart:hover {\n",
              "    background-color: var(--hover-bg-color);\n",
              "    box-shadow: 0 1px 2px rgba(60, 64, 67, 0.3), 0 1px 3px 1px rgba(60, 64, 67, 0.15);\n",
              "    fill: var(--button-hover-fill-color);\n",
              "  }\n",
              "\n",
              "  .colab-df-quickchart-complete:disabled,\n",
              "  .colab-df-quickchart-complete:disabled:hover {\n",
              "    background-color: var(--disabled-bg-color);\n",
              "    fill: var(--disabled-fill-color);\n",
              "    box-shadow: none;\n",
              "  }\n",
              "\n",
              "  .colab-df-spinner {\n",
              "    border: 2px solid var(--fill-color);\n",
              "    border-color: transparent;\n",
              "    border-bottom-color: var(--fill-color);\n",
              "    animation:\n",
              "      spin 1s steps(1) infinite;\n",
              "  }\n",
              "\n",
              "  @keyframes spin {\n",
              "    0% {\n",
              "      border-color: transparent;\n",
              "      border-bottom-color: var(--fill-color);\n",
              "      border-left-color: var(--fill-color);\n",
              "    }\n",
              "    20% {\n",
              "      border-color: transparent;\n",
              "      border-left-color: var(--fill-color);\n",
              "      border-top-color: var(--fill-color);\n",
              "    }\n",
              "    30% {\n",
              "      border-color: transparent;\n",
              "      border-left-color: var(--fill-color);\n",
              "      border-top-color: var(--fill-color);\n",
              "      border-right-color: var(--fill-color);\n",
              "    }\n",
              "    40% {\n",
              "      border-color: transparent;\n",
              "      border-right-color: var(--fill-color);\n",
              "      border-top-color: var(--fill-color);\n",
              "    }\n",
              "    60% {\n",
              "      border-color: transparent;\n",
              "      border-right-color: var(--fill-color);\n",
              "    }\n",
              "    80% {\n",
              "      border-color: transparent;\n",
              "      border-right-color: var(--fill-color);\n",
              "      border-bottom-color: var(--fill-color);\n",
              "    }\n",
              "    90% {\n",
              "      border-color: transparent;\n",
              "      border-bottom-color: var(--fill-color);\n",
              "    }\n",
              "  }\n",
              "</style>\n",
              "\n",
              "  <script>\n",
              "    async function quickchart(key) {\n",
              "      const quickchartButtonEl =\n",
              "        document.querySelector('#' + key + ' button');\n",
              "      quickchartButtonEl.disabled = true;  // To prevent multiple clicks.\n",
              "      quickchartButtonEl.classList.add('colab-df-spinner');\n",
              "      try {\n",
              "        const charts = await google.colab.kernel.invokeFunction(\n",
              "            'suggestCharts', [key], {});\n",
              "      } catch (error) {\n",
              "        console.error('Error during call to suggestCharts:', error);\n",
              "      }\n",
              "      quickchartButtonEl.classList.remove('colab-df-spinner');\n",
              "      quickchartButtonEl.classList.add('colab-df-quickchart-complete');\n",
              "    }\n",
              "    (() => {\n",
              "      let quickchartButtonEl =\n",
              "        document.querySelector('#df-a3383b19-cff7-4d46-9e7a-7b38194cae13 button');\n",
              "      quickchartButtonEl.style.display =\n",
              "        google.colab.kernel.accessAllowed ? 'block' : 'none';\n",
              "    })();\n",
              "  </script>\n",
              "</div>\n",
              "    </div>\n",
              "  </div>\n"
            ]
          },
          "metadata": {},
          "execution_count": 18
        }
      ],
      "source": [
        "train"
      ]
    },
    {
      "cell_type": "markdown",
      "id": "regional-circle",
      "metadata": {
        "papermill": {
          "duration": 0.04638,
          "end_time": "2021-06-23T15:57:12.215526",
          "exception": false,
          "start_time": "2021-06-23T15:57:12.169146",
          "status": "completed"
        },
        "tags": [],
        "id": "regional-circle"
      },
      "source": [
        "> TEST CODE : Construct image from csv file"
      ]
    },
    {
      "cell_type": "code",
      "execution_count": null,
      "id": "civil-dependence",
      "metadata": {
        "execution": {
          "iopub.execute_input": "2021-06-23T15:57:12.317113Z",
          "iopub.status.busy": "2021-06-23T15:57:12.316269Z",
          "iopub.status.idle": "2021-06-23T15:57:12.321454Z",
          "shell.execute_reply": "2021-06-23T15:57:12.322067Z",
          "shell.execute_reply.started": "2021-06-14T10:50:37.022833Z"
        },
        "papermill": {
          "duration": 0.06019,
          "end_time": "2021-06-23T15:57:12.322293",
          "exception": false,
          "start_time": "2021-06-23T15:57:12.262103",
          "status": "completed"
        },
        "tags": [],
        "colab": {
          "base_uri": "https://localhost:8080/"
        },
        "id": "civil-dependence",
        "outputId": "433dc915-e935-4fef-9c2d-dcfd6fdca1fe"
      },
      "outputs": [
        {
          "output_type": "stream",
          "name": "stdout",
          "text": [
            "Shape of Image :  (28, 28, 1)\n",
            "label :  0\n",
            "Shape of Image :  (28, 28, 1)\n",
            "label :  1\n",
            "Shape of Image :  (28, 28, 1)\n",
            "label :  4\n",
            "Shape of Image :  (28, 28, 1)\n",
            "label :  0\n",
            "Shape of Image :  (28, 28, 1)\n",
            "label :  0\n"
          ]
        }
      ],
      "source": [
        "for index in range(1, 6): # N : 5 (Number of Image)\n",
        "    temp_image = train.iloc[index, 1:].values.astype(np.uint8).reshape((28,28,1))\n",
        "    temp_label = train.iloc[index, 0]\n",
        "    print('Shape of Image : ',temp_image.shape)\n",
        "    print('label : ', temp_label)"
      ]
    },
    {
      "cell_type": "markdown",
      "id": "signal-clinic",
      "metadata": {
        "papermill": {
          "duration": 0.047268,
          "end_time": "2021-06-23T15:57:12.417044",
          "exception": false,
          "start_time": "2021-06-23T15:57:12.369776",
          "status": "completed"
        },
        "tags": [],
        "id": "signal-clinic"
      },
      "source": [
        "> TEST CODE : transform from table data to image data with basic preprocessing"
      ]
    },
    {
      "cell_type": "code",
      "execution_count": null,
      "id": "hundred-arizona",
      "metadata": {
        "execution": {
          "iopub.execute_input": "2021-06-23T15:57:12.517266Z",
          "iopub.status.busy": "2021-06-23T15:57:12.516470Z",
          "iopub.status.idle": "2021-06-23T15:57:14.738901Z",
          "shell.execute_reply": "2021-06-23T15:57:14.738465Z",
          "shell.execute_reply.started": "2021-06-14T10:50:37.035911Z"
        },
        "papermill": {
          "duration": 2.275176,
          "end_time": "2021-06-23T15:57:14.739073",
          "exception": false,
          "start_time": "2021-06-23T15:57:12.463897",
          "status": "completed"
        },
        "tags": [],
        "id": "hundred-arizona"
      },
      "outputs": [],
      "source": [
        "dataset = DatasetMNIST(file_path='https://tigress-web.princeton.edu/~jdh4/intro_ml/gan/train.csv',\n",
        "                       transform=transforms.Compose(\n",
        "                           [#transforms.Resize(img_size), # Resize is only for PIL Image. Not for numpy array\n",
        "                            transforms.ToTensor(), # ToTensor() : np.array (H, W, C) -> tensor (C, H, W)\n",
        "                            transforms.Normalize([0.5],[0.5])]\n",
        "                       ))"
      ]
    },
    {
      "cell_type": "code",
      "execution_count": null,
      "id": "surprising-range",
      "metadata": {
        "execution": {
          "iopub.execute_input": "2021-06-23T15:57:14.838802Z",
          "iopub.status.busy": "2021-06-23T15:57:14.838270Z",
          "iopub.status.idle": "2021-06-23T15:57:14.865368Z",
          "shell.execute_reply": "2021-06-23T15:57:14.864934Z",
          "shell.execute_reply.started": "2021-06-14T10:50:39.080327Z"
        },
        "papermill": {
          "duration": 0.078323,
          "end_time": "2021-06-23T15:57:14.865490",
          "exception": false,
          "start_time": "2021-06-23T15:57:14.787167",
          "status": "completed"
        },
        "tags": [],
        "id": "surprising-range"
      },
      "outputs": [],
      "source": [
        "temp_img, _ =  dataset.__getitem__(0) # We don't need label, so _"
      ]
    },
    {
      "cell_type": "code",
      "execution_count": null,
      "id": "green-remains",
      "metadata": {
        "execution": {
          "iopub.execute_input": "2021-06-23T15:57:14.963788Z",
          "iopub.status.busy": "2021-06-23T15:57:14.963291Z",
          "iopub.status.idle": "2021-06-23T15:57:14.968631Z",
          "shell.execute_reply": "2021-06-23T15:57:14.969017Z",
          "shell.execute_reply.started": "2021-06-14T10:50:39.088149Z"
        },
        "papermill": {
          "duration": 0.056322,
          "end_time": "2021-06-23T15:57:14.969147",
          "exception": false,
          "start_time": "2021-06-23T15:57:14.912825",
          "status": "completed"
        },
        "tags": [],
        "colab": {
          "base_uri": "https://localhost:8080/"
        },
        "id": "green-remains",
        "outputId": "5b005d12-f3b1-402c-8447-7815fe5c0136"
      },
      "outputs": [
        {
          "output_type": "execute_result",
          "data": {
            "text/plain": [
              "torch.Size([1, 28, 28])"
            ]
          },
          "metadata": {},
          "execution_count": 23
        }
      ],
      "source": [
        "temp_img.size() # before ToTensor() : (28,28,1), after : (1,28,28)"
      ]
    },
    {
      "cell_type": "code",
      "execution_count": null,
      "id": "grave-acceptance",
      "metadata": {
        "execution": {
          "iopub.execute_input": "2021-06-23T15:57:15.068995Z",
          "iopub.status.busy": "2021-06-23T15:57:15.068434Z",
          "iopub.status.idle": "2021-06-23T15:57:15.094488Z",
          "shell.execute_reply": "2021-06-23T15:57:15.094092Z",
          "shell.execute_reply.started": "2021-06-14T10:50:39.100745Z"
        },
        "papermill": {
          "duration": 0.078227,
          "end_time": "2021-06-23T15:57:15.094597",
          "exception": false,
          "start_time": "2021-06-23T15:57:15.016370",
          "status": "completed"
        },
        "tags": [],
        "colab": {
          "base_uri": "https://localhost:8080/"
        },
        "id": "grave-acceptance",
        "outputId": "9433fa7e-0178-440c-c45c-b84a01cc4e37"
      },
      "outputs": [
        {
          "output_type": "execute_result",
          "data": {
            "text/plain": [
              "(tensor(1.), tensor(-1.))"
            ]
          },
          "metadata": {},
          "execution_count": 24
        }
      ],
      "source": [
        "temp_img.max(), temp_img.min() # before Normalize([0.5],[0.5]) : 0 ~ 1, after : -1 ~ 1"
      ]
    },
    {
      "cell_type": "markdown",
      "id": "exceptional-mailman",
      "metadata": {
        "execution": {
          "iopub.execute_input": "2021-06-13T03:11:55.363449Z",
          "iopub.status.busy": "2021-06-13T03:11:55.363084Z",
          "iopub.status.idle": "2021-06-13T03:11:55.369074Z",
          "shell.execute_reply": "2021-06-13T03:11:55.367783Z",
          "shell.execute_reply.started": "2021-06-13T03:11:55.363409Z"
        },
        "papermill": {
          "duration": 0.047497,
          "end_time": "2021-06-23T15:57:15.189549",
          "exception": false,
          "start_time": "2021-06-23T15:57:15.142052",
          "status": "completed"
        },
        "tags": [],
        "id": "exceptional-mailman"
      },
      "source": [
        "> TEST CODE : Define dataloader that can load image by batch"
      ]
    },
    {
      "cell_type": "code",
      "execution_count": null,
      "id": "caroline-miami",
      "metadata": {
        "execution": {
          "iopub.execute_input": "2021-06-23T15:57:15.288936Z",
          "iopub.status.busy": "2021-06-23T15:57:15.288397Z",
          "iopub.status.idle": "2021-06-23T15:57:15.292247Z",
          "shell.execute_reply": "2021-06-23T15:57:15.291798Z",
          "shell.execute_reply.started": "2021-06-14T10:50:39.110729Z"
        },
        "papermill": {
          "duration": 0.055199,
          "end_time": "2021-06-23T15:57:15.292360",
          "exception": false,
          "start_time": "2021-06-23T15:57:15.237161",
          "status": "completed"
        },
        "tags": [],
        "id": "caroline-miami"
      },
      "outputs": [],
      "source": [
        "batch_size = 64 # suggested default, size of the batches\n",
        "dataloader = DataLoader( # torch.utils.data.DataLoader\n",
        "    dataset,\n",
        "    batch_size=batch_size,\n",
        "    shuffle=True\n",
        ")"
      ]
    },
    {
      "cell_type": "code",
      "execution_count": null,
      "id": "structural-australia",
      "metadata": {
        "execution": {
          "iopub.execute_input": "2021-06-23T15:57:15.392293Z",
          "iopub.status.busy": "2021-06-23T15:57:15.391720Z",
          "iopub.status.idle": "2021-06-23T15:57:15.426120Z",
          "shell.execute_reply": "2021-06-23T15:57:15.426658Z",
          "shell.execute_reply.started": "2021-06-14T10:50:39.11758Z"
        },
        "papermill": {
          "duration": 0.087219,
          "end_time": "2021-06-23T15:57:15.426841",
          "exception": false,
          "start_time": "2021-06-23T15:57:15.339622",
          "status": "completed"
        },
        "tags": [],
        "colab": {
          "base_uri": "https://localhost:8080/"
        },
        "id": "structural-australia",
        "outputId": "ebf2794a-9815-447d-ffce-a69438a26431"
      },
      "outputs": [
        {
          "output_type": "stream",
          "name": "stdout",
          "text": [
            "images shape on batch size = torch.Size([64, 1, 28, 28])\n"
          ]
        }
      ],
      "source": [
        "temp_images, _ = next(iter(dataloader)) # We don't use label, so _\n",
        "print('images shape on batch size = {}'.format(temp_images.size()))"
      ]
    },
    {
      "cell_type": "markdown",
      "id": "studied-signal",
      "metadata": {
        "papermill": {
          "duration": 0.047707,
          "end_time": "2021-06-23T15:57:15.523375",
          "exception": false,
          "start_time": "2021-06-23T15:57:15.475668",
          "status": "completed"
        },
        "tags": [],
        "id": "studied-signal"
      },
      "source": [
        "> Read More\n",
        "1. [torchvision.transforms](https://pytorch.org/vision/stable/transforms.html)\n",
        "    - .ToTensor | Convert a PIL Image or numpy.ndarray to tensor. This transform does not support torchscript.\n",
        "    - .ToTensor | Converts a PIL Image or numpy.ndarray (H x W x C) in the range [0, 255] to a torch.FloatTensor of shape (C x H x W) in the range [0.0, 1.0] if the PIL Image belongs to one of the modes (L, LA, P, I, F, RGB, YCbCr, RGBA, CMYK, 1) or if the numpy.ndarray has dtype = np.uint8"
      ]
    },
    {
      "cell_type": "markdown",
      "id": "presidential-alert",
      "metadata": {
        "papermill": {
          "duration": 0.047404,
          "end_time": "2021-06-23T15:57:15.618538",
          "exception": false,
          "start_time": "2021-06-23T15:57:15.571134",
          "status": "completed"
        },
        "tags": [],
        "id": "presidential-alert"
      },
      "source": [
        "### Step 9. Define optimizers"
      ]
    },
    {
      "cell_type": "code",
      "execution_count": null,
      "id": "prerequisite-conditioning",
      "metadata": {
        "execution": {
          "iopub.execute_input": "2021-06-23T15:57:15.718722Z",
          "iopub.status.busy": "2021-06-23T15:57:15.718222Z",
          "iopub.status.idle": "2021-06-23T15:57:15.721605Z",
          "shell.execute_reply": "2021-06-23T15:57:15.722090Z",
          "shell.execute_reply.started": "2021-06-14T10:50:39.156536Z"
        },
        "papermill": {
          "duration": 0.055714,
          "end_time": "2021-06-23T15:57:15.722282",
          "exception": false,
          "start_time": "2021-06-23T15:57:15.666568",
          "status": "completed"
        },
        "tags": [],
        "id": "prerequisite-conditioning"
      },
      "outputs": [],
      "source": [
        "# suggested default - beta parameters (decay of first order momentum of gradients)\n",
        "b1 = 0.5\n",
        "b2 = 0.999\n",
        "\n",
        "# suggested default - learning rate\n",
        "lr = 0.0002"
      ]
    },
    {
      "cell_type": "code",
      "execution_count": null,
      "id": "silver-platform",
      "metadata": {
        "execution": {
          "iopub.execute_input": "2021-06-23T15:57:15.824835Z",
          "iopub.status.busy": "2021-06-23T15:57:15.823431Z",
          "iopub.status.idle": "2021-06-23T15:57:15.826263Z",
          "shell.execute_reply": "2021-06-23T15:57:15.825745Z",
          "shell.execute_reply.started": "2021-06-14T10:50:39.162408Z"
        },
        "papermill": {
          "duration": 0.055974,
          "end_time": "2021-06-23T15:57:15.826384",
          "exception": false,
          "start_time": "2021-06-23T15:57:15.770410",
          "status": "completed"
        },
        "tags": [],
        "id": "silver-platform"
      },
      "outputs": [],
      "source": [
        "optimizer_G = torch.optim.Adam(generator.parameters(), lr=lr, betas=(b1,b2))\n",
        "optimizer_D = torch.optim.Adam(discriminator.parameters(), lr=lr, betas=(b1,b2))"
      ]
    },
    {
      "cell_type": "markdown",
      "id": "compressed-southwest",
      "metadata": {
        "papermill": {
          "duration": 0.047834,
          "end_time": "2021-06-23T15:57:15.922701",
          "exception": false,
          "start_time": "2021-06-23T15:57:15.874867",
          "status": "completed"
        },
        "tags": [],
        "id": "compressed-southwest"
      },
      "source": [
        "### Step 10. Training"
      ]
    },
    {
      "cell_type": "markdown",
      "id": "difficult-jurisdiction",
      "metadata": {
        "execution": {
          "iopub.execute_input": "2021-06-23T15:52:41.513601Z",
          "iopub.status.busy": "2021-06-23T15:52:41.513245Z",
          "iopub.status.idle": "2021-06-23T15:52:42.137653Z",
          "shell.execute_reply": "2021-06-23T15:52:42.136721Z",
          "shell.execute_reply.started": "2021-06-23T15:52:41.513557Z"
        },
        "papermill": {
          "duration": 0.048128,
          "end_time": "2021-06-23T15:57:16.018611",
          "exception": false,
          "start_time": "2021-06-23T15:57:15.970483",
          "status": "completed"
        },
        "tags": [],
        "id": "difficult-jurisdiction"
      },
      "source": [
        "![image](https://img1.daumcdn.net/thumb/R1280x0/?scode=mtistory2&fname=https%3A%2F%2Fblog.kakaocdn.net%2Fdn%2FpMdme%2FbtqA1ArBCOy%2FqqGg7IvV0hpqVkvBuEFpJK%2Fimg.png)"
      ]
    },
    {
      "cell_type": "code",
      "execution_count": null,
      "id": "gentle-eagle",
      "metadata": {
        "execution": {
          "iopub.execute_input": "2021-06-23T15:57:16.118867Z",
          "iopub.status.busy": "2021-06-23T15:57:16.118335Z",
          "iopub.status.idle": "2021-06-23T15:57:16.122355Z",
          "shell.execute_reply": "2021-06-23T15:57:16.121941Z",
          "shell.execute_reply.started": "2021-06-14T10:50:39.171443Z"
        },
        "papermill": {
          "duration": 0.05538,
          "end_time": "2021-06-23T15:57:16.122461",
          "exception": false,
          "start_time": "2021-06-23T15:57:16.067081",
          "status": "completed"
        },
        "tags": [],
        "id": "gentle-eagle"
      },
      "outputs": [],
      "source": [
        "Tensor = torch.cuda.FloatTensor if cuda else torch.FloatTensor"
      ]
    },
    {
      "cell_type": "code",
      "execution_count": null,
      "id": "integrated-shipping",
      "metadata": {
        "execution": {
          "iopub.execute_input": "2021-06-23T15:57:16.222243Z",
          "iopub.status.busy": "2021-06-23T15:57:16.221690Z",
          "iopub.status.idle": "2021-06-23T15:57:16.225482Z",
          "shell.execute_reply": "2021-06-23T15:57:16.225094Z",
          "shell.execute_reply.started": "2021-06-14T10:50:39.180476Z"
        },
        "papermill": {
          "duration": 0.05486,
          "end_time": "2021-06-23T15:57:16.225597",
          "exception": false,
          "start_time": "2021-06-23T15:57:16.170737",
          "status": "completed"
        },
        "tags": [],
        "id": "integrated-shipping"
      },
      "outputs": [],
      "source": [
        "from tqdm.notebook import tqdm"
      ]
    },
    {
      "cell_type": "code",
      "execution_count": null,
      "id": "regulation-planet",
      "metadata": {
        "execution": {
          "iopub.execute_input": "2021-06-23T15:57:16.324996Z",
          "iopub.status.busy": "2021-06-23T15:57:16.324241Z",
          "iopub.status.idle": "2021-06-23T15:57:16.327009Z",
          "shell.execute_reply": "2021-06-23T15:57:16.326586Z",
          "shell.execute_reply.started": "2021-06-14T10:50:39.186495Z"
        },
        "papermill": {
          "duration": 0.054101,
          "end_time": "2021-06-23T15:57:16.327123",
          "exception": false,
          "start_time": "2021-06-23T15:57:16.273022",
          "status": "completed"
        },
        "tags": [],
        "id": "regulation-planet"
      },
      "outputs": [],
      "source": [
        "# Visualize result\n",
        "import matplotlib.pyplot as plt"
      ]
    },
    {
      "cell_type": "code",
      "execution_count": null,
      "id": "technical-catering",
      "metadata": {
        "execution": {
          "iopub.execute_input": "2021-06-23T15:57:16.436198Z",
          "iopub.status.busy": "2021-06-23T15:57:16.435641Z",
          "iopub.status.idle": "2021-06-23T16:01:21.638975Z",
          "shell.execute_reply": "2021-06-23T16:01:21.638520Z",
          "shell.execute_reply.started": "2021-06-14T10:50:39.195934Z"
        },
        "papermill": {
          "duration": 245.263847,
          "end_time": "2021-06-23T16:01:21.639099",
          "exception": false,
          "start_time": "2021-06-23T15:57:16.375252",
          "status": "completed"
        },
        "tags": [],
        "colab": {
          "base_uri": "https://localhost:8080/",
          "height": 1000,
          "referenced_widgets": [
            "dd4874c0f7534fa284ec478b057d9a1b",
            "da2c65621f4e48899b9fb07e5a44b4de",
            "0b3bacd737ff4990ae0ac8d8119a48d3",
            "4c8d98d7f2e44ab9b3dc6582a1e43785",
            "05169232ca3e4d30b7b70a26583f101f",
            "558f2f943d4a487f88d3b748a768ca71",
            "cb0d0290ff354190a7b81a38c9c76905",
            "a5ecc7afa0c14c44bfa9336c296190f0",
            "c80cc76260ed4f10a779c10ee11a4325",
            "9e5427c3ca42493fbd42e6f1968ed598",
            "b827730cc6174823a3cb57dd1319d6e2",
            "9118ab61573841c399140a1f8414294c",
            "61f98c8aadba4e74b08d39bfd50ea8db",
            "d1d1c4653bd94ef58d21f45e0acf6046",
            "5162d7ee8e534d33bcb9e692437f38bf",
            "8ddf3b7d52174cbca4c41d5803663cd3",
            "08467a7312dc49a1b31d3bd90a771529",
            "3e9302847ef0442089788be02934f00b",
            "34c655deb31e426ba80a8b65270fa3f9",
            "a100be1816c94cbaacfe40170c604cc7",
            "bb12f2847f8d40ce87a8da8bf0d59497",
            "8819ca1625fc4b438ab358f27b1a52a1",
            "9b3c6be131914e60a7162dcb4e16a0d0",
            "91a3cec68a0440df97f10c59b97d1c97",
            "da0c88f727ba40a3a40919f83b2193f7",
            "2211a744607d454b8021ba1b2971511c",
            "bcd4d97a45594026b0d98589e03420c8",
            "e4f83eff56f2419c922f2b9a6cfbd119",
            "feef6f35af5f453aa04a8efadbf929d5",
            "212a32a57cd64efc8b25d8d0da25d76e",
            "38011ec1758040bfb22e9ab31840ed92",
            "5b42a054009f43d290523a207d9bd28a",
            "8c0c6d148d994a8785f7d6cb3e22f21f",
            "fe931d0643fd47e18807b1736ac40359",
            "f771ba82e58446bd95f415666e900bed",
            "33328e7150844c029854651a854b6ee6",
            "191b0db330a440c0a36c5af1f5b798a1",
            "1911bc45ce1749cfacbe61742876353a",
            "a6e205cf383c4b6ea1461faffa2e654f",
            "db38fa31e56d483a905318447c97eb3c",
            "e2156294be5e4359bbbffa4d74b9aac3",
            "bdab70ffc2694e0bb5a8f3fea161458b",
            "2f4e0e07c5704c689ca426d56c74c622",
            "da6c75f1fbaf43649ad103dba2714de8",
            "ff4881beefd04a059f401281d5bf6056",
            "a3faeef4c3104f6ca6a04ec5a009558c",
            "d940438cb8954e8cbc6d1ec330702a9d",
            "1c846281e99a4119946bef32a0d9090d",
            "f913db6c5f6a46bb89793096689dc801",
            "903a46633cbd4dd18546e233b4616d78",
            "7a99b9163da24202a89743644bf0eabb",
            "72316ec1111f42b48760a28edba5f31b",
            "a8e8b9d347c645e4969e42296b3902c7",
            "bd3556e9f55c4acb958d1f9c017333bf",
            "cc7fc00bc0454d40b7e5f103776dce82",
            "760c15d59f1d409bbe8ef9722b1408eb",
            "f1ff858b0d39429e98a54bd7cf8d3150",
            "9da138c7d1594831a9e78e4d20f7a538",
            "2a1d74f2595445699e41a7412e48e438",
            "5041497cb5c94587a70d8f0c2589b4fb",
            "197fb2a624134fd7aa6a199516f76092",
            "5dccb7c621564b6ba5dc39a7e30a3590",
            "086f1256bf5f44d790429e459f0c98e8",
            "41f250c4c7174d65a83bed20d0a2ba21",
            "921f7952b2d0491583e2562cf53bfa3c",
            "1bb07bd4daca4e6db97c7b46f24fb89b",
            "12abf9af64cf4b12948251ffd0c6edcb",
            "6629341193364872a0d60a4255cb79e3",
            "005109277ca148f7ae811a833abd6dce",
            "f494c536fcaa46f181cd5ded960eaa7b",
            "b22039c21c5b4aa78ce7b9750b1680a6",
            "9093ed14a37d45d485f0e529f12ef749",
            "cb83338306414181affb815ee38fbc25",
            "c7577cec0c7c4216b000b1d1d1d4c54d",
            "67dbfd0a48c640d0bcb2008d00511004",
            "09bd2195bcee47c19f26983ef11f5476",
            "9ef7e150153b4da1a08b47488817f7b3",
            "e2e615ea03d149288eaa3ce55f8d1603",
            "a0e2fdb3e7c0423491c99c067f8ffa13",
            "a421d5d35d874ceba322f2b4723ee5f2",
            "2ed06fea34e94e29b927b1d6bd0641f0",
            "21ec509d54df4261a34ea47ce62bb57b",
            "f26f16ad1f34441184b6b01d8c342b05",
            "4b0f7f2c75a842a1bec93d7df78d68be",
            "e03a685ae0bb4f40938339bd029f9955",
            "e548a678f9374445ba15aa528ab6acfb",
            "e99dedfb541f4484a8995308bbc3d634",
            "105a042f17f24879afd1cb2512d66802",
            "a61651bac2f241e48ca9105fa7ba4281",
            "03694cd7666c4ba495f0087e291d6cde",
            "9a08640272484f2b8ec40976f3f35110",
            "580eef3d74a2460e8a474d8dcef14e07",
            "5f046fc6f39045008bbe601ef4ef10f2",
            "92a13438a8b4484292ca6599910c58d2",
            "32ca9074975543d68cfad9b88e1f61d2",
            "dbda0f38c5ab4b3f990914a9b82fffa3",
            "daa6752ab5ed4366ae3e83e68969704c",
            "49ad761026e0432a9ba0b292704d94d7",
            "0daca51d64464cb4bc9328e55470f6c7",
            "3f5d1eec6d754d1c8bd9774da8467c3f",
            "4d1396640bba42b093c0f052a80ffade",
            "a6b08e223421470192e967168b8bff0d",
            "a62b23d097154ced924a89ff843e5f92",
            "ef694afe69a9447fb314f8bc58964c38",
            "c1a6d18975b34eff93ab87b5853174f8",
            "8a0e4997670a4ccaabd22abaf3658885",
            "0a4a5af45cba4e12bb032686eaaf3cc9",
            "33a17b380c374f4a860eebe034592cea",
            "eab8be4913a044aca37845d8bc760c0f",
            "c6908aa73e074873aa1a4e72f99fb948"
          ]
        },
        "id": "technical-catering",
        "outputId": "9871d488-66e2-4ffb-e4ab-c5cc1315bd8b"
      },
      "outputs": [
        {
          "output_type": "display_data",
          "data": {
            "text/plain": [
              "  0%|          | 0/657 [00:00<?, ?it/s]"
            ],
            "application/vnd.jupyter.widget-view+json": {
              "version_major": 2,
              "version_minor": 0,
              "model_id": "dd4874c0f7534fa284ec478b057d9a1b"
            }
          },
          "metadata": {}
        },
        {
          "output_type": "stream",
          "name": "stderr",
          "text": [
            "<ipython-input-34-e79b3b07408a>:7: UserWarning: The torch.cuda.*DtypeTensor constructors are no longer recommended. It's best to use methods such as torch.tensor(data, dtype=*, device='cuda') to create tensors. (Triggered internally at ../torch/csrc/tensor/python_tensor.cpp:83.)\n",
            "  valid = Variable(Tensor(imgs.size(0), 1).fill_(1.0), requires_grad=False) # imgs.size(0) == batch_size(1 batch) == 64, *TEST_CODE\n"
          ]
        },
        {
          "output_type": "display_data",
          "data": {
            "text/plain": [
              "<Figure size 800x200 with 5 Axes>"
            ],
            "image/png": "[encoded data removed]"
          },
          "metadata": {}
        },
        {
          "output_type": "display_data",
          "data": {
            "text/plain": [
              "<Figure size 800x200 with 5 Axes>"
            ],
            "image/png": "[encoded data removed]"
          },
          "metadata": {}
        },
        {
          "output_type": "display_data",
          "data": {
            "text/plain": [
              "<Figure size 800x200 with 5 Axes>"
            ],
            "image/png": "[encoded data removed]"
          },
          "metadata": {}
        },
        {
          "output_type": "stream",
          "name": "stdout",
          "text": [
            "[Epoch: 1/10] [Batch: 657/657] [D loss: 0.422394] [G loss: 1.143979]\n"
          ]
        },
        {
          "output_type": "display_data",
          "data": {
            "text/plain": [
              "  0%|          | 0/657 [00:00<?, ?it/s]"
            ],
            "application/vnd.jupyter.widget-view+json": {
              "version_major": 2,
              "version_minor": 0,
              "model_id": "9118ab61573841c399140a1f8414294c"
            }
          },
          "metadata": {}
        },
        {
          "output_type": "display_data",
          "data": {
            "text/plain": [
              "<Figure size 800x200 with 5 Axes>"
            ],
            "image/png": "[encoded data removed]"
          },
          "metadata": {}
        },
        {
          "output_type": "display_data",
          "data": {
            "text/plain": [
              "<Figure size 800x200 with 5 Axes>"
            ],
            "image/png": "[encoded data removed]"
          },
          "metadata": {}
        },
        {
          "output_type": "display_data",
          "data": {
            "text/plain": [
              "<Figure size 800x200 with 5 Axes>"
            ],
            "image/png": "[encoded data removed]"
          },
          "metadata": {}
        },
        {
          "output_type": "stream",
          "name": "stdout",
          "text": [
            "[Epoch: 2/10] [Batch: 657/657] [D loss: 0.385649] [G loss: 1.165820]\n"
          ]
        },
        {
          "output_type": "display_data",
          "data": {
            "text/plain": [
              "  0%|          | 0/657 [00:00<?, ?it/s]"
            ],
            "application/vnd.jupyter.widget-view+json": {
              "version_major": 2,
              "version_minor": 0,
              "model_id": "9b3c6be131914e60a7162dcb4e16a0d0"
            }
          },
          "metadata": {}
        },
        {
          "output_type": "display_data",
          "data": {
            "text/plain": [
              "<Figure size 800x200 with 5 Axes>"
            ],
            "image/png": "[encoded data removed]"
          },
          "metadata": {}
        },
        {
          "output_type": "display_data",
          "data": {
            "text/plain": [
              "<Figure size 800x200 with 5 Axes>"
            ],
            "image/png": "[encoded data removed]"
          },
          "metadata": {}
        },
        {
          "output_type": "display_data",
          "data": {
            "text/plain": [
              "<Figure size 800x200 with 5 Axes>"
            ],
            "image/png": "[encoded data removed]"
          },
          "metadata": {}
        },
        {
          "output_type": "stream",
          "name": "stdout",
          "text": [
            "[Epoch: 3/10] [Batch: 657/657] [D loss: 0.175903] [G loss: 2.457031]\n"
          ]
        },
        {
          "output_type": "display_data",
          "data": {
            "text/plain": [
              "  0%|          | 0/657 [00:00<?, ?it/s]"
            ],
            "application/vnd.jupyter.widget-view+json": {
              "version_major": 2,
              "version_minor": 0,
              "model_id": "fe931d0643fd47e18807b1736ac40359"
            }
          },
          "metadata": {}
        },
        {
          "output_type": "display_data",
          "data": {
            "text/plain": [
              "<Figure size 800x200 with 5 Axes>"
            ],
            "image/png": "[encoded data removed]"
          },
          "metadata": {}
        },
        {
          "output_type": "display_data",
          "data": {
            "text/plain": [
              "<Figure size 800x200 with 5 Axes>"
            ],
            "image/png": "[encoded data removed]"
          },
          "metadata": {}
        },
        {
          "output_type": "display_data",
          "data": {
            "text/plain": [
              "<Figure size 800x200 with 5 Axes>"
            ],
            "image/png": "[encoded data removed]"
          },
          "metadata": {}
        },
        {
          "output_type": "stream",
          "name": "stdout",
          "text": [
            "[Epoch: 4/10] [Batch: 657/657] [D loss: 0.358131] [G loss: 2.812165]\n"
          ]
        },
        {
          "output_type": "display_data",
          "data": {
            "text/plain": [
              "  0%|          | 0/657 [00:00<?, ?it/s]"
            ],
            "application/vnd.jupyter.widget-view+json": {
              "version_major": 2,
              "version_minor": 0,
              "model_id": "ff4881beefd04a059f401281d5bf6056"
            }
          },
          "metadata": {}
        },
        {
          "output_type": "display_data",
          "data": {
            "text/plain": [
              "<Figure size 800x200 with 5 Axes>"
            ],
            "image/png": "[encoded data removed]"
          },
          "metadata": {}
        },
        {
          "output_type": "display_data",
          "data": {
            "text/plain": [
              "<Figure size 800x200 with 5 Axes>"
            ],
            "image/png": "[encoded data removed]"
          },
          "metadata": {}
        },
        {
          "output_type": "display_data",
          "data": {
            "text/plain": [
              "<Figure size 800x200 with 5 Axes>"
            ],
            "image/png": "[encoded data removed]"
          },
          "metadata": {}
        },
        {
          "output_type": "stream",
          "name": "stdout",
          "text": [
            "[Epoch: 5/10] [Batch: 657/657] [D loss: 0.133111] [G loss: 1.915412]\n"
          ]
        },
        {
          "output_type": "display_data",
          "data": {
            "text/plain": [
              "  0%|          | 0/657 [00:00<?, ?it/s]"
            ],
            "application/vnd.jupyter.widget-view+json": {
              "version_major": 2,
              "version_minor": 0,
              "model_id": "760c15d59f1d409bbe8ef9722b1408eb"
            }
          },
          "metadata": {}
        },
        {
          "output_type": "display_data",
          "data": {
            "text/plain": [
              "<Figure size 800x200 with 5 Axes>"
            ],
            "image/png": "[encoded data removed]"
          },
          "metadata": {}
        },
        {
          "output_type": "display_data",
          "data": {
            "text/plain": [
              "<Figure size 800x200 with 5 Axes>"
            ],
            "image/png": "[encoded data removed]"
          },
          "metadata": {}
        },
        {
          "output_type": "display_data",
          "data": {
            "text/plain": [
              "<Figure size 800x200 with 5 Axes>"
            ],
            "image/png": "[encoded data removed]"
          },
          "metadata": {}
        },
        {
          "output_type": "stream",
          "name": "stdout",
          "text": [
            "[Epoch: 6/10] [Batch: 657/657] [D loss: 0.244905] [G loss: 1.229897]\n"
          ]
        },
        {
          "output_type": "display_data",
          "data": {
            "text/plain": [
              "  0%|          | 0/657 [00:00<?, ?it/s]"
            ],
            "application/vnd.jupyter.widget-view+json": {
              "version_major": 2,
              "version_minor": 0,
              "model_id": "12abf9af64cf4b12948251ffd0c6edcb"
            }
          },
          "metadata": {}
        },
        {
          "output_type": "display_data",
          "data": {
            "text/plain": [
              "<Figure size 800x200 with 5 Axes>"
            ],
            "image/png": "[encoded data removed]"
          },
          "metadata": {}
        },
        {
          "output_type": "display_data",
          "data": {
            "text/plain": [
              "<Figure size 800x200 with 5 Axes>"
            ],
            "image/png": "[encoded data removed]"
          },
          "metadata": {}
        },
        {
          "output_type": "display_data",
          "data": {
            "text/plain": [
              "<Figure size 800x200 with 5 Axes>"
            ],
            "image/png": "[encoded data removed]"
          },
          "metadata": {}
        },
        {
          "output_type": "stream",
          "name": "stdout",
          "text": [
            "[Epoch: 7/10] [Batch: 657/657] [D loss: 0.210682] [G loss: 2.066186]\n"
          ]
        },
        {
          "output_type": "display_data",
          "data": {
            "text/plain": [
              "  0%|          | 0/657 [00:00<?, ?it/s]"
            ],
            "application/vnd.jupyter.widget-view+json": {
              "version_major": 2,
              "version_minor": 0,
              "model_id": "e2e615ea03d149288eaa3ce55f8d1603"
            }
          },
          "metadata": {}
        },
        {
          "output_type": "display_data",
          "data": {
            "text/plain": [
              "<Figure size 800x200 with 5 Axes>"
            ],
            "image/png": "[encoded data removed]"
          },
          "metadata": {}
        },
        {
          "output_type": "display_data",
          "data": {
            "text/plain": [
              "<Figure size 800x200 with 5 Axes>"
            ],
            "image/png": "[encoded data removed]"
          },
          "metadata": {}
        },
        {
          "output_type": "display_data",
          "data": {
            "text/plain": [
              "<Figure size 800x200 with 5 Axes>"
            ],
            "image/png": "[encoded data removed]"
          },
          "metadata": {}
        },
        {
          "output_type": "stream",
          "name": "stdout",
          "text": [
            "[Epoch: 8/10] [Batch: 657/657] [D loss: 0.320005] [G loss: 3.878006]\n"
          ]
        },
        {
          "output_type": "display_data",
          "data": {
            "text/plain": [
              "  0%|          | 0/657 [00:00<?, ?it/s]"
            ],
            "application/vnd.jupyter.widget-view+json": {
              "version_major": 2,
              "version_minor": 0,
              "model_id": "a61651bac2f241e48ca9105fa7ba4281"
            }
          },
          "metadata": {}
        },
        {
          "output_type": "display_data",
          "data": {
            "text/plain": [
              "<Figure size 800x200 with 5 Axes>"
            ],
            "image/png": "[encoded data removed]"
          },
          "metadata": {}
        },
        {
          "output_type": "display_data",
          "data": {
            "text/plain": [
              "<Figure size 800x200 with 5 Axes>"
            ],
            "image/png": "[encoded data removed]"
          },
          "metadata": {}
        },
        {
          "output_type": "display_data",
          "data": {
            "text/plain": [
              "<Figure size 800x200 with 5 Axes>"
            ],
            "image/png": "[encoded data removed]"
          },
          "metadata": {}
        },
        {
          "output_type": "stream",
          "name": "stdout",
          "text": [
            "[Epoch: 9/10] [Batch: 657/657] [D loss: 0.497349] [G loss: 0.550031]\n"
          ]
        },
        {
          "output_type": "display_data",
          "data": {
            "text/plain": [
              "  0%|          | 0/657 [00:00<?, ?it/s]"
            ],
            "application/vnd.jupyter.widget-view+json": {
              "version_major": 2,
              "version_minor": 0,
              "model_id": "3f5d1eec6d754d1c8bd9774da8467c3f"
            }
          },
          "metadata": {}
        },
        {
          "output_type": "display_data",
          "data": {
            "text/plain": [
              "<Figure size 800x200 with 5 Axes>"
            ],
            "image/png": "[encoded data removed]"
          },
          "metadata": {}
        },
        {
          "output_type": "display_data",
          "data": {
            "text/plain": [
              "<Figure size 800x200 with 5 Axes>"
            ],
            "image/png": "[encoded data removed]"
          },
          "metadata": {}
        },
        {
          "output_type": "display_data",
          "data": {
            "text/plain": [
              "<Figure size 800x200 with 5 Axes>"
            ],
            "image/png": "[encoded data removed]"
          },
          "metadata": {}
        },
        {
          "output_type": "stream",
          "name": "stdout",
          "text": [
            "[Epoch: 10/10] [Batch: 657/657] [D loss: 0.317983] [G loss: 1.538813]\n"
          ]
        }
      ],
      "source": [
        "n_epochs = 10 # suggested default = 200\n",
        "for epoch in range(n_epochs):\n",
        "    for i, (imgs, _) in enumerate(tqdm(dataloader)): # This code(enumerate) is dealt with once more in the *TEST_CODE below.\n",
        "                                                     # Used 'tqdm' for showing progress\n",
        "\n",
        "        # Adversarial ground truths (For more detail, refer *Read_More below)\n",
        "        valid = Variable(Tensor(imgs.size(0), 1).fill_(1.0), requires_grad=False) # imgs.size(0) == batch_size(1 batch) == 64, *TEST_CODE\n",
        "        fake = Variable(Tensor(imgs.size(0), 1).fill_(0.0), requires_grad=False) # And Variable is for caclulate gradient. In fact, you can use it, but you don't have to.\n",
        "                                                                                # requires_grad=False is default in tensor type. *Read_More\n",
        "\n",
        "        # Configure input\n",
        "        real_imgs = imgs.type(Tensor) # As mentioned, it is no longer necessary to wrap the tensor in a Variable.\n",
        "      # real_imgs = Variable(imgs.type(Tensor)) # requires_grad=False, Default! It's same.\n",
        "\n",
        "# ------------\n",
        "# Train Generator\n",
        "# ------------\n",
        "        optimizer_G.zero_grad()\n",
        "\n",
        "        # sample noise 'z' as generator input\n",
        "        z = Tensor(np.random.normal(0, 1, (imgs.shape[0],latent_dim))) # Random sampling Tensor(batch_size, latent_dim) of Gaussian distribution\n",
        "        # z.shape == torch.Size([64, 100])\n",
        "\n",
        "        # Generate a batch of images\n",
        "        gen_imgs = generator(z)\n",
        "        # gen_imgs.shape == torch.Size([64, 1, 28, 28])\n",
        "\n",
        "        # Loss measures generator's ability to fool the discriminator\n",
        "        g_loss = adversarial_loss(discriminator(gen_imgs), valid) # torch.nn.BCELoss() compare result(64x1) and valid(64x1, filled with 1)\n",
        "\n",
        "        g_loss.backward()\n",
        "        optimizer_G.step()\n",
        "\n",
        "# ------------\n",
        "# Train Discriminator\n",
        "# ------------\n",
        "        optimizer_D.zero_grad()\n",
        "\n",
        "        # Measure discriminator's ability to classify real from generated samples\n",
        "        real_loss = adversarial_loss(discriminator(real_imgs), valid) # torch.nn.BCELoss() compare result(64x1) and valid(64x1, filled with 1)\n",
        "        fake_loss = adversarial_loss(discriminator(gen_imgs.detach()), fake) # We are learning the discriminator now. So have to use detach()\n",
        "\n",
        "        d_loss = (real_loss + fake_loss) / 2\n",
        "\n",
        "        d_loss.backward()# If didn't use detach() for gen_imgs, all weights of the generator will be calculated with backward().\n",
        "        optimizer_D.step()\n",
        "\n",
        "\n",
        "\n",
        "# ------------\n",
        "# Real Time Visualization (While Training)\n",
        "# ------------\n",
        "\n",
        "        sample_z_in_train = Tensor(np.random.normal(0, 1, (imgs.shape[0],latent_dim)))\n",
        "        # z.shape == torch.Size([64, 100])\n",
        "        sample_gen_imgs_in_train = generator(sample_z_in_train).detach().cpu()\n",
        "        # gen_imgs.shape == torch.Size([64, 1, 28, 28])\n",
        "\n",
        "        if ((i+1) % 200) == 0: # show while batch - 200/657, 400/657, 600/657\n",
        "            nrow=1\n",
        "            ncols=5\n",
        "            fig, axes = plt.subplots(nrows=nrow,ncols=ncols, figsize=(8,2))\n",
        "            plt.suptitle('EPOCH : {} | BATCH(ITERATION) : {}'.format(epoch+1, i+1))\n",
        "            for ncol in range(ncols):\n",
        "                axes[ncol].imshow(sample_gen_imgs_in_train.permute(0,2,3,1)[ncol], cmap='gray')\n",
        "                axes[ncol].axis('off')\n",
        "            plt.show()\n",
        "    print(\n",
        "        \"[Epoch: %d/%d] [Batch: %d/%d] [D loss: %f] [G loss: %f]\"\n",
        "        % (epoch+1, n_epochs, i+1, len(dataloader), d_loss.item(), g_loss.item())\n",
        "    )"
      ]
    },
    {
      "cell_type": "markdown",
      "id": "hungarian-carter",
      "metadata": {
        "papermill": {
          "duration": 0.093458,
          "end_time": "2021-06-23T16:01:21.826407",
          "exception": false,
          "start_time": "2021-06-23T16:01:21.732949",
          "status": "completed"
        },
        "tags": [],
        "id": "hungarian-carter"
      },
      "source": [
        "> TEST CODE : enumerate >> [docs.python.org/enumerate](https://docs.python.org/3/library/functions.html#enumerate)"
      ]
    },
    {
      "cell_type": "code",
      "execution_count": null,
      "id": "single-religious",
      "metadata": {
        "execution": {
          "iopub.execute_input": "2021-06-23T16:01:22.021111Z",
          "iopub.status.busy": "2021-06-23T16:01:22.020359Z",
          "iopub.status.idle": "2021-06-23T16:01:22.164097Z",
          "shell.execute_reply": "2021-06-23T16:01:22.163179Z",
          "shell.execute_reply.started": "2021-06-14T10:54:35.546582Z"
        },
        "papermill": {
          "duration": 0.243827,
          "end_time": "2021-06-23T16:01:22.164257",
          "exception": false,
          "start_time": "2021-06-23T16:01:21.920430",
          "status": "completed"
        },
        "tags": [],
        "colab": {
          "base_uri": "https://localhost:8080/"
        },
        "id": "single-religious",
        "outputId": "3667f20a-ed4c-42cd-f52a-b6554a941fed"
      },
      "outputs": [
        {
          "output_type": "stream",
          "name": "stdout",
          "text": [
            "Shape of Batch Images : \n",
            " torch.Size([64, 1, 28, 28])\n",
            "Labels (1~64) : \n",
            " tensor([8, 5, 3, 9, 5, 5, 1, 8, 7, 4, 2, 7, 1, 8, 0, 1, 3, 9, 7, 0, 6, 9, 2, 3,\n",
            "        0, 3, 1, 1, 5, 0, 5, 2, 5, 7, 9, 0, 6, 9, 8, 9, 3, 5, 6, 1, 3, 4, 8, 5,\n",
            "        0, 7, 2, 5, 8, 4, 1, 1, 2, 4, 6, 3, 0, 3, 2, 5])\n",
            "----------------------------------------------------------------------------------------------------\n",
            "Shape of Batch Images : \n",
            " torch.Size([64, 1, 28, 28])\n",
            "Labels (1~64) : \n",
            " tensor([3, 2, 7, 4, 5, 0, 9, 7, 4, 7, 0, 7, 0, 7, 2, 2, 8, 3, 6, 2, 1, 6, 0, 5,\n",
            "        9, 4, 1, 1, 5, 6, 2, 7, 3, 6, 7, 5, 3, 7, 8, 2, 0, 0, 9, 2, 7, 5, 1, 0,\n",
            "        2, 8, 8, 2, 1, 6, 5, 4, 1, 4, 9, 1, 0, 2, 0, 2])\n",
            "----------------------------------------------------------------------------------------------------\n",
            "Shape of Batch Images : \n",
            " torch.Size([64, 1, 28, 28])\n",
            "Labels (1~64) : \n",
            " tensor([2, 1, 9, 0, 8, 1, 7, 5, 0, 8, 3, 8, 3, 9, 8, 6, 8, 8, 2, 7, 0, 4, 9, 6,\n",
            "        4, 7, 3, 9, 3, 6, 4, 6, 1, 5, 8, 7, 4, 1, 1, 6, 5, 5, 2, 8, 3, 6, 2, 7,\n",
            "        7, 1, 3, 5, 8, 7, 1, 1, 7, 9, 7, 6, 9, 9, 4, 7])\n",
            "----------------------------------------------------------------------------------------------------\n",
            "Shape of Batch Images : \n",
            " torch.Size([64, 1, 28, 28])\n",
            "Labels (1~64) : \n",
            " tensor([9, 8, 1, 2, 4, 8, 1, 7, 4, 7, 1, 7, 9, 9, 0, 0, 3, 7, 2, 6, 1, 2, 1, 2,\n",
            "        7, 6, 4, 4, 8, 0, 6, 6, 3, 6, 5, 3, 5, 6, 1, 4, 9, 0, 6, 0, 6, 9, 4, 0,\n",
            "        5, 1, 4, 9, 8, 8, 2, 5, 6, 9, 4, 4, 0, 9, 3, 5])\n",
            "----------------------------------------------------------------------------------------------------\n",
            "Shape of Batch Images : \n",
            " torch.Size([64, 1, 28, 28])\n",
            "Labels (1~64) : \n",
            " tensor([7, 4, 8, 1, 5, 3, 8, 9, 7, 2, 5, 2, 6, 4, 7, 9, 2, 3, 5, 8, 0, 8, 9, 1,\n",
            "        5, 9, 0, 9, 3, 1, 1, 2, 0, 1, 9, 9, 3, 0, 1, 4, 7, 0, 2, 2, 6, 8, 6, 1,\n",
            "        1, 5, 5, 9, 2, 8, 8, 9, 7, 0, 8, 7, 4, 5, 1, 0])\n",
            "----------------------------------------------------------------------------------------------------\n"
          ]
        }
      ],
      "source": [
        "# result of enumerate\n",
        "count = 1\n",
        "for i, (imgs,label) in enumerate(dataloader):\n",
        "    print('Shape of Batch Images : \\n', imgs.shape)\n",
        "    print('Labels (1~64) : \\n', label)\n",
        "    print('-'*100)\n",
        "    if count == 5:\n",
        "        break\n",
        "    else:\n",
        "        count += 1"
      ]
    },
    {
      "cell_type": "markdown",
      "id": "spread-cornwall",
      "metadata": {
        "papermill": {
          "duration": 0.093449,
          "end_time": "2021-06-23T16:01:22.352527",
          "exception": false,
          "start_time": "2021-06-23T16:01:22.259078",
          "status": "completed"
        },
        "tags": [],
        "id": "spread-cornwall"
      },
      "source": [
        "> TEST CODE :\n",
        "- Read CSV file\n",
        "- Tensor(imgs.size(0),1)\n",
        "- Tensor(imgs.size(0),1).fill_(1.0)"
      ]
    },
    {
      "cell_type": "code",
      "execution_count": null,
      "id": "minor-kelly",
      "metadata": {
        "execution": {
          "iopub.execute_input": "2021-06-23T16:01:22.544967Z",
          "iopub.status.busy": "2021-06-23T16:01:22.544445Z",
          "iopub.status.idle": "2021-06-23T16:01:22.575686Z",
          "shell.execute_reply": "2021-06-23T16:01:22.575279Z",
          "shell.execute_reply.started": "2021-06-14T10:54:35.682797Z"
        },
        "papermill": {
          "duration": 0.129401,
          "end_time": "2021-06-23T16:01:22.575805",
          "exception": false,
          "start_time": "2021-06-23T16:01:22.446404",
          "status": "completed"
        },
        "tags": [],
        "colab": {
          "base_uri": "https://localhost:8080/"
        },
        "id": "minor-kelly",
        "outputId": "f91be05d-41a5-4fdd-c08f-3613ec3b4def"
      },
      "outputs": [
        {
          "output_type": "execute_result",
          "data": {
            "text/plain": [
              "tensor([[1.],\n",
              "        [1.],\n",
              "        [1.],\n",
              "        [1.],\n",
              "        [1.],\n",
              "        [1.],\n",
              "        [1.],\n",
              "        [1.],\n",
              "        [1.],\n",
              "        [1.]], device='cuda:0')"
            ]
          },
          "metadata": {},
          "execution_count": 36
        }
      ],
      "source": [
        "Tensor(10,1) # Just 10 for a quick look.\n",
        "             # We dealt with Tensor(imgs.size(0),1) above. Tensor(64,1) <-- len(H) == batch_size == 64, len(W) == 1"
      ]
    },
    {
      "cell_type": "code",
      "execution_count": null,
      "id": "indian-symposium",
      "metadata": {
        "execution": {
          "iopub.execute_input": "2021-06-23T16:01:22.769071Z",
          "iopub.status.busy": "2021-06-23T16:01:22.768517Z",
          "iopub.status.idle": "2021-06-23T16:01:22.776873Z",
          "shell.execute_reply": "2021-06-23T16:01:22.776445Z",
          "shell.execute_reply.started": "2021-06-14T10:54:35.691997Z"
        },
        "papermill": {
          "duration": 0.107154,
          "end_time": "2021-06-23T16:01:22.777011",
          "exception": false,
          "start_time": "2021-06-23T16:01:22.669857",
          "status": "completed"
        },
        "tags": [],
        "colab": {
          "base_uri": "https://localhost:8080/"
        },
        "id": "indian-symposium",
        "outputId": "4f532ed4-5e49-495b-ce4f-d8247a06291f"
      },
      "outputs": [
        {
          "output_type": "execute_result",
          "data": {
            "text/plain": [
              "tensor([[1.],\n",
              "        [1.],\n",
              "        [1.],\n",
              "        [1.],\n",
              "        [1.],\n",
              "        [1.],\n",
              "        [1.],\n",
              "        [1.],\n",
              "        [1.],\n",
              "        [1.]], device='cuda:0')"
            ]
          },
          "metadata": {},
          "execution_count": 37
        }
      ],
      "source": [
        "Tensor(10,1).fill_(1.0) # _ means inplace, fill the Tensor with 1.0"
      ]
    },
    {
      "cell_type": "markdown",
      "id": "vietnamese-semester",
      "metadata": {
        "papermill": {
          "duration": 0.095177,
          "end_time": "2021-06-23T16:01:22.966008",
          "exception": false,
          "start_time": "2021-06-23T16:01:22.870831",
          "status": "completed"
        },
        "tags": [],
        "id": "vietnamese-semester"
      },
      "source": [
        "> TEST CODE : Variable and requires_grad"
      ]
    },
    {
      "cell_type": "code",
      "execution_count": null,
      "id": "painted-sucking",
      "metadata": {
        "execution": {
          "iopub.execute_input": "2021-06-23T16:01:23.160399Z",
          "iopub.status.busy": "2021-06-23T16:01:23.159661Z",
          "iopub.status.idle": "2021-06-23T16:01:23.189617Z",
          "shell.execute_reply": "2021-06-23T16:01:23.189998Z",
          "shell.execute_reply.started": "2021-06-14T10:54:35.703346Z"
        },
        "papermill": {
          "duration": 0.129719,
          "end_time": "2021-06-23T16:01:23.190140",
          "exception": false,
          "start_time": "2021-06-23T16:01:23.060421",
          "status": "completed"
        },
        "tags": [],
        "id": "painted-sucking"
      },
      "outputs": [],
      "source": [
        "sample_img = next(iter(dataloader))[0]"
      ]
    },
    {
      "cell_type": "code",
      "execution_count": null,
      "id": "civic-entry",
      "metadata": {
        "execution": {
          "iopub.execute_input": "2021-06-23T16:01:23.396327Z",
          "iopub.status.busy": "2021-06-23T16:01:23.395614Z",
          "iopub.status.idle": "2021-06-23T16:01:23.398606Z",
          "shell.execute_reply": "2021-06-23T16:01:23.399042Z",
          "shell.execute_reply.started": "2021-06-14T10:54:35.737932Z"
        },
        "papermill": {
          "duration": 0.114504,
          "end_time": "2021-06-23T16:01:23.399178",
          "exception": false,
          "start_time": "2021-06-23T16:01:23.284674",
          "status": "completed"
        },
        "tags": [],
        "colab": {
          "base_uri": "https://localhost:8080/"
        },
        "id": "civic-entry",
        "outputId": "2d460dd4-743e-495c-ac9d-030395c39141"
      },
      "outputs": [
        {
          "output_type": "execute_result",
          "data": {
            "text/plain": [
              "(torch.Size([64, 1, 28, 28]), torch.float32)"
            ]
          },
          "metadata": {},
          "execution_count": 40
        }
      ],
      "source": [
        "sample_img.shape, sample_img.dtype"
      ]
    },
    {
      "cell_type": "code",
      "execution_count": null,
      "id": "extensive-single",
      "metadata": {
        "execution": {
          "iopub.execute_input": "2021-06-23T16:01:23.593790Z",
          "iopub.status.busy": "2021-06-23T16:01:23.593225Z",
          "iopub.status.idle": "2021-06-23T16:01:23.598721Z",
          "shell.execute_reply": "2021-06-23T16:01:23.599093Z",
          "shell.execute_reply.started": "2021-06-14T10:54:35.744923Z"
        },
        "papermill": {
          "duration": 0.104388,
          "end_time": "2021-06-23T16:01:23.599229",
          "exception": false,
          "start_time": "2021-06-23T16:01:23.494841",
          "status": "completed"
        },
        "tags": [],
        "colab": {
          "base_uri": "https://localhost:8080/"
        },
        "id": "extensive-single",
        "outputId": "d148fbb4-10e3-442a-8257-1270aa80c7d2"
      },
      "outputs": [
        {
          "output_type": "execute_result",
          "data": {
            "text/plain": [
              "False"
            ]
          },
          "metadata": {},
          "execution_count": 41
        }
      ],
      "source": [
        "sample_img.requires_grad # default : False"
      ]
    },
    {
      "cell_type": "code",
      "execution_count": null,
      "id": "royal-determination",
      "metadata": {
        "execution": {
          "iopub.execute_input": "2021-06-23T16:01:23.793742Z",
          "iopub.status.busy": "2021-06-23T16:01:23.793076Z",
          "iopub.status.idle": "2021-06-23T16:01:23.796155Z",
          "shell.execute_reply": "2021-06-23T16:01:23.796539Z",
          "shell.execute_reply.started": "2021-06-14T10:54:35.757151Z"
        },
        "papermill": {
          "duration": 0.103399,
          "end_time": "2021-06-23T16:01:23.796662",
          "exception": false,
          "start_time": "2021-06-23T16:01:23.693263",
          "status": "completed"
        },
        "tags": [],
        "colab": {
          "base_uri": "https://localhost:8080/"
        },
        "id": "royal-determination",
        "outputId": "8aed26ba-e198-4101-e7d5-20998dd67a70"
      },
      "outputs": [
        {
          "output_type": "execute_result",
          "data": {
            "text/plain": [
              "False"
            ]
          },
          "metadata": {},
          "execution_count": 42
        }
      ],
      "source": [
        "Variable(sample_img).requires_grad # exactly same"
      ]
    },
    {
      "cell_type": "code",
      "execution_count": null,
      "id": "limited-stone",
      "metadata": {
        "execution": {
          "iopub.execute_input": "2021-06-23T16:01:23.992751Z",
          "iopub.status.busy": "2021-06-23T16:01:23.992248Z",
          "iopub.status.idle": "2021-06-23T16:01:24.004223Z",
          "shell.execute_reply": "2021-06-23T16:01:24.003779Z",
          "shell.execute_reply.started": "2021-06-14T10:54:35.768555Z"
        },
        "papermill": {
          "duration": 0.113206,
          "end_time": "2021-06-23T16:01:24.004336",
          "exception": false,
          "start_time": "2021-06-23T16:01:23.891130",
          "status": "completed"
        },
        "tags": [],
        "colab": {
          "base_uri": "https://localhost:8080/"
        },
        "id": "limited-stone",
        "outputId": "67dc8231-7afa-4490-d639-6b0ed207b1b8"
      },
      "outputs": [
        {
          "output_type": "execute_result",
          "data": {
            "text/plain": [
              "tensor([[[[-1., -1., -1.,  ..., -1., -1., -1.],\n",
              "          [-1., -1., -1.,  ..., -1., -1., -1.],\n",
              "          [-1., -1., -1.,  ..., -1., -1., -1.],\n",
              "          ...,\n",
              "          [-1., -1., -1.,  ..., -1., -1., -1.],\n",
              "          [-1., -1., -1.,  ..., -1., -1., -1.],\n",
              "          [-1., -1., -1.,  ..., -1., -1., -1.]]],\n",
              "\n",
              "\n",
              "        [[[-1., -1., -1.,  ..., -1., -1., -1.],\n",
              "          [-1., -1., -1.,  ..., -1., -1., -1.],\n",
              "          [-1., -1., -1.,  ..., -1., -1., -1.],\n",
              "          ...,\n",
              "          [-1., -1., -1.,  ..., -1., -1., -1.],\n",
              "          [-1., -1., -1.,  ..., -1., -1., -1.],\n",
              "          [-1., -1., -1.,  ..., -1., -1., -1.]]],\n",
              "\n",
              "\n",
              "        [[[-1., -1., -1.,  ..., -1., -1., -1.],\n",
              "          [-1., -1., -1.,  ..., -1., -1., -1.],\n",
              "          [-1., -1., -1.,  ..., -1., -1., -1.],\n",
              "          ...,\n",
              "          [-1., -1., -1.,  ..., -1., -1., -1.],\n",
              "          [-1., -1., -1.,  ..., -1., -1., -1.],\n",
              "          [-1., -1., -1.,  ..., -1., -1., -1.]]],\n",
              "\n",
              "\n",
              "        ...,\n",
              "\n",
              "\n",
              "        [[[-1., -1., -1.,  ..., -1., -1., -1.],\n",
              "          [-1., -1., -1.,  ..., -1., -1., -1.],\n",
              "          [-1., -1., -1.,  ..., -1., -1., -1.],\n",
              "          ...,\n",
              "          [-1., -1., -1.,  ..., -1., -1., -1.],\n",
              "          [-1., -1., -1.,  ..., -1., -1., -1.],\n",
              "          [-1., -1., -1.,  ..., -1., -1., -1.]]],\n",
              "\n",
              "\n",
              "        [[[-1., -1., -1.,  ..., -1., -1., -1.],\n",
              "          [-1., -1., -1.,  ..., -1., -1., -1.],\n",
              "          [-1., -1., -1.,  ..., -1., -1., -1.],\n",
              "          ...,\n",
              "          [-1., -1., -1.,  ..., -1., -1., -1.],\n",
              "          [-1., -1., -1.,  ..., -1., -1., -1.],\n",
              "          [-1., -1., -1.,  ..., -1., -1., -1.]]],\n",
              "\n",
              "\n",
              "        [[[-1., -1., -1.,  ..., -1., -1., -1.],\n",
              "          [-1., -1., -1.,  ..., -1., -1., -1.],\n",
              "          [-1., -1., -1.,  ..., -1., -1., -1.],\n",
              "          ...,\n",
              "          [-1., -1., -1.,  ..., -1., -1., -1.],\n",
              "          [-1., -1., -1.,  ..., -1., -1., -1.],\n",
              "          [-1., -1., -1.,  ..., -1., -1., -1.]]]], requires_grad=True)"
            ]
          },
          "metadata": {},
          "execution_count": 43
        }
      ],
      "source": [
        "sample_img.requires_grad_(True) # set requires_grad to True, _ means inplace"
      ]
    },
    {
      "cell_type": "code",
      "execution_count": null,
      "id": "amazing-radar",
      "metadata": {
        "execution": {
          "iopub.execute_input": "2021-06-23T16:01:24.202628Z",
          "iopub.status.busy": "2021-06-23T16:01:24.201964Z",
          "iopub.status.idle": "2021-06-23T16:01:24.204957Z",
          "shell.execute_reply": "2021-06-23T16:01:24.205327Z",
          "shell.execute_reply.started": "2021-06-14T10:54:35.784539Z"
        },
        "papermill": {
          "duration": 0.104099,
          "end_time": "2021-06-23T16:01:24.205458",
          "exception": false,
          "start_time": "2021-06-23T16:01:24.101359",
          "status": "completed"
        },
        "tags": [],
        "colab": {
          "base_uri": "https://localhost:8080/"
        },
        "id": "amazing-radar",
        "outputId": "c3e5fc48-8676-4819-9d44-e87a1cbca688"
      },
      "outputs": [
        {
          "output_type": "execute_result",
          "data": {
            "text/plain": [
              "True"
            ]
          },
          "metadata": {},
          "execution_count": 44
        }
      ],
      "source": [
        "sample_img.requires_grad # Yes. requires_grad changed correctly. you don't need wrapping tensor with Variable."
      ]
    },
    {
      "cell_type": "markdown",
      "id": "engaged-money",
      "metadata": {
        "papermill": {
          "duration": 0.095807,
          "end_time": "2021-06-23T16:01:24.396317",
          "exception": false,
          "start_time": "2021-06-23T16:01:24.300510",
          "status": "completed"
        },
        "tags": [],
        "id": "engaged-money"
      },
      "source": [
        "However, it can be confusing here. Obviously, the derivative is computed through the loss, but not a single `requires_grad` is set to `true`.\n",
        "\n",
        "Remember, It's different from `model's parameter`. Internally, the parameters of each Module are stored in Tensors with `requires_grad=True` !"
      ]
    },
    {
      "cell_type": "markdown",
      "id": "sophisticated-decade",
      "metadata": {
        "papermill": {
          "duration": 0.095383,
          "end_time": "2021-06-23T16:01:24.627201",
          "exception": false,
          "start_time": "2021-06-23T16:01:24.531818",
          "status": "completed"
        },
        "tags": [],
        "id": "sophisticated-decade"
      },
      "source": [
        "> TEST CODE : Ramdom Sampling (H,W) from a normal(Gaussian) distribution"
      ]
    },
    {
      "cell_type": "code",
      "execution_count": null,
      "id": "desperate-grocery",
      "metadata": {
        "execution": {
          "iopub.execute_input": "2021-06-23T16:01:24.828279Z",
          "iopub.status.busy": "2021-06-23T16:01:24.827386Z",
          "iopub.status.idle": "2021-06-23T16:01:24.832811Z",
          "shell.execute_reply": "2021-06-23T16:01:24.833267Z",
          "shell.execute_reply.started": "2021-06-14T10:54:35.79203Z"
        },
        "papermill": {
          "duration": 0.10997,
          "end_time": "2021-06-23T16:01:24.833396",
          "exception": false,
          "start_time": "2021-06-23T16:01:24.723426",
          "status": "completed"
        },
        "tags": [],
        "colab": {
          "base_uri": "https://localhost:8080/"
        },
        "id": "desperate-grocery",
        "outputId": "f41eb6f4-e08e-490c-deb7-8363679ee1e6"
      },
      "outputs": [
        {
          "output_type": "execute_result",
          "data": {
            "text/plain": [
              "array([[ 1.59179697, -0.8655599 ,  0.52645076, ...,  1.20653506,\n",
              "        -2.16335778,  0.05231572],\n",
              "       [-1.91808923, -0.17741055, -0.6246812 , ..., -0.29772788,\n",
              "        -0.49405375,  0.46911396],\n",
              "       [-0.61145774,  0.60463418, -0.39088255, ...,  0.91946485,\n",
              "        -2.26746152, -2.01084735],\n",
              "       ...,\n",
              "       [-0.93560571,  1.22547074,  0.90538952, ...,  0.46664092,\n",
              "         0.39215897,  1.72995562],\n",
              "       [ 0.91985369, -1.06876302, -0.62101707, ...,  0.83440381,\n",
              "         0.87159931, -0.63388764],\n",
              "       [-1.57796112, -0.24136758, -0.11385907, ...,  0.18532476,\n",
              "         0.92119304, -1.32238704]])"
            ]
          },
          "metadata": {},
          "execution_count": 45
        }
      ],
      "source": [
        "np.random.normal(0,1,(64,100))"
      ]
    },
    {
      "cell_type": "code",
      "execution_count": null,
      "id": "introductory-preliminary",
      "metadata": {
        "execution": {
          "iopub.execute_input": "2021-06-23T16:01:25.040046Z",
          "iopub.status.busy": "2021-06-23T16:01:25.039255Z",
          "iopub.status.idle": "2021-06-23T16:01:25.044699Z",
          "shell.execute_reply": "2021-06-23T16:01:25.045139Z",
          "shell.execute_reply.started": "2021-06-14T10:54:35.803063Z"
        },
        "papermill": {
          "duration": 0.112043,
          "end_time": "2021-06-23T16:01:25.045283",
          "exception": false,
          "start_time": "2021-06-23T16:01:24.933240",
          "status": "completed"
        },
        "tags": [],
        "colab": {
          "base_uri": "https://localhost:8080/"
        },
        "id": "introductory-preliminary",
        "outputId": "6b3c5406-7a70-47fe-8d41-39520d359e43"
      },
      "outputs": [
        {
          "output_type": "execute_result",
          "data": {
            "text/plain": [
              "(64, 100)"
            ]
          },
          "metadata": {},
          "execution_count": 46
        }
      ],
      "source": [
        "np.random.normal(0,1,(64,100)).shape"
      ]
    },
    {
      "cell_type": "markdown",
      "id": "secondary-parker",
      "metadata": {
        "papermill": {
          "duration": 0.102628,
          "end_time": "2021-06-23T16:01:25.245334",
          "exception": false,
          "start_time": "2021-06-23T16:01:25.142706",
          "status": "completed"
        },
        "tags": [],
        "id": "secondary-parker"
      },
      "source": [
        "> TEST CODE : shape of z and gen_imgs and discriminator(gen_imgs)"
      ]
    },
    {
      "cell_type": "code",
      "execution_count": null,
      "id": "consecutive-combat",
      "metadata": {
        "execution": {
          "iopub.execute_input": "2021-06-23T16:01:25.473187Z",
          "iopub.status.busy": "2021-06-23T16:01:25.472244Z",
          "iopub.status.idle": "2021-06-23T16:01:25.477033Z",
          "shell.execute_reply": "2021-06-23T16:01:25.477469Z",
          "shell.execute_reply.started": "2021-06-14T10:54:35.811361Z"
        },
        "papermill": {
          "duration": 0.120456,
          "end_time": "2021-06-23T16:01:25.477618",
          "exception": false,
          "start_time": "2021-06-23T16:01:25.357162",
          "status": "completed"
        },
        "tags": [],
        "colab": {
          "base_uri": "https://localhost:8080/"
        },
        "id": "consecutive-combat",
        "outputId": "832528e0-5a78-4319-ed6c-9b0fab231c1e"
      },
      "outputs": [
        {
          "output_type": "execute_result",
          "data": {
            "text/plain": [
              "torch.Size([64, 100])"
            ]
          },
          "metadata": {},
          "execution_count": 47
        }
      ],
      "source": [
        "# latent vector\n",
        "sample_z = Tensor(np.random.normal(0, 1, (64,100)))\n",
        "sample_z.shape"
      ]
    },
    {
      "cell_type": "code",
      "execution_count": null,
      "id": "functional-admission",
      "metadata": {
        "execution": {
          "iopub.execute_input": "2021-06-23T16:01:25.693463Z",
          "iopub.status.busy": "2021-06-23T16:01:25.692579Z",
          "iopub.status.idle": "2021-06-23T16:01:25.698274Z",
          "shell.execute_reply": "2021-06-23T16:01:25.697851Z",
          "shell.execute_reply.started": "2021-06-14T10:59:08.562087Z"
        },
        "papermill": {
          "duration": 0.113427,
          "end_time": "2021-06-23T16:01:25.698383",
          "exception": false,
          "start_time": "2021-06-23T16:01:25.584956",
          "status": "completed"
        },
        "tags": [],
        "colab": {
          "base_uri": "https://localhost:8080/"
        },
        "id": "functional-admission",
        "outputId": "7ca3c06e-2158-457c-c375-6bd1d06d9439"
      },
      "outputs": [
        {
          "output_type": "execute_result",
          "data": {
            "text/plain": [
              "torch.Size([64, 1, 28, 28])"
            ]
          },
          "metadata": {},
          "execution_count": 48
        }
      ],
      "source": [
        "# generated images\n",
        "sample_gen_imgs = generator(sample_z)\n",
        "sample_gen_imgs.shape"
      ]
    },
    {
      "cell_type": "code",
      "execution_count": null,
      "id": "sophisticated-hobby",
      "metadata": {
        "execution": {
          "iopub.execute_input": "2021-06-23T16:01:25.983730Z",
          "iopub.status.busy": "2021-06-23T16:01:25.982904Z",
          "iopub.status.idle": "2021-06-23T16:01:25.987687Z",
          "shell.execute_reply": "2021-06-23T16:01:25.988291Z",
          "shell.execute_reply.started": "2021-06-14T10:59:10.151599Z"
        },
        "papermill": {
          "duration": 0.183416,
          "end_time": "2021-06-23T16:01:25.988486",
          "exception": false,
          "start_time": "2021-06-23T16:01:25.805070",
          "status": "completed"
        },
        "tags": [],
        "colab": {
          "base_uri": "https://localhost:8080/"
        },
        "id": "sophisticated-hobby",
        "outputId": "03f3f0be-c886-4d16-a822-cec69a340fc5"
      },
      "outputs": [
        {
          "output_type": "execute_result",
          "data": {
            "text/plain": [
              "torch.Size([64, 1])"
            ]
          },
          "metadata": {},
          "execution_count": 49
        }
      ],
      "source": [
        "# discrimination result\n",
        "sample_discrim_result = discriminator(sample_gen_imgs)\n",
        "sample_discrim_result.shape"
      ]
    },
    {
      "cell_type": "markdown",
      "id": "neural-dealing",
      "metadata": {
        "execution": {
          "iopub.execute_input": "2021-06-13T03:32:26.913329Z",
          "iopub.status.busy": "2021-06-13T03:32:26.913011Z",
          "iopub.status.idle": "2021-06-13T03:32:26.917897Z",
          "shell.execute_reply": "2021-06-13T03:32:26.917117Z",
          "shell.execute_reply.started": "2021-06-13T03:32:26.913302Z"
        },
        "papermill": {
          "duration": 0.155962,
          "end_time": "2021-06-23T16:01:26.321505",
          "exception": false,
          "start_time": "2021-06-23T16:01:26.165543",
          "status": "completed"
        },
        "tags": [],
        "id": "neural-dealing"
      },
      "source": [
        "> TEST CODE : g_loss"
      ]
    },
    {
      "cell_type": "code",
      "execution_count": null,
      "id": "affected-polyester",
      "metadata": {
        "execution": {
          "iopub.execute_input": "2021-06-23T16:01:26.544323Z",
          "iopub.status.busy": "2021-06-23T16:01:26.543688Z",
          "iopub.status.idle": "2021-06-23T16:01:26.546534Z",
          "shell.execute_reply": "2021-06-23T16:01:26.546956Z",
          "shell.execute_reply.started": "2021-06-14T10:59:11.16077Z"
        },
        "papermill": {
          "duration": 0.108467,
          "end_time": "2021-06-23T16:01:26.547086",
          "exception": false,
          "start_time": "2021-06-23T16:01:26.438619",
          "status": "completed"
        },
        "tags": [],
        "colab": {
          "base_uri": "https://localhost:8080/"
        },
        "id": "affected-polyester",
        "outputId": "ffaf5a2c-d615-4eeb-ab6d-78a671b49fde"
      },
      "outputs": [
        {
          "output_type": "execute_result",
          "data": {
            "text/plain": [
              "BCELoss()"
            ]
          },
          "metadata": {},
          "execution_count": 50
        }
      ],
      "source": [
        "adversarial_loss"
      ]
    },
    {
      "cell_type": "code",
      "execution_count": null,
      "id": "valid-lightweight",
      "metadata": {
        "execution": {
          "iopub.execute_input": "2021-06-23T16:01:26.751060Z",
          "iopub.status.busy": "2021-06-23T16:01:26.750266Z",
          "iopub.status.idle": "2021-06-23T16:01:26.825686Z",
          "shell.execute_reply": "2021-06-23T16:01:26.826115Z",
          "shell.execute_reply.started": "2021-06-14T10:59:11.855853Z"
        },
        "papermill": {
          "duration": 0.181723,
          "end_time": "2021-06-23T16:01:26.826261",
          "exception": false,
          "start_time": "2021-06-23T16:01:26.644538",
          "status": "completed"
        },
        "tags": [],
        "colab": {
          "base_uri": "https://localhost:8080/",
          "height": 176
        },
        "id": "valid-lightweight",
        "outputId": "e7a3d503-beeb-4e31-cf9c-e077de47ad32"
      },
      "outputs": [
        {
          "output_type": "error",
          "ename": "NameError",
          "evalue": "name 'sample_valid' is not defined",
          "traceback": [
            "\u001b[0;31m---------------------------------------------------------------------------\u001b[0m",
            "\u001b[0;31mNameError\u001b[0m                                 Traceback (most recent call last)",
            "\u001b[0;32m<ipython-input-51-1784fbb9683f>\u001b[0m in \u001b[0;36m<cell line: 1>\u001b[0;34m()\u001b[0m\n\u001b[0;32m----> 1\u001b[0;31m \u001b[0msample_valid\u001b[0m\u001b[0;34m.\u001b[0m\u001b[0mshape\u001b[0m\u001b[0;34m\u001b[0m\u001b[0;34m\u001b[0m\u001b[0m\n\u001b[0m",
            "\u001b[0;31mNameError\u001b[0m: name 'sample_valid' is not defined"
          ]
        }
      ],
      "source": [
        "sample_valid.shape"
      ]
    },
    {
      "cell_type": "code",
      "execution_count": null,
      "id": "contemporary-israeli",
      "metadata": {
        "execution": {
          "iopub.execute_input": "2021-06-23T16:01:27.029420Z",
          "iopub.status.busy": "2021-06-23T16:01:27.028555Z",
          "iopub.status.idle": "2021-06-23T16:01:27.038642Z",
          "shell.execute_reply": "2021-06-23T16:01:27.038244Z",
          "shell.execute_reply.started": "2021-06-14T10:59:12.126787Z"
        },
        "papermill": {
          "duration": 0.113229,
          "end_time": "2021-06-23T16:01:27.038758",
          "exception": false,
          "start_time": "2021-06-23T16:01:26.925529",
          "status": "completed"
        },
        "tags": [],
        "colab": {
          "base_uri": "https://localhost:8080/"
        },
        "id": "contemporary-israeli",
        "outputId": "df6c90a6-8039-45fc-cbd7-04b8112c2a08"
      },
      "outputs": [
        {
          "output_type": "execute_result",
          "data": {
            "text/plain": [
              "tensor(1.5516, device='cuda:0', grad_fn=<BinaryCrossEntropyBackward0>)"
            ]
          },
          "metadata": {},
          "execution_count": 52
        }
      ],
      "source": [
        "sample_valid = Tensor(64,1).fill_(1.0)\n",
        "sample_g_loss = adversarial_loss(sample_discrim_result, sample_valid)\n",
        "sample_g_loss"
      ]
    },
    {
      "cell_type": "markdown",
      "id": "animal-invite",
      "metadata": {
        "execution": {
          "iopub.execute_input": "2021-06-14T08:28:06.971551Z",
          "iopub.status.busy": "2021-06-14T08:28:06.970211Z",
          "iopub.status.idle": "2021-06-14T08:28:06.994767Z",
          "shell.execute_reply": "2021-06-14T08:28:06.992784Z",
          "shell.execute_reply.started": "2021-06-14T08:28:06.971123Z"
        },
        "papermill": {
          "duration": 0.098351,
          "end_time": "2021-06-23T16:01:27.235817",
          "exception": false,
          "start_time": "2021-06-23T16:01:27.137466",
          "status": "completed"
        },
        "tags": [],
        "id": "animal-invite"
      },
      "source": [
        "> TEST CODE : detach()\n",
        "- refer : [What is PyTorch '.detach()' method? - theroyakash, 2020-11](https://dev.to/theroyakash/what-is-pytorch-detach-method-15oo)"
      ]
    },
    {
      "cell_type": "code",
      "execution_count": null,
      "id": "homeless-romance",
      "metadata": {
        "execution": {
          "iopub.execute_input": "2021-06-23T16:01:27.437646Z",
          "iopub.status.busy": "2021-06-23T16:01:27.437126Z",
          "iopub.status.idle": "2021-06-23T16:01:36.280693Z",
          "shell.execute_reply": "2021-06-23T16:01:36.279722Z",
          "shell.execute_reply.started": "2021-06-14T10:59:15.994378Z"
        },
        "papermill": {
          "duration": 8.946518,
          "end_time": "2021-06-23T16:01:36.280837",
          "exception": false,
          "start_time": "2021-06-23T16:01:27.334319",
          "status": "completed"
        },
        "tags": [],
        "colab": {
          "base_uri": "https://localhost:8080/"
        },
        "id": "homeless-romance",
        "outputId": "4f0c4e32-33f8-427b-c9ff-46e981ec029f"
      },
      "outputs": [
        {
          "output_type": "stream",
          "name": "stdout",
          "text": [
            "Collecting torchviz\n",
            "  Downloading torchviz-0.0.2.tar.gz (4.9 kB)\n",
            "  Preparing metadata (setup.py) ... \u001b[?25l\u001b[?25hdone\n",
            "Requirement already satisfied: torch in /usr/local/lib/python3.10/dist-packages (from torchviz) (2.1.0+cu121)\n",
            "Requirement already satisfied: graphviz in /usr/local/lib/python3.10/dist-packages (from torchviz) (0.20.1)\n",
            "Requirement already satisfied: filelock in /usr/local/lib/python3.10/dist-packages (from torch->torchviz) (3.13.1)\n",
            "Requirement already satisfied: typing-extensions in /usr/local/lib/python3.10/dist-packages (from torch->torchviz) (4.5.0)\n",
            "Requirement already satisfied: sympy in /usr/local/lib/python3.10/dist-packages (from torch->torchviz) (1.12)\n",
            "Requirement already satisfied: networkx in /usr/local/lib/python3.10/dist-packages (from torch->torchviz) (3.2.1)\n",
            "Requirement already satisfied: jinja2 in /usr/local/lib/python3.10/dist-packages (from torch->torchviz) (3.1.3)\n",
            "Requirement already satisfied: fsspec in /usr/local/lib/python3.10/dist-packages (from torch->torchviz) (2023.6.0)\n",
            "Requirement already satisfied: triton==2.1.0 in /usr/local/lib/python3.10/dist-packages (from torch->torchviz) (2.1.0)\n",
            "Requirement already satisfied: MarkupSafe>=2.0 in /usr/local/lib/python3.10/dist-packages (from jinja2->torch->torchviz) (2.1.3)\n",
            "Requirement already satisfied: mpmath>=0.19 in /usr/local/lib/python3.10/dist-packages (from sympy->torch->torchviz) (1.3.0)\n",
            "Building wheels for collected packages: torchviz\n",
            "  Building wheel for torchviz (setup.py) ... \u001b[?25l\u001b[?25hdone\n",
            "  Created wheel for torchviz: filename=torchviz-0.0.2-py3-none-any.whl size=4131 sha256=303b1eb26c7281e8c8f1748f85c4025103f3efc631efa809c2b602fd10c3a95f\n",
            "  Stored in directory: /root/.cache/pip/wheels/4c/97/88/a02973217949e0db0c9f4346d154085f4725f99c4f15a87094\n",
            "Successfully built torchviz\n",
            "Installing collected packages: torchviz\n",
            "Successfully installed torchviz-0.0.2\n"
          ]
        }
      ],
      "source": [
        "!pip install torchviz\n",
        "import torchviz"
      ]
    },
    {
      "cell_type": "code",
      "execution_count": null,
      "id": "musical-signal",
      "metadata": {
        "execution": {
          "iopub.execute_input": "2021-06-23T16:01:36.489226Z",
          "iopub.status.busy": "2021-06-23T16:01:36.488427Z",
          "iopub.status.idle": "2021-06-23T16:01:36.899235Z",
          "shell.execute_reply": "2021-06-23T16:01:36.899986Z",
          "shell.execute_reply.started": "2021-06-14T10:59:24.944228Z"
        },
        "papermill": {
          "duration": 0.517407,
          "end_time": "2021-06-23T16:01:36.900188",
          "exception": false,
          "start_time": "2021-06-23T16:01:36.382781",
          "status": "completed"
        },
        "tags": [],
        "colab": {
          "base_uri": "https://localhost:8080/",
          "height": 456
        },
        "id": "musical-signal",
        "outputId": "9535c0b3-a7e6-4cbc-bda0-15d0e0f135a4"
      },
      "outputs": [
        {
          "output_type": "execute_result",
          "data": {
            "image/svg+xml": "<?xml version=\"1.0\" encoding=\"UTF-8\" standalone=\"no\"?>\n<!DOCTYPE svg PUBLIC \"-//W3C//DTD SVG 1.1//EN\"\n \"http://www.w3.org/Graphics/SVG/1.1/DTD/svg11.dtd\">\n<!-- Generated by graphviz version 2.43.0 (0)\n -->\n<!-- Title: %3 Pages: 1 -->\n<svg width=\"204pt\" height=\"326pt\"\n viewBox=\"0.00 0.00 204.00 326.00\" xmlns=\"http://www.w3.org/2000/svg\" xmlns:xlink=\"http://www.w3.org/1999/xlink\">\n<g id=\"graph0\" class=\"graph\" transform=\"scale(1 1) rotate(0) translate(4 322)\">\n<title>%3</title>\n<polygon fill=\"white\" stroke=\"transparent\" points=\"-4,4 -4,-322 200,-322 200,4 -4,4\"/>\n<!-- 132620845565248 -->\n<g id=\"node1\" class=\"node\">\n<title>132620845565248</title>\n<polygon fill=\"#caff70\" stroke=\"black\" points=\"124.5,-31 70.5,-31 70.5,0 124.5,0 124.5,-31\"/>\n<text text-anchor=\"middle\" x=\"97.5\" y=\"-7\" font-family=\"monospace\" font-size=\"10.00\"> ()</text>\n</g>\n<!-- 132620846110304 -->\n<g id=\"node2\" class=\"node\">\n<title>132620846110304</title>\n<polygon fill=\"lightgrey\" stroke=\"black\" points=\"142,-86 53,-86 53,-67 142,-67 142,-86\"/>\n<text text-anchor=\"middle\" x=\"97.5\" y=\"-74\" font-family=\"monospace\" font-size=\"10.00\">SumBackward0</text>\n</g>\n<!-- 132620846110304&#45;&gt;132620845565248 -->\n<g id=\"edge7\" class=\"edge\">\n<title>132620846110304&#45;&gt;132620845565248</title>\n<path fill=\"none\" stroke=\"black\" d=\"M97.5,-66.79C97.5,-60.07 97.5,-50.4 97.5,-41.34\"/>\n<polygon fill=\"black\" stroke=\"black\" points=\"101,-41.19 97.5,-31.19 94,-41.19 101,-41.19\"/>\n</g>\n<!-- 132620846112992 -->\n<g id=\"node3\" class=\"node\">\n<title>132620846112992</title>\n<polygon fill=\"lightgrey\" stroke=\"black\" points=\"142,-141 53,-141 53,-122 142,-122 142,-141\"/>\n<text text-anchor=\"middle\" x=\"97.5\" y=\"-129\" font-family=\"monospace\" font-size=\"10.00\">AddBackward0</text>\n</g>\n<!-- 132620846112992&#45;&gt;132620846110304 -->\n<g id=\"edge1\" class=\"edge\">\n<title>132620846112992&#45;&gt;132620846110304</title>\n<path fill=\"none\" stroke=\"black\" d=\"M97.5,-121.75C97.5,-114.8 97.5,-104.85 97.5,-96.13\"/>\n<polygon fill=\"black\" stroke=\"black\" points=\"101,-96.09 97.5,-86.09 94,-96.09 101,-96.09\"/>\n</g>\n<!-- 132620846112896 -->\n<g id=\"node4\" class=\"node\">\n<title>132620846112896</title>\n<polygon fill=\"lightgrey\" stroke=\"black\" points=\"89,-196 0,-196 0,-177 89,-177 89,-196\"/>\n<text text-anchor=\"middle\" x=\"44.5\" y=\"-184\" font-family=\"monospace\" font-size=\"10.00\">PowBackward0</text>\n</g>\n<!-- 132620846112896&#45;&gt;132620846112992 -->\n<g id=\"edge2\" class=\"edge\">\n<title>132620846112896&#45;&gt;132620846112992</title>\n<path fill=\"none\" stroke=\"black\" d=\"M53.25,-176.75C60.97,-169.03 72.4,-157.6 81.72,-148.28\"/>\n<polygon fill=\"black\" stroke=\"black\" points=\"84.31,-150.64 88.91,-141.09 79.36,-145.69 84.31,-150.64\"/>\n</g>\n<!-- 132620846109200 -->\n<g id=\"node5\" class=\"node\">\n<title>132620846109200</title>\n<polygon fill=\"lightgrey\" stroke=\"black\" points=\"148,-251 47,-251 47,-232 148,-232 148,-251\"/>\n<text text-anchor=\"middle\" x=\"97.5\" y=\"-239\" font-family=\"monospace\" font-size=\"10.00\">AccumulateGrad</text>\n</g>\n<!-- 132620846109200&#45;&gt;132620846112896 -->\n<g id=\"edge3\" class=\"edge\">\n<title>132620846109200&#45;&gt;132620846112896</title>\n<path fill=\"none\" stroke=\"black\" d=\"M88.75,-231.75C81.03,-224.03 69.6,-212.6 60.28,-203.28\"/>\n<polygon fill=\"black\" stroke=\"black\" points=\"62.64,-200.69 53.09,-196.09 57.69,-205.64 62.64,-200.69\"/>\n</g>\n<!-- 132620846116352 -->\n<g id=\"node7\" class=\"node\">\n<title>132620846116352</title>\n<polygon fill=\"lightgrey\" stroke=\"black\" points=\"196,-196 107,-196 107,-177 196,-177 196,-196\"/>\n<text text-anchor=\"middle\" x=\"151.5\" y=\"-184\" font-family=\"monospace\" font-size=\"10.00\">PowBackward0</text>\n</g>\n<!-- 132620846109200&#45;&gt;132620846116352 -->\n<g id=\"edge6\" class=\"edge\">\n<title>132620846109200&#45;&gt;132620846116352</title>\n<path fill=\"none\" stroke=\"black\" d=\"M106.42,-231.75C114.28,-224.03 125.93,-212.6 135.42,-203.28\"/>\n<polygon fill=\"black\" stroke=\"black\" points=\"138.06,-205.59 142.75,-196.09 133.16,-200.6 138.06,-205.59\"/>\n</g>\n<!-- 132620845574048 -->\n<g id=\"node6\" class=\"node\">\n<title>132620845574048</title>\n<polygon fill=\"lightblue\" stroke=\"black\" points=\"133,-318 62,-318 62,-287 133,-287 133,-318\"/>\n<text text-anchor=\"middle\" x=\"97.5\" y=\"-294\" font-family=\"monospace\" font-size=\"10.00\"> (28, 28)</text>\n</g>\n<!-- 132620845574048&#45;&gt;132620846109200 -->\n<g id=\"edge4\" class=\"edge\">\n<title>132620845574048&#45;&gt;132620846109200</title>\n<path fill=\"none\" stroke=\"black\" d=\"M97.5,-286.92C97.5,-279.22 97.5,-269.69 97.5,-261.43\"/>\n<polygon fill=\"black\" stroke=\"black\" points=\"101,-261.25 97.5,-251.25 94,-261.25 101,-261.25\"/>\n</g>\n<!-- 132620846116352&#45;&gt;132620846112992 -->\n<g id=\"edge5\" class=\"edge\">\n<title>132620846116352&#45;&gt;132620846112992</title>\n<path fill=\"none\" stroke=\"black\" d=\"M142.58,-176.75C134.72,-169.03 123.07,-157.6 113.58,-148.28\"/>\n<polygon fill=\"black\" stroke=\"black\" points=\"115.84,-145.6 106.25,-141.09 110.94,-150.59 115.84,-145.6\"/>\n</g>\n</g>\n</svg>\n",
            "text/plain": [
              "<graphviz.graphs.Digraph at 0x789e326c16c0>"
            ]
          },
          "metadata": {},
          "execution_count": 54
        }
      ],
      "source": [
        "X = torch.ones((28,28), dtype=torch.float32, requires_grad=True)\n",
        "square_X = X**2\n",
        "cubic_X = X**3\n",
        "\n",
        "result = (square_X+cubic_X).sum()\n",
        "\n",
        "torchviz.make_dot(result)\n"
      ]
    },
    {
      "cell_type": "code",
      "execution_count": null,
      "id": "built-ordering",
      "metadata": {
        "execution": {
          "iopub.execute_input": "2021-06-23T16:01:37.231492Z",
          "iopub.status.busy": "2021-06-23T16:01:37.230687Z",
          "iopub.status.idle": "2021-06-23T16:01:37.321056Z",
          "shell.execute_reply": "2021-06-23T16:01:37.320546Z",
          "shell.execute_reply.started": "2021-06-14T10:59:25.321984Z"
        },
        "papermill": {
          "duration": 0.260396,
          "end_time": "2021-06-23T16:01:37.321182",
          "exception": false,
          "start_time": "2021-06-23T16:01:37.060786",
          "status": "completed"
        },
        "tags": [],
        "colab": {
          "base_uri": "https://localhost:8080/",
          "height": 456
        },
        "id": "built-ordering",
        "outputId": "432de05b-ed0a-4b19-90f2-d219b3b221af"
      },
      "outputs": [
        {
          "output_type": "execute_result",
          "data": {
            "image/svg+xml": "<?xml version=\"1.0\" encoding=\"UTF-8\" standalone=\"no\"?>\n<!DOCTYPE svg PUBLIC \"-//W3C//DTD SVG 1.1//EN\"\n \"http://www.w3.org/Graphics/SVG/1.1/DTD/svg11.dtd\">\n<!-- Generated by graphviz version 2.43.0 (0)\n -->\n<!-- Title: %3 Pages: 1 -->\n<svg width=\"109pt\" height=\"326pt\"\n viewBox=\"0.00 0.00 109.00 326.00\" xmlns=\"http://www.w3.org/2000/svg\" xmlns:xlink=\"http://www.w3.org/1999/xlink\">\n<g id=\"graph0\" class=\"graph\" transform=\"scale(1 1) rotate(0) translate(4 322)\">\n<title>%3</title>\n<polygon fill=\"white\" stroke=\"transparent\" points=\"-4,4 -4,-322 105,-322 105,4 -4,4\"/>\n<!-- 132620845572448 -->\n<g id=\"node1\" class=\"node\">\n<title>132620845572448</title>\n<polygon fill=\"#caff70\" stroke=\"black\" points=\"77.5,-31 23.5,-31 23.5,0 77.5,0 77.5,-31\"/>\n<text text-anchor=\"middle\" x=\"50.5\" y=\"-7\" font-family=\"monospace\" font-size=\"10.00\"> ()</text>\n</g>\n<!-- 132620846110016 -->\n<g id=\"node2\" class=\"node\">\n<title>132620846110016</title>\n<polygon fill=\"lightgrey\" stroke=\"black\" points=\"95,-86 6,-86 6,-67 95,-67 95,-86\"/>\n<text text-anchor=\"middle\" x=\"50.5\" y=\"-74\" font-family=\"monospace\" font-size=\"10.00\">SumBackward0</text>\n</g>\n<!-- 132620846110016&#45;&gt;132620845572448 -->\n<g id=\"edge5\" class=\"edge\">\n<title>132620846110016&#45;&gt;132620845572448</title>\n<path fill=\"none\" stroke=\"black\" d=\"M50.5,-66.79C50.5,-60.07 50.5,-50.4 50.5,-41.34\"/>\n<polygon fill=\"black\" stroke=\"black\" points=\"54,-41.19 50.5,-31.19 47,-41.19 54,-41.19\"/>\n</g>\n<!-- 132620846118176 -->\n<g id=\"node3\" class=\"node\">\n<title>132620846118176</title>\n<polygon fill=\"lightgrey\" stroke=\"black\" points=\"95,-141 6,-141 6,-122 95,-122 95,-141\"/>\n<text text-anchor=\"middle\" x=\"50.5\" y=\"-129\" font-family=\"monospace\" font-size=\"10.00\">AddBackward0</text>\n</g>\n<!-- 132620846118176&#45;&gt;132620846110016 -->\n<g id=\"edge1\" class=\"edge\">\n<title>132620846118176&#45;&gt;132620846110016</title>\n<path fill=\"none\" stroke=\"black\" d=\"M50.5,-121.75C50.5,-114.8 50.5,-104.85 50.5,-96.13\"/>\n<polygon fill=\"black\" stroke=\"black\" points=\"54,-96.09 50.5,-86.09 47,-96.09 54,-96.09\"/>\n</g>\n<!-- 132620846117888 -->\n<g id=\"node4\" class=\"node\">\n<title>132620846117888</title>\n<polygon fill=\"lightgrey\" stroke=\"black\" points=\"95,-196 6,-196 6,-177 95,-177 95,-196\"/>\n<text text-anchor=\"middle\" x=\"50.5\" y=\"-184\" font-family=\"monospace\" font-size=\"10.00\">PowBackward0</text>\n</g>\n<!-- 132620846117888&#45;&gt;132620846118176 -->\n<g id=\"edge2\" class=\"edge\">\n<title>132620846117888&#45;&gt;132620846118176</title>\n<path fill=\"none\" stroke=\"black\" d=\"M50.5,-176.75C50.5,-169.8 50.5,-159.85 50.5,-151.13\"/>\n<polygon fill=\"black\" stroke=\"black\" points=\"54,-151.09 50.5,-141.09 47,-151.09 54,-151.09\"/>\n</g>\n<!-- 132620846120768 -->\n<g id=\"node5\" class=\"node\">\n<title>132620846120768</title>\n<polygon fill=\"lightgrey\" stroke=\"black\" points=\"101,-251 0,-251 0,-232 101,-232 101,-251\"/>\n<text text-anchor=\"middle\" x=\"50.5\" y=\"-239\" font-family=\"monospace\" font-size=\"10.00\">AccumulateGrad</text>\n</g>\n<!-- 132620846120768&#45;&gt;132620846117888 -->\n<g id=\"edge3\" class=\"edge\">\n<title>132620846120768&#45;&gt;132620846117888</title>\n<path fill=\"none\" stroke=\"black\" d=\"M50.5,-231.75C50.5,-224.8 50.5,-214.85 50.5,-206.13\"/>\n<polygon fill=\"black\" stroke=\"black\" points=\"54,-206.09 50.5,-196.09 47,-206.09 54,-206.09\"/>\n</g>\n<!-- 132620845566768 -->\n<g id=\"node6\" class=\"node\">\n<title>132620845566768</title>\n<polygon fill=\"lightblue\" stroke=\"black\" points=\"86,-318 15,-318 15,-287 86,-287 86,-318\"/>\n<text text-anchor=\"middle\" x=\"50.5\" y=\"-294\" font-family=\"monospace\" font-size=\"10.00\"> (28, 28)</text>\n</g>\n<!-- 132620845566768&#45;&gt;132620846120768 -->\n<g id=\"edge4\" class=\"edge\">\n<title>132620845566768&#45;&gt;132620846120768</title>\n<path fill=\"none\" stroke=\"black\" d=\"M50.5,-286.92C50.5,-279.22 50.5,-269.69 50.5,-261.43\"/>\n<polygon fill=\"black\" stroke=\"black\" points=\"54,-261.25 50.5,-251.25 47,-261.25 54,-261.25\"/>\n</g>\n</g>\n</svg>\n",
            "text/plain": [
              "<graphviz.graphs.Digraph at 0x789e326c1570>"
            ]
          },
          "metadata": {},
          "execution_count": 55
        }
      ],
      "source": [
        "X = torch.ones((28,28), dtype=torch.float32, requires_grad=True)\n",
        "square_X = X**2\n",
        "cubic_X = X.detach()**3\n",
        "\n",
        "result = (square_X+cubic_X).sum()\n",
        "\n",
        "torchviz.make_dot(result)"
      ]
    },
    {
      "cell_type": "markdown",
      "id": "optimum-cameroon",
      "metadata": {
        "papermill": {
          "duration": 0.101571,
          "end_time": "2021-06-23T16:01:37.524745",
          "exception": false,
          "start_time": "2021-06-23T16:01:37.423174",
          "status": "completed"
        },
        "tags": [],
        "id": "optimum-cameroon"
      },
      "source": [
        "> Read More\n",
        "- [What is Ground Truth? - Definition from Techpedia](https://www.techopedia.com/definition/32514/ground-truth)\n",
        "- [tqdm. A Fast, Extensible Progress Bar for Python and CLI](https://github.com/tqdm/tqdm)\n",
        "- [Variables are no longer necessary to use autograd with tensors](https://pytorch.org/docs/stable/autograd.html#variable-deprecated)\n",
        "- [np.random.normal(loc=0.0, scale=1.0, size=None)](https://numpy.org/doc/stable/reference/random/generated/numpy.random.normal.html)\n",
        "\n"
      ]
    },
    {
      "cell_type": "markdown",
      "id": "ordinary-frame",
      "metadata": {
        "papermill": {
          "duration": 0.101557,
          "end_time": "2021-06-23T16:01:37.728722",
          "exception": false,
          "start_time": "2021-06-23T16:01:37.627165",
          "status": "completed"
        },
        "tags": [],
        "id": "ordinary-frame"
      },
      "source": [
        "--------------"
      ]
    },
    {
      "cell_type": "markdown",
      "id": "ordinary-grave",
      "metadata": {
        "papermill": {
          "duration": 0.102336,
          "end_time": "2021-06-23T16:01:37.932326",
          "exception": false,
          "start_time": "2021-06-23T16:01:37.829990",
          "status": "completed"
        },
        "tags": [],
        "id": "ordinary-grave"
      },
      "source": [
        "\n",
        "So far, we have completed the basic model of gan and tested the model through mnist data.\n",
        "\n",
        "I plan to implement and test more various gan models from the very basics through this series, so let's study together!\n",
        "\n",
        "Thank you and Enjoy your Kaggle! :)"
      ]
    }
  ],
  "metadata": {
    "kernelspec": {
      "display_name": "Python 3",
      "name": "python3"
    },
    "language_info": {
      "codemirror_mode": {
        "name": "ipython",
        "version": 3
      },
      "file_extension": ".py",
      "mimetype": "text/x-python",
      "name": "python",
      "nbconvert_exporter": "python",
      "pygments_lexer": "ipython3",
      "version": "3.7.10"
    },
    "papermill": {
      "default_parameters": {},
      "duration": 286.978272,
      "end_time": "2021-06-23T16:01:39.946658",
      "environment_variables": {},
      "exception": null,
      "input_path": "__notebook__.ipynb",
      "output_path": "__notebook__.ipynb",
      "parameters": {},
      "start_time": "2021-06-23T15:56:52.968386",
      "version": "2.3.3"
    },
    "widgets": {
      "application/vnd.jupyter.widget-state+json": {
        "dd4874c0f7534fa284ec478b057d9a1b": {
          "model_module": "@jupyter-widgets/controls",
          "model_name": "HBoxModel",
          "model_module_version": "1.5.0",
          "state": {
            "_dom_classes": [],
            "_model_module": "@jupyter-widgets/controls",
            "_model_module_version": "1.5.0",
            "_model_name": "HBoxModel",
            "_view_count": null,
            "_view_module": "@jupyter-widgets/controls",
            "_view_module_version": "1.5.0",
            "_view_name": "HBoxView",
            "box_style": "",
            "children": [
              "IPY_MODEL_da2c65621f4e48899b9fb07e5a44b4de",
              "IPY_MODEL_0b3bacd737ff4990ae0ac8d8119a48d3",
              "IPY_MODEL_4c8d98d7f2e44ab9b3dc6582a1e43785"
            ],
            "layout": "IPY_MODEL_05169232ca3e4d30b7b70a26583f101f"
          }
        },
        "da2c65621f4e48899b9fb07e5a44b4de": {
          "model_module": "@jupyter-widgets/controls",
          "model_name": "HTMLModel",
          "model_module_version": "1.5.0",
          "state": {
            "_dom_classes": [],
            "_model_module": "@jupyter-widgets/controls",
            "_model_module_version": "1.5.0",
            "_model_name": "HTMLModel",
            "_view_count": null,
            "_view_module": "@jupyter-widgets/controls",
            "_view_module_version": "1.5.0",
            "_view_name": "HTMLView",
            "description": "",
            "description_tooltip": null,
            "layout": "IPY_MODEL_558f2f943d4a487f88d3b748a768ca71",
            "placeholder": "​",
            "style": "IPY_MODEL_cb0d0290ff354190a7b81a38c9c76905",
            "value": "100%"
          }
        },
        "0b3bacd737ff4990ae0ac8d8119a48d3": {
          "model_module": "@jupyter-widgets/controls",
          "model_name": "FloatProgressModel",
          "model_module_version": "1.5.0",
          "state": {
            "_dom_classes": [],
            "_model_module": "@jupyter-widgets/controls",
            "_model_module_version": "1.5.0",
            "_model_name": "FloatProgressModel",
            "_view_count": null,
            "_view_module": "@jupyter-widgets/controls",
            "_view_module_version": "1.5.0",
            "_view_name": "ProgressView",
            "bar_style": "success",
            "description": "",
            "description_tooltip": null,
            "layout": "IPY_MODEL_a5ecc7afa0c14c44bfa9336c296190f0",
            "max": 657,
            "min": 0,
            "orientation": "horizontal",
            "style": "IPY_MODEL_c80cc76260ed4f10a779c10ee11a4325",
            "value": 657
          }
        },
        "4c8d98d7f2e44ab9b3dc6582a1e43785": {
          "model_module": "@jupyter-widgets/controls",
          "model_name": "HTMLModel",
          "model_module_version": "1.5.0",
          "state": {
            "_dom_classes": [],
            "_model_module": "@jupyter-widgets/controls",
            "_model_module_version": "1.5.0",
            "_model_name": "HTMLModel",
            "_view_count": null,
            "_view_module": "@jupyter-widgets/controls",
            "_view_module_version": "1.5.0",
            "_view_name": "HTMLView",
            "description": "",
            "description_tooltip": null,
            "layout": "IPY_MODEL_9e5427c3ca42493fbd42e6f1968ed598",
            "placeholder": "​",
            "style": "IPY_MODEL_b827730cc6174823a3cb57dd1319d6e2",
            "value": " 657/657 [00:21&lt;00:00, 33.79it/s]"
          }
        },
        "05169232ca3e4d30b7b70a26583f101f": {
          "model_module": "@jupyter-widgets/base",
          "model_name": "LayoutModel",
          "model_module_version": "1.2.0",
          "state": {
            "_model_module": "@jupyter-widgets/base",
            "_model_module_version": "1.2.0",
            "_model_name": "LayoutModel",
            "_view_count": null,
            "_view_module": "@jupyter-widgets/base",
            "_view_module_version": "1.2.0",
            "_view_name": "LayoutView",
            "align_content": null,
            "align_items": null,
            "align_self": null,
            "border": null,
            "bottom": null,
            "display": null,
            "flex": null,
            "flex_flow": null,
            "grid_area": null,
            "grid_auto_columns": null,
            "grid_auto_flow": null,
            "grid_auto_rows": null,
            "grid_column": null,
            "grid_gap": null,
            "grid_row": null,
            "grid_template_areas": null,
            "grid_template_columns": null,
            "grid_template_rows": null,
            "height": null,
            "justify_content": null,
            "justify_items": null,
            "left": null,
            "margin": null,
            "max_height": null,
            "max_width": null,
            "min_height": null,
            "min_width": null,
            "object_fit": null,
            "object_position": null,
            "order": null,
            "overflow": null,
            "overflow_x": null,
            "overflow_y": null,
            "padding": null,
            "right": null,
            "top": null,
            "visibility": null,
            "width": null
          }
        },
        "558f2f943d4a487f88d3b748a768ca71": {
          "model_module": "@jupyter-widgets/base",
          "model_name": "LayoutModel",
          "model_module_version": "1.2.0",
          "state": {
            "_model_module": "@jupyter-widgets/base",
            "_model_module_version": "1.2.0",
            "_model_name": "LayoutModel",
            "_view_count": null,
            "_view_module": "@jupyter-widgets/base",
            "_view_module_version": "1.2.0",
            "_view_name": "LayoutView",
            "align_content": null,
            "align_items": null,
            "align_self": null,
            "border": null,
            "bottom": null,
            "display": null,
            "flex": null,
            "flex_flow": null,
            "grid_area": null,
            "grid_auto_columns": null,
            "grid_auto_flow": null,
            "grid_auto_rows": null,
            "grid_column": null,
            "grid_gap": null,
            "grid_row": null,
            "grid_template_areas": null,
            "grid_template_columns": null,
            "grid_template_rows": null,
            "height": null,
            "justify_content": null,
            "justify_items": null,
            "left": null,
            "margin": null,
            "max_height": null,
            "max_width": null,
            "min_height": null,
            "min_width": null,
            "object_fit": null,
            "object_position": null,
            "order": null,
            "overflow": null,
            "overflow_x": null,
            "overflow_y": null,
            "padding": null,
            "right": null,
            "top": null,
            "visibility": null,
            "width": null
          }
        },
        "cb0d0290ff354190a7b81a38c9c76905": {
          "model_module": "@jupyter-widgets/controls",
          "model_name": "DescriptionStyleModel",
          "model_module_version": "1.5.0",
          "state": {
            "_model_module": "@jupyter-widgets/controls",
            "_model_module_version": "1.5.0",
            "_model_name": "DescriptionStyleModel",
            "_view_count": null,
            "_view_module": "@jupyter-widgets/base",
            "_view_module_version": "1.2.0",
            "_view_name": "StyleView",
            "description_width": ""
          }
        },
        "a5ecc7afa0c14c44bfa9336c296190f0": {
          "model_module": "@jupyter-widgets/base",
          "model_name": "LayoutModel",
          "model_module_version": "1.2.0",
          "state": {
            "_model_module": "@jupyter-widgets/base",
            "_model_module_version": "1.2.0",
            "_model_name": "LayoutModel",
            "_view_count": null,
            "_view_module": "@jupyter-widgets/base",
            "_view_module_version": "1.2.0",
            "_view_name": "LayoutView",
            "align_content": null,
            "align_items": null,
            "align_self": null,
            "border": null,
            "bottom": null,
            "display": null,
            "flex": null,
            "flex_flow": null,
            "grid_area": null,
            "grid_auto_columns": null,
            "grid_auto_flow": null,
            "grid_auto_rows": null,
            "grid_column": null,
            "grid_gap": null,
            "grid_row": null,
            "grid_template_areas": null,
            "grid_template_columns": null,
            "grid_template_rows": null,
            "height": null,
            "justify_content": null,
            "justify_items": null,
            "left": null,
            "margin": null,
            "max_height": null,
            "max_width": null,
            "min_height": null,
            "min_width": null,
            "object_fit": null,
            "object_position": null,
            "order": null,
            "overflow": null,
            "overflow_x": null,
            "overflow_y": null,
            "padding": null,
            "right": null,
            "top": null,
            "visibility": null,
            "width": null
          }
        },
        "c80cc76260ed4f10a779c10ee11a4325": {
          "model_module": "@jupyter-widgets/controls",
          "model_name": "ProgressStyleModel",
          "model_module_version": "1.5.0",
          "state": {
            "_model_module": "@jupyter-widgets/controls",
            "_model_module_version": "1.5.0",
            "_model_name": "ProgressStyleModel",
            "_view_count": null,
            "_view_module": "@jupyter-widgets/base",
            "_view_module_version": "1.2.0",
            "_view_name": "StyleView",
            "bar_color": null,
            "description_width": ""
          }
        },
        "9e5427c3ca42493fbd42e6f1968ed598": {
          "model_module": "@jupyter-widgets/base",
          "model_name": "LayoutModel",
          "model_module_version": "1.2.0",
          "state": {
            "_model_module": "@jupyter-widgets/base",
            "_model_module_version": "1.2.0",
            "_model_name": "LayoutModel",
            "_view_count": null,
            "_view_module": "@jupyter-widgets/base",
            "_view_module_version": "1.2.0",
            "_view_name": "LayoutView",
            "align_content": null,
            "align_items": null,
            "align_self": null,
            "border": null,
            "bottom": null,
            "display": null,
            "flex": null,
            "flex_flow": null,
            "grid_area": null,
            "grid_auto_columns": null,
            "grid_auto_flow": null,
            "grid_auto_rows": null,
            "grid_column": null,
            "grid_gap": null,
            "grid_row": null,
            "grid_template_areas": null,
            "grid_template_columns": null,
            "grid_template_rows": null,
            "height": null,
            "justify_content": null,
            "justify_items": null,
            "left": null,
            "margin": null,
            "max_height": null,
            "max_width": null,
            "min_height": null,
            "min_width": null,
            "object_fit": null,
            "object_position": null,
            "order": null,
            "overflow": null,
            "overflow_x": null,
            "overflow_y": null,
            "padding": null,
            "right": null,
            "top": null,
            "visibility": null,
            "width": null
          }
        },
        "b827730cc6174823a3cb57dd1319d6e2": {
          "model_module": "@jupyter-widgets/controls",
          "model_name": "DescriptionStyleModel",
          "model_module_version": "1.5.0",
          "state": {
            "_model_module": "@jupyter-widgets/controls",
            "_model_module_version": "1.5.0",
            "_model_name": "DescriptionStyleModel",
            "_view_count": null,
            "_view_module": "@jupyter-widgets/base",
            "_view_module_version": "1.2.0",
            "_view_name": "StyleView",
            "description_width": ""
          }
        },
        "9118ab61573841c399140a1f8414294c": {
          "model_module": "@jupyter-widgets/controls",
          "model_name": "HBoxModel",
          "model_module_version": "1.5.0",
          "state": {
            "_dom_classes": [],
            "_model_module": "@jupyter-widgets/controls",
            "_model_module_version": "1.5.0",
            "_model_name": "HBoxModel",
            "_view_count": null,
            "_view_module": "@jupyter-widgets/controls",
            "_view_module_version": "1.5.0",
            "_view_name": "HBoxView",
            "box_style": "",
            "children": [
              "IPY_MODEL_61f98c8aadba4e74b08d39bfd50ea8db",
              "IPY_MODEL_d1d1c4653bd94ef58d21f45e0acf6046",
              "IPY_MODEL_5162d7ee8e534d33bcb9e692437f38bf"
            ],
            "layout": "IPY_MODEL_8ddf3b7d52174cbca4c41d5803663cd3"
          }
        },
        "61f98c8aadba4e74b08d39bfd50ea8db": {
          "model_module": "@jupyter-widgets/controls",
          "model_name": "HTMLModel",
          "model_module_version": "1.5.0",
          "state": {
            "_dom_classes": [],
            "_model_module": "@jupyter-widgets/controls",
            "_model_module_version": "1.5.0",
            "_model_name": "HTMLModel",
            "_view_count": null,
            "_view_module": "@jupyter-widgets/controls",
            "_view_module_version": "1.5.0",
            "_view_name": "HTMLView",
            "description": "",
            "description_tooltip": null,
            "layout": "IPY_MODEL_08467a7312dc49a1b31d3bd90a771529",
            "placeholder": "​",
            "style": "IPY_MODEL_3e9302847ef0442089788be02934f00b",
            "value": "100%"
          }
        },
        "d1d1c4653bd94ef58d21f45e0acf6046": {
          "model_module": "@jupyter-widgets/controls",
          "model_name": "FloatProgressModel",
          "model_module_version": "1.5.0",
          "state": {
            "_dom_classes": [],
            "_model_module": "@jupyter-widgets/controls",
            "_model_module_version": "1.5.0",
            "_model_name": "FloatProgressModel",
            "_view_count": null,
            "_view_module": "@jupyter-widgets/controls",
            "_view_module_version": "1.5.0",
            "_view_name": "ProgressView",
            "bar_style": "success",
            "description": "",
            "description_tooltip": null,
            "layout": "IPY_MODEL_34c655deb31e426ba80a8b65270fa3f9",
            "max": 657,
            "min": 0,
            "orientation": "horizontal",
            "style": "IPY_MODEL_a100be1816c94cbaacfe40170c604cc7",
            "value": 657
          }
        },
        "5162d7ee8e534d33bcb9e692437f38bf": {
          "model_module": "@jupyter-widgets/controls",
          "model_name": "HTMLModel",
          "model_module_version": "1.5.0",
          "state": {
            "_dom_classes": [],
            "_model_module": "@jupyter-widgets/controls",
            "_model_module_version": "1.5.0",
            "_model_name": "HTMLModel",
            "_view_count": null,
            "_view_module": "@jupyter-widgets/controls",
            "_view_module_version": "1.5.0",
            "_view_name": "HTMLView",
            "description": "",
            "description_tooltip": null,
            "layout": "IPY_MODEL_bb12f2847f8d40ce87a8da8bf0d59497",
            "placeholder": "​",
            "style": "IPY_MODEL_8819ca1625fc4b438ab358f27b1a52a1",
            "value": " 657/657 [00:20&lt;00:00, 34.72it/s]"
          }
        },
        "8ddf3b7d52174cbca4c41d5803663cd3": {
          "model_module": "@jupyter-widgets/base",
          "model_name": "LayoutModel",
          "model_module_version": "1.2.0",
          "state": {
            "_model_module": "@jupyter-widgets/base",
            "_model_module_version": "1.2.0",
            "_model_name": "LayoutModel",
            "_view_count": null,
            "_view_module": "@jupyter-widgets/base",
            "_view_module_version": "1.2.0",
            "_view_name": "LayoutView",
            "align_content": null,
            "align_items": null,
            "align_self": null,
            "border": null,
            "bottom": null,
            "display": null,
            "flex": null,
            "flex_flow": null,
            "grid_area": null,
            "grid_auto_columns": null,
            "grid_auto_flow": null,
            "grid_auto_rows": null,
            "grid_column": null,
            "grid_gap": null,
            "grid_row": null,
            "grid_template_areas": null,
            "grid_template_columns": null,
            "grid_template_rows": null,
            "height": null,
            "justify_content": null,
            "justify_items": null,
            "left": null,
            "margin": null,
            "max_height": null,
            "max_width": null,
            "min_height": null,
            "min_width": null,
            "object_fit": null,
            "object_position": null,
            "order": null,
            "overflow": null,
            "overflow_x": null,
            "overflow_y": null,
            "padding": null,
            "right": null,
            "top": null,
            "visibility": null,
            "width": null
          }
        },
        "08467a7312dc49a1b31d3bd90a771529": {
          "model_module": "@jupyter-widgets/base",
          "model_name": "LayoutModel",
          "model_module_version": "1.2.0",
          "state": {
            "_model_module": "@jupyter-widgets/base",
            "_model_module_version": "1.2.0",
            "_model_name": "LayoutModel",
            "_view_count": null,
            "_view_module": "@jupyter-widgets/base",
            "_view_module_version": "1.2.0",
            "_view_name": "LayoutView",
            "align_content": null,
            "align_items": null,
            "align_self": null,
            "border": null,
            "bottom": null,
            "display": null,
            "flex": null,
            "flex_flow": null,
            "grid_area": null,
            "grid_auto_columns": null,
            "grid_auto_flow": null,
            "grid_auto_rows": null,
            "grid_column": null,
            "grid_gap": null,
            "grid_row": null,
            "grid_template_areas": null,
            "grid_template_columns": null,
            "grid_template_rows": null,
            "height": null,
            "justify_content": null,
            "justify_items": null,
            "left": null,
            "margin": null,
            "max_height": null,
            "max_width": null,
            "min_height": null,
            "min_width": null,
            "object_fit": null,
            "object_position": null,
            "order": null,
            "overflow": null,
            "overflow_x": null,
            "overflow_y": null,
            "padding": null,
            "right": null,
            "top": null,
            "visibility": null,
            "width": null
          }
        },
        "3e9302847ef0442089788be02934f00b": {
          "model_module": "@jupyter-widgets/controls",
          "model_name": "DescriptionStyleModel",
          "model_module_version": "1.5.0",
          "state": {
            "_model_module": "@jupyter-widgets/controls",
            "_model_module_version": "1.5.0",
            "_model_name": "DescriptionStyleModel",
            "_view_count": null,
            "_view_module": "@jupyter-widgets/base",
            "_view_module_version": "1.2.0",
            "_view_name": "StyleView",
            "description_width": ""
          }
        },
        "34c655deb31e426ba80a8b65270fa3f9": {
          "model_module": "@jupyter-widgets/base",
          "model_name": "LayoutModel",
          "model_module_version": "1.2.0",
          "state": {
            "_model_module": "@jupyter-widgets/base",
            "_model_module_version": "1.2.0",
            "_model_name": "LayoutModel",
            "_view_count": null,
            "_view_module": "@jupyter-widgets/base",
            "_view_module_version": "1.2.0",
            "_view_name": "LayoutView",
            "align_content": null,
            "align_items": null,
            "align_self": null,
            "border": null,
            "bottom": null,
            "display": null,
            "flex": null,
            "flex_flow": null,
            "grid_area": null,
            "grid_auto_columns": null,
            "grid_auto_flow": null,
            "grid_auto_rows": null,
            "grid_column": null,
            "grid_gap": null,
            "grid_row": null,
            "grid_template_areas": null,
            "grid_template_columns": null,
            "grid_template_rows": null,
            "height": null,
            "justify_content": null,
            "justify_items": null,
            "left": null,
            "margin": null,
            "max_height": null,
            "max_width": null,
            "min_height": null,
            "min_width": null,
            "object_fit": null,
            "object_position": null,
            "order": null,
            "overflow": null,
            "overflow_x": null,
            "overflow_y": null,
            "padding": null,
            "right": null,
            "top": null,
            "visibility": null,
            "width": null
          }
        },
        "a100be1816c94cbaacfe40170c604cc7": {
          "model_module": "@jupyter-widgets/controls",
          "model_name": "ProgressStyleModel",
          "model_module_version": "1.5.0",
          "state": {
            "_model_module": "@jupyter-widgets/controls",
            "_model_module_version": "1.5.0",
            "_model_name": "ProgressStyleModel",
            "_view_count": null,
            "_view_module": "@jupyter-widgets/base",
            "_view_module_version": "1.2.0",
            "_view_name": "StyleView",
            "bar_color": null,
            "description_width": ""
          }
        },
        "bb12f2847f8d40ce87a8da8bf0d59497": {
          "model_module": "@jupyter-widgets/base",
          "model_name": "LayoutModel",
          "model_module_version": "1.2.0",
          "state": {
            "_model_module": "@jupyter-widgets/base",
            "_model_module_version": "1.2.0",
            "_model_name": "LayoutModel",
            "_view_count": null,
            "_view_module": "@jupyter-widgets/base",
            "_view_module_version": "1.2.0",
            "_view_name": "LayoutView",
            "align_content": null,
            "align_items": null,
            "align_self": null,
            "border": null,
            "bottom": null,
            "display": null,
            "flex": null,
            "flex_flow": null,
            "grid_area": null,
            "grid_auto_columns": null,
            "grid_auto_flow": null,
            "grid_auto_rows": null,
            "grid_column": null,
            "grid_gap": null,
            "grid_row": null,
            "grid_template_areas": null,
            "grid_template_columns": null,
            "grid_template_rows": null,
            "height": null,
            "justify_content": null,
            "justify_items": null,
            "left": null,
            "margin": null,
            "max_height": null,
            "max_width": null,
            "min_height": null,
            "min_width": null,
            "object_fit": null,
            "object_position": null,
            "order": null,
            "overflow": null,
            "overflow_x": null,
            "overflow_y": null,
            "padding": null,
            "right": null,
            "top": null,
            "visibility": null,
            "width": null
          }
        },
        "8819ca1625fc4b438ab358f27b1a52a1": {
          "model_module": "@jupyter-widgets/controls",
          "model_name": "DescriptionStyleModel",
          "model_module_version": "1.5.0",
          "state": {
            "_model_module": "@jupyter-widgets/controls",
            "_model_module_version": "1.5.0",
            "_model_name": "DescriptionStyleModel",
            "_view_count": null,
            "_view_module": "@jupyter-widgets/base",
            "_view_module_version": "1.2.0",
            "_view_name": "StyleView",
            "description_width": ""
          }
        },
        "9b3c6be131914e60a7162dcb4e16a0d0": {
          "model_module": "@jupyter-widgets/controls",
          "model_name": "HBoxModel",
          "model_module_version": "1.5.0",
          "state": {
            "_dom_classes": [],
            "_model_module": "@jupyter-widgets/controls",
            "_model_module_version": "1.5.0",
            "_model_name": "HBoxModel",
            "_view_count": null,
            "_view_module": "@jupyter-widgets/controls",
            "_view_module_version": "1.5.0",
            "_view_name": "HBoxView",
            "box_style": "",
            "children": [
              "IPY_MODEL_91a3cec68a0440df97f10c59b97d1c97",
              "IPY_MODEL_da0c88f727ba40a3a40919f83b2193f7",
              "IPY_MODEL_2211a744607d454b8021ba1b2971511c"
            ],
            "layout": "IPY_MODEL_bcd4d97a45594026b0d98589e03420c8"
          }
        },
        "91a3cec68a0440df97f10c59b97d1c97": {
          "model_module": "@jupyter-widgets/controls",
          "model_name": "HTMLModel",
          "model_module_version": "1.5.0",
          "state": {
            "_dom_classes": [],
            "_model_module": "@jupyter-widgets/controls",
            "_model_module_version": "1.5.0",
            "_model_name": "HTMLModel",
            "_view_count": null,
            "_view_module": "@jupyter-widgets/controls",
            "_view_module_version": "1.5.0",
            "_view_name": "HTMLView",
            "description": "",
            "description_tooltip": null,
            "layout": "IPY_MODEL_e4f83eff56f2419c922f2b9a6cfbd119",
            "placeholder": "​",
            "style": "IPY_MODEL_feef6f35af5f453aa04a8efadbf929d5",
            "value": "100%"
          }
        },
        "da0c88f727ba40a3a40919f83b2193f7": {
          "model_module": "@jupyter-widgets/controls",
          "model_name": "FloatProgressModel",
          "model_module_version": "1.5.0",
          "state": {
            "_dom_classes": [],
            "_model_module": "@jupyter-widgets/controls",
            "_model_module_version": "1.5.0",
            "_model_name": "FloatProgressModel",
            "_view_count": null,
            "_view_module": "@jupyter-widgets/controls",
            "_view_module_version": "1.5.0",
            "_view_name": "ProgressView",
            "bar_style": "success",
            "description": "",
            "description_tooltip": null,
            "layout": "IPY_MODEL_212a32a57cd64efc8b25d8d0da25d76e",
            "max": 657,
            "min": 0,
            "orientation": "horizontal",
            "style": "IPY_MODEL_38011ec1758040bfb22e9ab31840ed92",
            "value": 657
          }
        },
        "2211a744607d454b8021ba1b2971511c": {
          "model_module": "@jupyter-widgets/controls",
          "model_name": "HTMLModel",
          "model_module_version": "1.5.0",
          "state": {
            "_dom_classes": [],
            "_model_module": "@jupyter-widgets/controls",
            "_model_module_version": "1.5.0",
            "_model_name": "HTMLModel",
            "_view_count": null,
            "_view_module": "@jupyter-widgets/controls",
            "_view_module_version": "1.5.0",
            "_view_name": "HTMLView",
            "description": "",
            "description_tooltip": null,
            "layout": "IPY_MODEL_5b42a054009f43d290523a207d9bd28a",
            "placeholder": "​",
            "style": "IPY_MODEL_8c0c6d148d994a8785f7d6cb3e22f21f",
            "value": " 657/657 [00:22&lt;00:00, 34.07it/s]"
          }
        },
        "bcd4d97a45594026b0d98589e03420c8": {
          "model_module": "@jupyter-widgets/base",
          "model_name": "LayoutModel",
          "model_module_version": "1.2.0",
          "state": {
            "_model_module": "@jupyter-widgets/base",
            "_model_module_version": "1.2.0",
            "_model_name": "LayoutModel",
            "_view_count": null,
            "_view_module": "@jupyter-widgets/base",
            "_view_module_version": "1.2.0",
            "_view_name": "LayoutView",
            "align_content": null,
            "align_items": null,
            "align_self": null,
            "border": null,
            "bottom": null,
            "display": null,
            "flex": null,
            "flex_flow": null,
            "grid_area": null,
            "grid_auto_columns": null,
            "grid_auto_flow": null,
            "grid_auto_rows": null,
            "grid_column": null,
            "grid_gap": null,
            "grid_row": null,
            "grid_template_areas": null,
            "grid_template_columns": null,
            "grid_template_rows": null,
            "height": null,
            "justify_content": null,
            "justify_items": null,
            "left": null,
            "margin": null,
            "max_height": null,
            "max_width": null,
            "min_height": null,
            "min_width": null,
            "object_fit": null,
            "object_position": null,
            "order": null,
            "overflow": null,
            "overflow_x": null,
            "overflow_y": null,
            "padding": null,
            "right": null,
            "top": null,
            "visibility": null,
            "width": null
          }
        },
        "e4f83eff56f2419c922f2b9a6cfbd119": {
          "model_module": "@jupyter-widgets/base",
          "model_name": "LayoutModel",
          "model_module_version": "1.2.0",
          "state": {
            "_model_module": "@jupyter-widgets/base",
            "_model_module_version": "1.2.0",
            "_model_name": "LayoutModel",
            "_view_count": null,
            "_view_module": "@jupyter-widgets/base",
            "_view_module_version": "1.2.0",
            "_view_name": "LayoutView",
            "align_content": null,
            "align_items": null,
            "align_self": null,
            "border": null,
            "bottom": null,
            "display": null,
            "flex": null,
            "flex_flow": null,
            "grid_area": null,
            "grid_auto_columns": null,
            "grid_auto_flow": null,
            "grid_auto_rows": null,
            "grid_column": null,
            "grid_gap": null,
            "grid_row": null,
            "grid_template_areas": null,
            "grid_template_columns": null,
            "grid_template_rows": null,
            "height": null,
            "justify_content": null,
            "justify_items": null,
            "left": null,
            "margin": null,
            "max_height": null,
            "max_width": null,
            "min_height": null,
            "min_width": null,
            "object_fit": null,
            "object_position": null,
            "order": null,
            "overflow": null,
            "overflow_x": null,
            "overflow_y": null,
            "padding": null,
            "right": null,
            "top": null,
            "visibility": null,
            "width": null
          }
        },
        "feef6f35af5f453aa04a8efadbf929d5": {
          "model_module": "@jupyter-widgets/controls",
          "model_name": "DescriptionStyleModel",
          "model_module_version": "1.5.0",
          "state": {
            "_model_module": "@jupyter-widgets/controls",
            "_model_module_version": "1.5.0",
            "_model_name": "DescriptionStyleModel",
            "_view_count": null,
            "_view_module": "@jupyter-widgets/base",
            "_view_module_version": "1.2.0",
            "_view_name": "StyleView",
            "description_width": ""
          }
        },
        "212a32a57cd64efc8b25d8d0da25d76e": {
          "model_module": "@jupyter-widgets/base",
          "model_name": "LayoutModel",
          "model_module_version": "1.2.0",
          "state": {
            "_model_module": "@jupyter-widgets/base",
            "_model_module_version": "1.2.0",
            "_model_name": "LayoutModel",
            "_view_count": null,
            "_view_module": "@jupyter-widgets/base",
            "_view_module_version": "1.2.0",
            "_view_name": "LayoutView",
            "align_content": null,
            "align_items": null,
            "align_self": null,
            "border": null,
            "bottom": null,
            "display": null,
            "flex": null,
            "flex_flow": null,
            "grid_area": null,
            "grid_auto_columns": null,
            "grid_auto_flow": null,
            "grid_auto_rows": null,
            "grid_column": null,
            "grid_gap": null,
            "grid_row": null,
            "grid_template_areas": null,
            "grid_template_columns": null,
            "grid_template_rows": null,
            "height": null,
            "justify_content": null,
            "justify_items": null,
            "left": null,
            "margin": null,
            "max_height": null,
            "max_width": null,
            "min_height": null,
            "min_width": null,
            "object_fit": null,
            "object_position": null,
            "order": null,
            "overflow": null,
            "overflow_x": null,
            "overflow_y": null,
            "padding": null,
            "right": null,
            "top": null,
            "visibility": null,
            "width": null
          }
        },
        "38011ec1758040bfb22e9ab31840ed92": {
          "model_module": "@jupyter-widgets/controls",
          "model_name": "ProgressStyleModel",
          "model_module_version": "1.5.0",
          "state": {
            "_model_module": "@jupyter-widgets/controls",
            "_model_module_version": "1.5.0",
            "_model_name": "ProgressStyleModel",
            "_view_count": null,
            "_view_module": "@jupyter-widgets/base",
            "_view_module_version": "1.2.0",
            "_view_name": "StyleView",
            "bar_color": null,
            "description_width": ""
          }
        },
        "5b42a054009f43d290523a207d9bd28a": {
          "model_module": "@jupyter-widgets/base",
          "model_name": "LayoutModel",
          "model_module_version": "1.2.0",
          "state": {
            "_model_module": "@jupyter-widgets/base",
            "_model_module_version": "1.2.0",
            "_model_name": "LayoutModel",
            "_view_count": null,
            "_view_module": "@jupyter-widgets/base",
            "_view_module_version": "1.2.0",
            "_view_name": "LayoutView",
            "align_content": null,
            "align_items": null,
            "align_self": null,
            "border": null,
            "bottom": null,
            "display": null,
            "flex": null,
            "flex_flow": null,
            "grid_area": null,
            "grid_auto_columns": null,
            "grid_auto_flow": null,
            "grid_auto_rows": null,
            "grid_column": null,
            "grid_gap": null,
            "grid_row": null,
            "grid_template_areas": null,
            "grid_template_columns": null,
            "grid_template_rows": null,
            "height": null,
            "justify_content": null,
            "justify_items": null,
            "left": null,
            "margin": null,
            "max_height": null,
            "max_width": null,
            "min_height": null,
            "min_width": null,
            "object_fit": null,
            "object_position": null,
            "order": null,
            "overflow": null,
            "overflow_x": null,
            "overflow_y": null,
            "padding": null,
            "right": null,
            "top": null,
            "visibility": null,
            "width": null
          }
        },
        "8c0c6d148d994a8785f7d6cb3e22f21f": {
          "model_module": "@jupyter-widgets/controls",
          "model_name": "DescriptionStyleModel",
          "model_module_version": "1.5.0",
          "state": {
            "_model_module": "@jupyter-widgets/controls",
            "_model_module_version": "1.5.0",
            "_model_name": "DescriptionStyleModel",
            "_view_count": null,
            "_view_module": "@jupyter-widgets/base",
            "_view_module_version": "1.2.0",
            "_view_name": "StyleView",
            "description_width": ""
          }
        },
        "fe931d0643fd47e18807b1736ac40359": {
          "model_module": "@jupyter-widgets/controls",
          "model_name": "HBoxModel",
          "model_module_version": "1.5.0",
          "state": {
            "_dom_classes": [],
            "_model_module": "@jupyter-widgets/controls",
            "_model_module_version": "1.5.0",
            "_model_name": "HBoxModel",
            "_view_count": null,
            "_view_module": "@jupyter-widgets/controls",
            "_view_module_version": "1.5.0",
            "_view_name": "HBoxView",
            "box_style": "",
            "children": [
              "IPY_MODEL_f771ba82e58446bd95f415666e900bed",
              "IPY_MODEL_33328e7150844c029854651a854b6ee6",
              "IPY_MODEL_191b0db330a440c0a36c5af1f5b798a1"
            ],
            "layout": "IPY_MODEL_1911bc45ce1749cfacbe61742876353a"
          }
        },
        "f771ba82e58446bd95f415666e900bed": {
          "model_module": "@jupyter-widgets/controls",
          "model_name": "HTMLModel",
          "model_module_version": "1.5.0",
          "state": {
            "_dom_classes": [],
            "_model_module": "@jupyter-widgets/controls",
            "_model_module_version": "1.5.0",
            "_model_name": "HTMLModel",
            "_view_count": null,
            "_view_module": "@jupyter-widgets/controls",
            "_view_module_version": "1.5.0",
            "_view_name": "HTMLView",
            "description": "",
            "description_tooltip": null,
            "layout": "IPY_MODEL_a6e205cf383c4b6ea1461faffa2e654f",
            "placeholder": "​",
            "style": "IPY_MODEL_db38fa31e56d483a905318447c97eb3c",
            "value": "100%"
          }
        },
        "33328e7150844c029854651a854b6ee6": {
          "model_module": "@jupyter-widgets/controls",
          "model_name": "FloatProgressModel",
          "model_module_version": "1.5.0",
          "state": {
            "_dom_classes": [],
            "_model_module": "@jupyter-widgets/controls",
            "_model_module_version": "1.5.0",
            "_model_name": "FloatProgressModel",
            "_view_count": null,
            "_view_module": "@jupyter-widgets/controls",
            "_view_module_version": "1.5.0",
            "_view_name": "ProgressView",
            "bar_style": "success",
            "description": "",
            "description_tooltip": null,
            "layout": "IPY_MODEL_e2156294be5e4359bbbffa4d74b9aac3",
            "max": 657,
            "min": 0,
            "orientation": "horizontal",
            "style": "IPY_MODEL_bdab70ffc2694e0bb5a8f3fea161458b",
            "value": 657
          }
        },
        "191b0db330a440c0a36c5af1f5b798a1": {
          "model_module": "@jupyter-widgets/controls",
          "model_name": "HTMLModel",
          "model_module_version": "1.5.0",
          "state": {
            "_dom_classes": [],
            "_model_module": "@jupyter-widgets/controls",
            "_model_module_version": "1.5.0",
            "_model_name": "HTMLModel",
            "_view_count": null,
            "_view_module": "@jupyter-widgets/controls",
            "_view_module_version": "1.5.0",
            "_view_name": "HTMLView",
            "description": "",
            "description_tooltip": null,
            "layout": "IPY_MODEL_2f4e0e07c5704c689ca426d56c74c622",
            "placeholder": "​",
            "style": "IPY_MODEL_da6c75f1fbaf43649ad103dba2714de8",
            "value": " 657/657 [00:21&lt;00:00, 24.80it/s]"
          }
        },
        "1911bc45ce1749cfacbe61742876353a": {
          "model_module": "@jupyter-widgets/base",
          "model_name": "LayoutModel",
          "model_module_version": "1.2.0",
          "state": {
            "_model_module": "@jupyter-widgets/base",
            "_model_module_version": "1.2.0",
            "_model_name": "LayoutModel",
            "_view_count": null,
            "_view_module": "@jupyter-widgets/base",
            "_view_module_version": "1.2.0",
            "_view_name": "LayoutView",
            "align_content": null,
            "align_items": null,
            "align_self": null,
            "border": null,
            "bottom": null,
            "display": null,
            "flex": null,
            "flex_flow": null,
            "grid_area": null,
            "grid_auto_columns": null,
            "grid_auto_flow": null,
            "grid_auto_rows": null,
            "grid_column": null,
            "grid_gap": null,
            "grid_row": null,
            "grid_template_areas": null,
            "grid_template_columns": null,
            "grid_template_rows": null,
            "height": null,
            "justify_content": null,
            "justify_items": null,
            "left": null,
            "margin": null,
            "max_height": null,
            "max_width": null,
            "min_height": null,
            "min_width": null,
            "object_fit": null,
            "object_position": null,
            "order": null,
            "overflow": null,
            "overflow_x": null,
            "overflow_y": null,
            "padding": null,
            "right": null,
            "top": null,
            "visibility": null,
            "width": null
          }
        },
        "a6e205cf383c4b6ea1461faffa2e654f": {
          "model_module": "@jupyter-widgets/base",
          "model_name": "LayoutModel",
          "model_module_version": "1.2.0",
          "state": {
            "_model_module": "@jupyter-widgets/base",
            "_model_module_version": "1.2.0",
            "_model_name": "LayoutModel",
            "_view_count": null,
            "_view_module": "@jupyter-widgets/base",
            "_view_module_version": "1.2.0",
            "_view_name": "LayoutView",
            "align_content": null,
            "align_items": null,
            "align_self": null,
            "border": null,
            "bottom": null,
            "display": null,
            "flex": null,
            "flex_flow": null,
            "grid_area": null,
            "grid_auto_columns": null,
            "grid_auto_flow": null,
            "grid_auto_rows": null,
            "grid_column": null,
            "grid_gap": null,
            "grid_row": null,
            "grid_template_areas": null,
            "grid_template_columns": null,
            "grid_template_rows": null,
            "height": null,
            "justify_content": null,
            "justify_items": null,
            "left": null,
            "margin": null,
            "max_height": null,
            "max_width": null,
            "min_height": null,
            "min_width": null,
            "object_fit": null,
            "object_position": null,
            "order": null,
            "overflow": null,
            "overflow_x": null,
            "overflow_y": null,
            "padding": null,
            "right": null,
            "top": null,
            "visibility": null,
            "width": null
          }
        },
        "db38fa31e56d483a905318447c97eb3c": {
          "model_module": "@jupyter-widgets/controls",
          "model_name": "DescriptionStyleModel",
          "model_module_version": "1.5.0",
          "state": {
            "_model_module": "@jupyter-widgets/controls",
            "_model_module_version": "1.5.0",
            "_model_name": "DescriptionStyleModel",
            "_view_count": null,
            "_view_module": "@jupyter-widgets/base",
            "_view_module_version": "1.2.0",
            "_view_name": "StyleView",
            "description_width": ""
          }
        },
        "e2156294be5e4359bbbffa4d74b9aac3": {
          "model_module": "@jupyter-widgets/base",
          "model_name": "LayoutModel",
          "model_module_version": "1.2.0",
          "state": {
            "_model_module": "@jupyter-widgets/base",
            "_model_module_version": "1.2.0",
            "_model_name": "LayoutModel",
            "_view_count": null,
            "_view_module": "@jupyter-widgets/base",
            "_view_module_version": "1.2.0",
            "_view_name": "LayoutView",
            "align_content": null,
            "align_items": null,
            "align_self": null,
            "border": null,
            "bottom": null,
            "display": null,
            "flex": null,
            "flex_flow": null,
            "grid_area": null,
            "grid_auto_columns": null,
            "grid_auto_flow": null,
            "grid_auto_rows": null,
            "grid_column": null,
            "grid_gap": null,
            "grid_row": null,
            "grid_template_areas": null,
            "grid_template_columns": null,
            "grid_template_rows": null,
            "height": null,
            "justify_content": null,
            "justify_items": null,
            "left": null,
            "margin": null,
            "max_height": null,
            "max_width": null,
            "min_height": null,
            "min_width": null,
            "object_fit": null,
            "object_position": null,
            "order": null,
            "overflow": null,
            "overflow_x": null,
            "overflow_y": null,
            "padding": null,
            "right": null,
            "top": null,
            "visibility": null,
            "width": null
          }
        },
        "bdab70ffc2694e0bb5a8f3fea161458b": {
          "model_module": "@jupyter-widgets/controls",
          "model_name": "ProgressStyleModel",
          "model_module_version": "1.5.0",
          "state": {
            "_model_module": "@jupyter-widgets/controls",
            "_model_module_version": "1.5.0",
            "_model_name": "ProgressStyleModel",
            "_view_count": null,
            "_view_module": "@jupyter-widgets/base",
            "_view_module_version": "1.2.0",
            "_view_name": "StyleView",
            "bar_color": null,
            "description_width": ""
          }
        },
        "2f4e0e07c5704c689ca426d56c74c622": {
          "model_module": "@jupyter-widgets/base",
          "model_name": "LayoutModel",
          "model_module_version": "1.2.0",
          "state": {
            "_model_module": "@jupyter-widgets/base",
            "_model_module_version": "1.2.0",
            "_model_name": "LayoutModel",
            "_view_count": null,
            "_view_module": "@jupyter-widgets/base",
            "_view_module_version": "1.2.0",
            "_view_name": "LayoutView",
            "align_content": null,
            "align_items": null,
            "align_self": null,
            "border": null,
            "bottom": null,
            "display": null,
            "flex": null,
            "flex_flow": null,
            "grid_area": null,
            "grid_auto_columns": null,
            "grid_auto_flow": null,
            "grid_auto_rows": null,
            "grid_column": null,
            "grid_gap": null,
            "grid_row": null,
            "grid_template_areas": null,
            "grid_template_columns": null,
            "grid_template_rows": null,
            "height": null,
            "justify_content": null,
            "justify_items": null,
            "left": null,
            "margin": null,
            "max_height": null,
            "max_width": null,
            "min_height": null,
            "min_width": null,
            "object_fit": null,
            "object_position": null,
            "order": null,
            "overflow": null,
            "overflow_x": null,
            "overflow_y": null,
            "padding": null,
            "right": null,
            "top": null,
            "visibility": null,
            "width": null
          }
        },
        "da6c75f1fbaf43649ad103dba2714de8": {
          "model_module": "@jupyter-widgets/controls",
          "model_name": "DescriptionStyleModel",
          "model_module_version": "1.5.0",
          "state": {
            "_model_module": "@jupyter-widgets/controls",
            "_model_module_version": "1.5.0",
            "_model_name": "DescriptionStyleModel",
            "_view_count": null,
            "_view_module": "@jupyter-widgets/base",
            "_view_module_version": "1.2.0",
            "_view_name": "StyleView",
            "description_width": ""
          }
        },
        "ff4881beefd04a059f401281d5bf6056": {
          "model_module": "@jupyter-widgets/controls",
          "model_name": "HBoxModel",
          "model_module_version": "1.5.0",
          "state": {
            "_dom_classes": [],
            "_model_module": "@jupyter-widgets/controls",
            "_model_module_version": "1.5.0",
            "_model_name": "HBoxModel",
            "_view_count": null,
            "_view_module": "@jupyter-widgets/controls",
            "_view_module_version": "1.5.0",
            "_view_name": "HBoxView",
            "box_style": "",
            "children": [
              "IPY_MODEL_a3faeef4c3104f6ca6a04ec5a009558c",
              "IPY_MODEL_d940438cb8954e8cbc6d1ec330702a9d",
              "IPY_MODEL_1c846281e99a4119946bef32a0d9090d"
            ],
            "layout": "IPY_MODEL_f913db6c5f6a46bb89793096689dc801"
          }
        },
        "a3faeef4c3104f6ca6a04ec5a009558c": {
          "model_module": "@jupyter-widgets/controls",
          "model_name": "HTMLModel",
          "model_module_version": "1.5.0",
          "state": {
            "_dom_classes": [],
            "_model_module": "@jupyter-widgets/controls",
            "_model_module_version": "1.5.0",
            "_model_name": "HTMLModel",
            "_view_count": null,
            "_view_module": "@jupyter-widgets/controls",
            "_view_module_version": "1.5.0",
            "_view_name": "HTMLView",
            "description": "",
            "description_tooltip": null,
            "layout": "IPY_MODEL_903a46633cbd4dd18546e233b4616d78",
            "placeholder": "​",
            "style": "IPY_MODEL_7a99b9163da24202a89743644bf0eabb",
            "value": "100%"
          }
        },
        "d940438cb8954e8cbc6d1ec330702a9d": {
          "model_module": "@jupyter-widgets/controls",
          "model_name": "FloatProgressModel",
          "model_module_version": "1.5.0",
          "state": {
            "_dom_classes": [],
            "_model_module": "@jupyter-widgets/controls",
            "_model_module_version": "1.5.0",
            "_model_name": "FloatProgressModel",
            "_view_count": null,
            "_view_module": "@jupyter-widgets/controls",
            "_view_module_version": "1.5.0",
            "_view_name": "ProgressView",
            "bar_style": "success",
            "description": "",
            "description_tooltip": null,
            "layout": "IPY_MODEL_72316ec1111f42b48760a28edba5f31b",
            "max": 657,
            "min": 0,
            "orientation": "horizontal",
            "style": "IPY_MODEL_a8e8b9d347c645e4969e42296b3902c7",
            "value": 657
          }
        },
        "1c846281e99a4119946bef32a0d9090d": {
          "model_module": "@jupyter-widgets/controls",
          "model_name": "HTMLModel",
          "model_module_version": "1.5.0",
          "state": {
            "_dom_classes": [],
            "_model_module": "@jupyter-widgets/controls",
            "_model_module_version": "1.5.0",
            "_model_name": "HTMLModel",
            "_view_count": null,
            "_view_module": "@jupyter-widgets/controls",
            "_view_module_version": "1.5.0",
            "_view_name": "HTMLView",
            "description": "",
            "description_tooltip": null,
            "layout": "IPY_MODEL_bd3556e9f55c4acb958d1f9c017333bf",
            "placeholder": "​",
            "style": "IPY_MODEL_cc7fc00bc0454d40b7e5f103776dce82",
            "value": " 657/657 [00:20&lt;00:00, 33.27it/s]"
          }
        },
        "f913db6c5f6a46bb89793096689dc801": {
          "model_module": "@jupyter-widgets/base",
          "model_name": "LayoutModel",
          "model_module_version": "1.2.0",
          "state": {
            "_model_module": "@jupyter-widgets/base",
            "_model_module_version": "1.2.0",
            "_model_name": "LayoutModel",
            "_view_count": null,
            "_view_module": "@jupyter-widgets/base",
            "_view_module_version": "1.2.0",
            "_view_name": "LayoutView",
            "align_content": null,
            "align_items": null,
            "align_self": null,
            "border": null,
            "bottom": null,
            "display": null,
            "flex": null,
            "flex_flow": null,
            "grid_area": null,
            "grid_auto_columns": null,
            "grid_auto_flow": null,
            "grid_auto_rows": null,
            "grid_column": null,
            "grid_gap": null,
            "grid_row": null,
            "grid_template_areas": null,
            "grid_template_columns": null,
            "grid_template_rows": null,
            "height": null,
            "justify_content": null,
            "justify_items": null,
            "left": null,
            "margin": null,
            "max_height": null,
            "max_width": null,
            "min_height": null,
            "min_width": null,
            "object_fit": null,
            "object_position": null,
            "order": null,
            "overflow": null,
            "overflow_x": null,
            "overflow_y": null,
            "padding": null,
            "right": null,
            "top": null,
            "visibility": null,
            "width": null
          }
        },
        "903a46633cbd4dd18546e233b4616d78": {
          "model_module": "@jupyter-widgets/base",
          "model_name": "LayoutModel",
          "model_module_version": "1.2.0",
          "state": {
            "_model_module": "@jupyter-widgets/base",
            "_model_module_version": "1.2.0",
            "_model_name": "LayoutModel",
            "_view_count": null,
            "_view_module": "@jupyter-widgets/base",
            "_view_module_version": "1.2.0",
            "_view_name": "LayoutView",
            "align_content": null,
            "align_items": null,
            "align_self": null,
            "border": null,
            "bottom": null,
            "display": null,
            "flex": null,
            "flex_flow": null,
            "grid_area": null,
            "grid_auto_columns": null,
            "grid_auto_flow": null,
            "grid_auto_rows": null,
            "grid_column": null,
            "grid_gap": null,
            "grid_row": null,
            "grid_template_areas": null,
            "grid_template_columns": null,
            "grid_template_rows": null,
            "height": null,
            "justify_content": null,
            "justify_items": null,
            "left": null,
            "margin": null,
            "max_height": null,
            "max_width": null,
            "min_height": null,
            "min_width": null,
            "object_fit": null,
            "object_position": null,
            "order": null,
            "overflow": null,
            "overflow_x": null,
            "overflow_y": null,
            "padding": null,
            "right": null,
            "top": null,
            "visibility": null,
            "width": null
          }
        },
        "7a99b9163da24202a89743644bf0eabb": {
          "model_module": "@jupyter-widgets/controls",
          "model_name": "DescriptionStyleModel",
          "model_module_version": "1.5.0",
          "state": {
            "_model_module": "@jupyter-widgets/controls",
            "_model_module_version": "1.5.0",
            "_model_name": "DescriptionStyleModel",
            "_view_count": null,
            "_view_module": "@jupyter-widgets/base",
            "_view_module_version": "1.2.0",
            "_view_name": "StyleView",
            "description_width": ""
          }
        },
        "72316ec1111f42b48760a28edba5f31b": {
          "model_module": "@jupyter-widgets/base",
          "model_name": "LayoutModel",
          "model_module_version": "1.2.0",
          "state": {
            "_model_module": "@jupyter-widgets/base",
            "_model_module_version": "1.2.0",
            "_model_name": "LayoutModel",
            "_view_count": null,
            "_view_module": "@jupyter-widgets/base",
            "_view_module_version": "1.2.0",
            "_view_name": "LayoutView",
            "align_content": null,
            "align_items": null,
            "align_self": null,
            "border": null,
            "bottom": null,
            "display": null,
            "flex": null,
            "flex_flow": null,
            "grid_area": null,
            "grid_auto_columns": null,
            "grid_auto_flow": null,
            "grid_auto_rows": null,
            "grid_column": null,
            "grid_gap": null,
            "grid_row": null,
            "grid_template_areas": null,
            "grid_template_columns": null,
            "grid_template_rows": null,
            "height": null,
            "justify_content": null,
            "justify_items": null,
            "left": null,
            "margin": null,
            "max_height": null,
            "max_width": null,
            "min_height": null,
            "min_width": null,
            "object_fit": null,
            "object_position": null,
            "order": null,
            "overflow": null,
            "overflow_x": null,
            "overflow_y": null,
            "padding": null,
            "right": null,
            "top": null,
            "visibility": null,
            "width": null
          }
        },
        "a8e8b9d347c645e4969e42296b3902c7": {
          "model_module": "@jupyter-widgets/controls",
          "model_name": "ProgressStyleModel",
          "model_module_version": "1.5.0",
          "state": {
            "_model_module": "@jupyter-widgets/controls",
            "_model_module_version": "1.5.0",
            "_model_name": "ProgressStyleModel",
            "_view_count": null,
            "_view_module": "@jupyter-widgets/base",
            "_view_module_version": "1.2.0",
            "_view_name": "StyleView",
            "bar_color": null,
            "description_width": ""
          }
        },
        "bd3556e9f55c4acb958d1f9c017333bf": {
          "model_module": "@jupyter-widgets/base",
          "model_name": "LayoutModel",
          "model_module_version": "1.2.0",
          "state": {
            "_model_module": "@jupyter-widgets/base",
            "_model_module_version": "1.2.0",
            "_model_name": "LayoutModel",
            "_view_count": null,
            "_view_module": "@jupyter-widgets/base",
            "_view_module_version": "1.2.0",
            "_view_name": "LayoutView",
            "align_content": null,
            "align_items": null,
            "align_self": null,
            "border": null,
            "bottom": null,
            "display": null,
            "flex": null,
            "flex_flow": null,
            "grid_area": null,
            "grid_auto_columns": null,
            "grid_auto_flow": null,
            "grid_auto_rows": null,
            "grid_column": null,
            "grid_gap": null,
            "grid_row": null,
            "grid_template_areas": null,
            "grid_template_columns": null,
            "grid_template_rows": null,
            "height": null,
            "justify_content": null,
            "justify_items": null,
            "left": null,
            "margin": null,
            "max_height": null,
            "max_width": null,
            "min_height": null,
            "min_width": null,
            "object_fit": null,
            "object_position": null,
            "order": null,
            "overflow": null,
            "overflow_x": null,
            "overflow_y": null,
            "padding": null,
            "right": null,
            "top": null,
            "visibility": null,
            "width": null
          }
        },
        "cc7fc00bc0454d40b7e5f103776dce82": {
          "model_module": "@jupyter-widgets/controls",
          "model_name": "DescriptionStyleModel",
          "model_module_version": "1.5.0",
          "state": {
            "_model_module": "@jupyter-widgets/controls",
            "_model_module_version": "1.5.0",
            "_model_name": "DescriptionStyleModel",
            "_view_count": null,
            "_view_module": "@jupyter-widgets/base",
            "_view_module_version": "1.2.0",
            "_view_name": "StyleView",
            "description_width": ""
          }
        },
        "760c15d59f1d409bbe8ef9722b1408eb": {
          "model_module": "@jupyter-widgets/controls",
          "model_name": "HBoxModel",
          "model_module_version": "1.5.0",
          "state": {
            "_dom_classes": [],
            "_model_module": "@jupyter-widgets/controls",
            "_model_module_version": "1.5.0",
            "_model_name": "HBoxModel",
            "_view_count": null,
            "_view_module": "@jupyter-widgets/controls",
            "_view_module_version": "1.5.0",
            "_view_name": "HBoxView",
            "box_style": "",
            "children": [
              "IPY_MODEL_f1ff858b0d39429e98a54bd7cf8d3150",
              "IPY_MODEL_9da138c7d1594831a9e78e4d20f7a538",
              "IPY_MODEL_2a1d74f2595445699e41a7412e48e438"
            ],
            "layout": "IPY_MODEL_5041497cb5c94587a70d8f0c2589b4fb"
          }
        },
        "f1ff858b0d39429e98a54bd7cf8d3150": {
          "model_module": "@jupyter-widgets/controls",
          "model_name": "HTMLModel",
          "model_module_version": "1.5.0",
          "state": {
            "_dom_classes": [],
            "_model_module": "@jupyter-widgets/controls",
            "_model_module_version": "1.5.0",
            "_model_name": "HTMLModel",
            "_view_count": null,
            "_view_module": "@jupyter-widgets/controls",
            "_view_module_version": "1.5.0",
            "_view_name": "HTMLView",
            "description": "",
            "description_tooltip": null,
            "layout": "IPY_MODEL_197fb2a624134fd7aa6a199516f76092",
            "placeholder": "​",
            "style": "IPY_MODEL_5dccb7c621564b6ba5dc39a7e30a3590",
            "value": "100%"
          }
        },
        "9da138c7d1594831a9e78e4d20f7a538": {
          "model_module": "@jupyter-widgets/controls",
          "model_name": "FloatProgressModel",
          "model_module_version": "1.5.0",
          "state": {
            "_dom_classes": [],
            "_model_module": "@jupyter-widgets/controls",
            "_model_module_version": "1.5.0",
            "_model_name": "FloatProgressModel",
            "_view_count": null,
            "_view_module": "@jupyter-widgets/controls",
            "_view_module_version": "1.5.0",
            "_view_name": "ProgressView",
            "bar_style": "success",
            "description": "",
            "description_tooltip": null,
            "layout": "IPY_MODEL_086f1256bf5f44d790429e459f0c98e8",
            "max": 657,
            "min": 0,
            "orientation": "horizontal",
            "style": "IPY_MODEL_41f250c4c7174d65a83bed20d0a2ba21",
            "value": 657
          }
        },
        "2a1d74f2595445699e41a7412e48e438": {
          "model_module": "@jupyter-widgets/controls",
          "model_name": "HTMLModel",
          "model_module_version": "1.5.0",
          "state": {
            "_dom_classes": [],
            "_model_module": "@jupyter-widgets/controls",
            "_model_module_version": "1.5.0",
            "_model_name": "HTMLModel",
            "_view_count": null,
            "_view_module": "@jupyter-widgets/controls",
            "_view_module_version": "1.5.0",
            "_view_name": "HTMLView",
            "description": "",
            "description_tooltip": null,
            "layout": "IPY_MODEL_921f7952b2d0491583e2562cf53bfa3c",
            "placeholder": "​",
            "style": "IPY_MODEL_1bb07bd4daca4e6db97c7b46f24fb89b",
            "value": " 657/657 [00:22&lt;00:00, 30.25it/s]"
          }
        },
        "5041497cb5c94587a70d8f0c2589b4fb": {
          "model_module": "@jupyter-widgets/base",
          "model_name": "LayoutModel",
          "model_module_version": "1.2.0",
          "state": {
            "_model_module": "@jupyter-widgets/base",
            "_model_module_version": "1.2.0",
            "_model_name": "LayoutModel",
            "_view_count": null,
            "_view_module": "@jupyter-widgets/base",
            "_view_module_version": "1.2.0",
            "_view_name": "LayoutView",
            "align_content": null,
            "align_items": null,
            "align_self": null,
            "border": null,
            "bottom": null,
            "display": null,
            "flex": null,
            "flex_flow": null,
            "grid_area": null,
            "grid_auto_columns": null,
            "grid_auto_flow": null,
            "grid_auto_rows": null,
            "grid_column": null,
            "grid_gap": null,
            "grid_row": null,
            "grid_template_areas": null,
            "grid_template_columns": null,
            "grid_template_rows": null,
            "height": null,
            "justify_content": null,
            "justify_items": null,
            "left": null,
            "margin": null,
            "max_height": null,
            "max_width": null,
            "min_height": null,
            "min_width": null,
            "object_fit": null,
            "object_position": null,
            "order": null,
            "overflow": null,
            "overflow_x": null,
            "overflow_y": null,
            "padding": null,
            "right": null,
            "top": null,
            "visibility": null,
            "width": null
          }
        },
        "197fb2a624134fd7aa6a199516f76092": {
          "model_module": "@jupyter-widgets/base",
          "model_name": "LayoutModel",
          "model_module_version": "1.2.0",
          "state": {
            "_model_module": "@jupyter-widgets/base",
            "_model_module_version": "1.2.0",
            "_model_name": "LayoutModel",
            "_view_count": null,
            "_view_module": "@jupyter-widgets/base",
            "_view_module_version": "1.2.0",
            "_view_name": "LayoutView",
            "align_content": null,
            "align_items": null,
            "align_self": null,
            "border": null,
            "bottom": null,
            "display": null,
            "flex": null,
            "flex_flow": null,
            "grid_area": null,
            "grid_auto_columns": null,
            "grid_auto_flow": null,
            "grid_auto_rows": null,
            "grid_column": null,
            "grid_gap": null,
            "grid_row": null,
            "grid_template_areas": null,
            "grid_template_columns": null,
            "grid_template_rows": null,
            "height": null,
            "justify_content": null,
            "justify_items": null,
            "left": null,
            "margin": null,
            "max_height": null,
            "max_width": null,
            "min_height": null,
            "min_width": null,
            "object_fit": null,
            "object_position": null,
            "order": null,
            "overflow": null,
            "overflow_x": null,
            "overflow_y": null,
            "padding": null,
            "right": null,
            "top": null,
            "visibility": null,
            "width": null
          }
        },
        "5dccb7c621564b6ba5dc39a7e30a3590": {
          "model_module": "@jupyter-widgets/controls",
          "model_name": "DescriptionStyleModel",
          "model_module_version": "1.5.0",
          "state": {
            "_model_module": "@jupyter-widgets/controls",
            "_model_module_version": "1.5.0",
            "_model_name": "DescriptionStyleModel",
            "_view_count": null,
            "_view_module": "@jupyter-widgets/base",
            "_view_module_version": "1.2.0",
            "_view_name": "StyleView",
            "description_width": ""
          }
        },
        "086f1256bf5f44d790429e459f0c98e8": {
          "model_module": "@jupyter-widgets/base",
          "model_name": "LayoutModel",
          "model_module_version": "1.2.0",
          "state": {
            "_model_module": "@jupyter-widgets/base",
            "_model_module_version": "1.2.0",
            "_model_name": "LayoutModel",
            "_view_count": null,
            "_view_module": "@jupyter-widgets/base",
            "_view_module_version": "1.2.0",
            "_view_name": "LayoutView",
            "align_content": null,
            "align_items": null,
            "align_self": null,
            "border": null,
            "bottom": null,
            "display": null,
            "flex": null,
            "flex_flow": null,
            "grid_area": null,
            "grid_auto_columns": null,
            "grid_auto_flow": null,
            "grid_auto_rows": null,
            "grid_column": null,
            "grid_gap": null,
            "grid_row": null,
            "grid_template_areas": null,
            "grid_template_columns": null,
            "grid_template_rows": null,
            "height": null,
            "justify_content": null,
            "justify_items": null,
            "left": null,
            "margin": null,
            "max_height": null,
            "max_width": null,
            "min_height": null,
            "min_width": null,
            "object_fit": null,
            "object_position": null,
            "order": null,
            "overflow": null,
            "overflow_x": null,
            "overflow_y": null,
            "padding": null,
            "right": null,
            "top": null,
            "visibility": null,
            "width": null
          }
        },
        "41f250c4c7174d65a83bed20d0a2ba21": {
          "model_module": "@jupyter-widgets/controls",
          "model_name": "ProgressStyleModel",
          "model_module_version": "1.5.0",
          "state": {
            "_model_module": "@jupyter-widgets/controls",
            "_model_module_version": "1.5.0",
            "_model_name": "ProgressStyleModel",
            "_view_count": null,
            "_view_module": "@jupyter-widgets/base",
            "_view_module_version": "1.2.0",
            "_view_name": "StyleView",
            "bar_color": null,
            "description_width": ""
          }
        },
        "921f7952b2d0491583e2562cf53bfa3c": {
          "model_module": "@jupyter-widgets/base",
          "model_name": "LayoutModel",
          "model_module_version": "1.2.0",
          "state": {
            "_model_module": "@jupyter-widgets/base",
            "_model_module_version": "1.2.0",
            "_model_name": "LayoutModel",
            "_view_count": null,
            "_view_module": "@jupyter-widgets/base",
            "_view_module_version": "1.2.0",
            "_view_name": "LayoutView",
            "align_content": null,
            "align_items": null,
            "align_self": null,
            "border": null,
            "bottom": null,
            "display": null,
            "flex": null,
            "flex_flow": null,
            "grid_area": null,
            "grid_auto_columns": null,
            "grid_auto_flow": null,
            "grid_auto_rows": null,
            "grid_column": null,
            "grid_gap": null,
            "grid_row": null,
            "grid_template_areas": null,
            "grid_template_columns": null,
            "grid_template_rows": null,
            "height": null,
            "justify_content": null,
            "justify_items": null,
            "left": null,
            "margin": null,
            "max_height": null,
            "max_width": null,
            "min_height": null,
            "min_width": null,
            "object_fit": null,
            "object_position": null,
            "order": null,
            "overflow": null,
            "overflow_x": null,
            "overflow_y": null,
            "padding": null,
            "right": null,
            "top": null,
            "visibility": null,
            "width": null
          }
        },
        "1bb07bd4daca4e6db97c7b46f24fb89b": {
          "model_module": "@jupyter-widgets/controls",
          "model_name": "DescriptionStyleModel",
          "model_module_version": "1.5.0",
          "state": {
            "_model_module": "@jupyter-widgets/controls",
            "_model_module_version": "1.5.0",
            "_model_name": "DescriptionStyleModel",
            "_view_count": null,
            "_view_module": "@jupyter-widgets/base",
            "_view_module_version": "1.2.0",
            "_view_name": "StyleView",
            "description_width": ""
          }
        },
        "12abf9af64cf4b12948251ffd0c6edcb": {
          "model_module": "@jupyter-widgets/controls",
          "model_name": "HBoxModel",
          "model_module_version": "1.5.0",
          "state": {
            "_dom_classes": [],
            "_model_module": "@jupyter-widgets/controls",
            "_model_module_version": "1.5.0",
            "_model_name": "HBoxModel",
            "_view_count": null,
            "_view_module": "@jupyter-widgets/controls",
            "_view_module_version": "1.5.0",
            "_view_name": "HBoxView",
            "box_style": "",
            "children": [
              "IPY_MODEL_6629341193364872a0d60a4255cb79e3",
              "IPY_MODEL_005109277ca148f7ae811a833abd6dce",
              "IPY_MODEL_f494c536fcaa46f181cd5ded960eaa7b"
            ],
            "layout": "IPY_MODEL_b22039c21c5b4aa78ce7b9750b1680a6"
          }
        },
        "6629341193364872a0d60a4255cb79e3": {
          "model_module": "@jupyter-widgets/controls",
          "model_name": "HTMLModel",
          "model_module_version": "1.5.0",
          "state": {
            "_dom_classes": [],
            "_model_module": "@jupyter-widgets/controls",
            "_model_module_version": "1.5.0",
            "_model_name": "HTMLModel",
            "_view_count": null,
            "_view_module": "@jupyter-widgets/controls",
            "_view_module_version": "1.5.0",
            "_view_name": "HTMLView",
            "description": "",
            "description_tooltip": null,
            "layout": "IPY_MODEL_9093ed14a37d45d485f0e529f12ef749",
            "placeholder": "​",
            "style": "IPY_MODEL_cb83338306414181affb815ee38fbc25",
            "value": "100%"
          }
        },
        "005109277ca148f7ae811a833abd6dce": {
          "model_module": "@jupyter-widgets/controls",
          "model_name": "FloatProgressModel",
          "model_module_version": "1.5.0",
          "state": {
            "_dom_classes": [],
            "_model_module": "@jupyter-widgets/controls",
            "_model_module_version": "1.5.0",
            "_model_name": "FloatProgressModel",
            "_view_count": null,
            "_view_module": "@jupyter-widgets/controls",
            "_view_module_version": "1.5.0",
            "_view_name": "ProgressView",
            "bar_style": "success",
            "description": "",
            "description_tooltip": null,
            "layout": "IPY_MODEL_c7577cec0c7c4216b000b1d1d1d4c54d",
            "max": 657,
            "min": 0,
            "orientation": "horizontal",
            "style": "IPY_MODEL_67dbfd0a48c640d0bcb2008d00511004",
            "value": 657
          }
        },
        "f494c536fcaa46f181cd5ded960eaa7b": {
          "model_module": "@jupyter-widgets/controls",
          "model_name": "HTMLModel",
          "model_module_version": "1.5.0",
          "state": {
            "_dom_classes": [],
            "_model_module": "@jupyter-widgets/controls",
            "_model_module_version": "1.5.0",
            "_model_name": "HTMLModel",
            "_view_count": null,
            "_view_module": "@jupyter-widgets/controls",
            "_view_module_version": "1.5.0",
            "_view_name": "HTMLView",
            "description": "",
            "description_tooltip": null,
            "layout": "IPY_MODEL_09bd2195bcee47c19f26983ef11f5476",
            "placeholder": "​",
            "style": "IPY_MODEL_9ef7e150153b4da1a08b47488817f7b3",
            "value": " 657/657 [00:22&lt;00:00, 25.67it/s]"
          }
        },
        "b22039c21c5b4aa78ce7b9750b1680a6": {
          "model_module": "@jupyter-widgets/base",
          "model_name": "LayoutModel",
          "model_module_version": "1.2.0",
          "state": {
            "_model_module": "@jupyter-widgets/base",
            "_model_module_version": "1.2.0",
            "_model_name": "LayoutModel",
            "_view_count": null,
            "_view_module": "@jupyter-widgets/base",
            "_view_module_version": "1.2.0",
            "_view_name": "LayoutView",
            "align_content": null,
            "align_items": null,
            "align_self": null,
            "border": null,
            "bottom": null,
            "display": null,
            "flex": null,
            "flex_flow": null,
            "grid_area": null,
            "grid_auto_columns": null,
            "grid_auto_flow": null,
            "grid_auto_rows": null,
            "grid_column": null,
            "grid_gap": null,
            "grid_row": null,
            "grid_template_areas": null,
            "grid_template_columns": null,
            "grid_template_rows": null,
            "height": null,
            "justify_content": null,
            "justify_items": null,
            "left": null,
            "margin": null,
            "max_height": null,
            "max_width": null,
            "min_height": null,
            "min_width": null,
            "object_fit": null,
            "object_position": null,
            "order": null,
            "overflow": null,
            "overflow_x": null,
            "overflow_y": null,
            "padding": null,
            "right": null,
            "top": null,
            "visibility": null,
            "width": null
          }
        },
        "9093ed14a37d45d485f0e529f12ef749": {
          "model_module": "@jupyter-widgets/base",
          "model_name": "LayoutModel",
          "model_module_version": "1.2.0",
          "state": {
            "_model_module": "@jupyter-widgets/base",
            "_model_module_version": "1.2.0",
            "_model_name": "LayoutModel",
            "_view_count": null,
            "_view_module": "@jupyter-widgets/base",
            "_view_module_version": "1.2.0",
            "_view_name": "LayoutView",
            "align_content": null,
            "align_items": null,
            "align_self": null,
            "border": null,
            "bottom": null,
            "display": null,
            "flex": null,
            "flex_flow": null,
            "grid_area": null,
            "grid_auto_columns": null,
            "grid_auto_flow": null,
            "grid_auto_rows": null,
            "grid_column": null,
            "grid_gap": null,
            "grid_row": null,
            "grid_template_areas": null,
            "grid_template_columns": null,
            "grid_template_rows": null,
            "height": null,
            "justify_content": null,
            "justify_items": null,
            "left": null,
            "margin": null,
            "max_height": null,
            "max_width": null,
            "min_height": null,
            "min_width": null,
            "object_fit": null,
            "object_position": null,
            "order": null,
            "overflow": null,
            "overflow_x": null,
            "overflow_y": null,
            "padding": null,
            "right": null,
            "top": null,
            "visibility": null,
            "width": null
          }
        },
        "cb83338306414181affb815ee38fbc25": {
          "model_module": "@jupyter-widgets/controls",
          "model_name": "DescriptionStyleModel",
          "model_module_version": "1.5.0",
          "state": {
            "_model_module": "@jupyter-widgets/controls",
            "_model_module_version": "1.5.0",
            "_model_name": "DescriptionStyleModel",
            "_view_count": null,
            "_view_module": "@jupyter-widgets/base",
            "_view_module_version": "1.2.0",
            "_view_name": "StyleView",
            "description_width": ""
          }
        },
        "c7577cec0c7c4216b000b1d1d1d4c54d": {
          "model_module": "@jupyter-widgets/base",
          "model_name": "LayoutModel",
          "model_module_version": "1.2.0",
          "state": {
            "_model_module": "@jupyter-widgets/base",
            "_model_module_version": "1.2.0",
            "_model_name": "LayoutModel",
            "_view_count": null,
            "_view_module": "@jupyter-widgets/base",
            "_view_module_version": "1.2.0",
            "_view_name": "LayoutView",
            "align_content": null,
            "align_items": null,
            "align_self": null,
            "border": null,
            "bottom": null,
            "display": null,
            "flex": null,
            "flex_flow": null,
            "grid_area": null,
            "grid_auto_columns": null,
            "grid_auto_flow": null,
            "grid_auto_rows": null,
            "grid_column": null,
            "grid_gap": null,
            "grid_row": null,
            "grid_template_areas": null,
            "grid_template_columns": null,
            "grid_template_rows": null,
            "height": null,
            "justify_content": null,
            "justify_items": null,
            "left": null,
            "margin": null,
            "max_height": null,
            "max_width": null,
            "min_height": null,
            "min_width": null,
            "object_fit": null,
            "object_position": null,
            "order": null,
            "overflow": null,
            "overflow_x": null,
            "overflow_y": null,
            "padding": null,
            "right": null,
            "top": null,
            "visibility": null,
            "width": null
          }
        },
        "67dbfd0a48c640d0bcb2008d00511004": {
          "model_module": "@jupyter-widgets/controls",
          "model_name": "ProgressStyleModel",
          "model_module_version": "1.5.0",
          "state": {
            "_model_module": "@jupyter-widgets/controls",
            "_model_module_version": "1.5.0",
            "_model_name": "ProgressStyleModel",
            "_view_count": null,
            "_view_module": "@jupyter-widgets/base",
            "_view_module_version": "1.2.0",
            "_view_name": "StyleView",
            "bar_color": null,
            "description_width": ""
          }
        },
        "09bd2195bcee47c19f26983ef11f5476": {
          "model_module": "@jupyter-widgets/base",
          "model_name": "LayoutModel",
          "model_module_version": "1.2.0",
          "state": {
            "_model_module": "@jupyter-widgets/base",
            "_model_module_version": "1.2.0",
            "_model_name": "LayoutModel",
            "_view_count": null,
            "_view_module": "@jupyter-widgets/base",
            "_view_module_version": "1.2.0",
            "_view_name": "LayoutView",
            "align_content": null,
            "align_items": null,
            "align_self": null,
            "border": null,
            "bottom": null,
            "display": null,
            "flex": null,
            "flex_flow": null,
            "grid_area": null,
            "grid_auto_columns": null,
            "grid_auto_flow": null,
            "grid_auto_rows": null,
            "grid_column": null,
            "grid_gap": null,
            "grid_row": null,
            "grid_template_areas": null,
            "grid_template_columns": null,
            "grid_template_rows": null,
            "height": null,
            "justify_content": null,
            "justify_items": null,
            "left": null,
            "margin": null,
            "max_height": null,
            "max_width": null,
            "min_height": null,
            "min_width": null,
            "object_fit": null,
            "object_position": null,
            "order": null,
            "overflow": null,
            "overflow_x": null,
            "overflow_y": null,
            "padding": null,
            "right": null,
            "top": null,
            "visibility": null,
            "width": null
          }
        },
        "9ef7e150153b4da1a08b47488817f7b3": {
          "model_module": "@jupyter-widgets/controls",
          "model_name": "DescriptionStyleModel",
          "model_module_version": "1.5.0",
          "state": {
            "_model_module": "@jupyter-widgets/controls",
            "_model_module_version": "1.5.0",
            "_model_name": "DescriptionStyleModel",
            "_view_count": null,
            "_view_module": "@jupyter-widgets/base",
            "_view_module_version": "1.2.0",
            "_view_name": "StyleView",
            "description_width": ""
          }
        },
        "e2e615ea03d149288eaa3ce55f8d1603": {
          "model_module": "@jupyter-widgets/controls",
          "model_name": "HBoxModel",
          "model_module_version": "1.5.0",
          "state": {
            "_dom_classes": [],
            "_model_module": "@jupyter-widgets/controls",
            "_model_module_version": "1.5.0",
            "_model_name": "HBoxModel",
            "_view_count": null,
            "_view_module": "@jupyter-widgets/controls",
            "_view_module_version": "1.5.0",
            "_view_name": "HBoxView",
            "box_style": "",
            "children": [
              "IPY_MODEL_a0e2fdb3e7c0423491c99c067f8ffa13",
              "IPY_MODEL_a421d5d35d874ceba322f2b4723ee5f2",
              "IPY_MODEL_2ed06fea34e94e29b927b1d6bd0641f0"
            ],
            "layout": "IPY_MODEL_21ec509d54df4261a34ea47ce62bb57b"
          }
        },
        "a0e2fdb3e7c0423491c99c067f8ffa13": {
          "model_module": "@jupyter-widgets/controls",
          "model_name": "HTMLModel",
          "model_module_version": "1.5.0",
          "state": {
            "_dom_classes": [],
            "_model_module": "@jupyter-widgets/controls",
            "_model_module_version": "1.5.0",
            "_model_name": "HTMLModel",
            "_view_count": null,
            "_view_module": "@jupyter-widgets/controls",
            "_view_module_version": "1.5.0",
            "_view_name": "HTMLView",
            "description": "",
            "description_tooltip": null,
            "layout": "IPY_MODEL_f26f16ad1f34441184b6b01d8c342b05",
            "placeholder": "​",
            "style": "IPY_MODEL_4b0f7f2c75a842a1bec93d7df78d68be",
            "value": "100%"
          }
        },
        "a421d5d35d874ceba322f2b4723ee5f2": {
          "model_module": "@jupyter-widgets/controls",
          "model_name": "FloatProgressModel",
          "model_module_version": "1.5.0",
          "state": {
            "_dom_classes": [],
            "_model_module": "@jupyter-widgets/controls",
            "_model_module_version": "1.5.0",
            "_model_name": "FloatProgressModel",
            "_view_count": null,
            "_view_module": "@jupyter-widgets/controls",
            "_view_module_version": "1.5.0",
            "_view_name": "ProgressView",
            "bar_style": "success",
            "description": "",
            "description_tooltip": null,
            "layout": "IPY_MODEL_e03a685ae0bb4f40938339bd029f9955",
            "max": 657,
            "min": 0,
            "orientation": "horizontal",
            "style": "IPY_MODEL_e548a678f9374445ba15aa528ab6acfb",
            "value": 657
          }
        },
        "2ed06fea34e94e29b927b1d6bd0641f0": {
          "model_module": "@jupyter-widgets/controls",
          "model_name": "HTMLModel",
          "model_module_version": "1.5.0",
          "state": {
            "_dom_classes": [],
            "_model_module": "@jupyter-widgets/controls",
            "_model_module_version": "1.5.0",
            "_model_name": "HTMLModel",
            "_view_count": null,
            "_view_module": "@jupyter-widgets/controls",
            "_view_module_version": "1.5.0",
            "_view_name": "HTMLView",
            "description": "",
            "description_tooltip": null,
            "layout": "IPY_MODEL_e99dedfb541f4484a8995308bbc3d634",
            "placeholder": "​",
            "style": "IPY_MODEL_105a042f17f24879afd1cb2512d66802",
            "value": " 657/657 [00:22&lt;00:00, 32.72it/s]"
          }
        },
        "21ec509d54df4261a34ea47ce62bb57b": {
          "model_module": "@jupyter-widgets/base",
          "model_name": "LayoutModel",
          "model_module_version": "1.2.0",
          "state": {
            "_model_module": "@jupyter-widgets/base",
            "_model_module_version": "1.2.0",
            "_model_name": "LayoutModel",
            "_view_count": null,
            "_view_module": "@jupyter-widgets/base",
            "_view_module_version": "1.2.0",
            "_view_name": "LayoutView",
            "align_content": null,
            "align_items": null,
            "align_self": null,
            "border": null,
            "bottom": null,
            "display": null,
            "flex": null,
            "flex_flow": null,
            "grid_area": null,
            "grid_auto_columns": null,
            "grid_auto_flow": null,
            "grid_auto_rows": null,
            "grid_column": null,
            "grid_gap": null,
            "grid_row": null,
            "grid_template_areas": null,
            "grid_template_columns": null,
            "grid_template_rows": null,
            "height": null,
            "justify_content": null,
            "justify_items": null,
            "left": null,
            "margin": null,
            "max_height": null,
            "max_width": null,
            "min_height": null,
            "min_width": null,
            "object_fit": null,
            "object_position": null,
            "order": null,
            "overflow": null,
            "overflow_x": null,
            "overflow_y": null,
            "padding": null,
            "right": null,
            "top": null,
            "visibility": null,
            "width": null
          }
        },
        "f26f16ad1f34441184b6b01d8c342b05": {
          "model_module": "@jupyter-widgets/base",
          "model_name": "LayoutModel",
          "model_module_version": "1.2.0",
          "state": {
            "_model_module": "@jupyter-widgets/base",
            "_model_module_version": "1.2.0",
            "_model_name": "LayoutModel",
            "_view_count": null,
            "_view_module": "@jupyter-widgets/base",
            "_view_module_version": "1.2.0",
            "_view_name": "LayoutView",
            "align_content": null,
            "align_items": null,
            "align_self": null,
            "border": null,
            "bottom": null,
            "display": null,
            "flex": null,
            "flex_flow": null,
            "grid_area": null,
            "grid_auto_columns": null,
            "grid_auto_flow": null,
            "grid_auto_rows": null,
            "grid_column": null,
            "grid_gap": null,
            "grid_row": null,
            "grid_template_areas": null,
            "grid_template_columns": null,
            "grid_template_rows": null,
            "height": null,
            "justify_content": null,
            "justify_items": null,
            "left": null,
            "margin": null,
            "max_height": null,
            "max_width": null,
            "min_height": null,
            "min_width": null,
            "object_fit": null,
            "object_position": null,
            "order": null,
            "overflow": null,
            "overflow_x": null,
            "overflow_y": null,
            "padding": null,
            "right": null,
            "top": null,
            "visibility": null,
            "width": null
          }
        },
        "4b0f7f2c75a842a1bec93d7df78d68be": {
          "model_module": "@jupyter-widgets/controls",
          "model_name": "DescriptionStyleModel",
          "model_module_version": "1.5.0",
          "state": {
            "_model_module": "@jupyter-widgets/controls",
            "_model_module_version": "1.5.0",
            "_model_name": "DescriptionStyleModel",
            "_view_count": null,
            "_view_module": "@jupyter-widgets/base",
            "_view_module_version": "1.2.0",
            "_view_name": "StyleView",
            "description_width": ""
          }
        },
        "e03a685ae0bb4f40938339bd029f9955": {
          "model_module": "@jupyter-widgets/base",
          "model_name": "LayoutModel",
          "model_module_version": "1.2.0",
          "state": {
            "_model_module": "@jupyter-widgets/base",
            "_model_module_version": "1.2.0",
            "_model_name": "LayoutModel",
            "_view_count": null,
            "_view_module": "@jupyter-widgets/base",
            "_view_module_version": "1.2.0",
            "_view_name": "LayoutView",
            "align_content": null,
            "align_items": null,
            "align_self": null,
            "border": null,
            "bottom": null,
            "display": null,
            "flex": null,
            "flex_flow": null,
            "grid_area": null,
            "grid_auto_columns": null,
            "grid_auto_flow": null,
            "grid_auto_rows": null,
            "grid_column": null,
            "grid_gap": null,
            "grid_row": null,
            "grid_template_areas": null,
            "grid_template_columns": null,
            "grid_template_rows": null,
            "height": null,
            "justify_content": null,
            "justify_items": null,
            "left": null,
            "margin": null,
            "max_height": null,
            "max_width": null,
            "min_height": null,
            "min_width": null,
            "object_fit": null,
            "object_position": null,
            "order": null,
            "overflow": null,
            "overflow_x": null,
            "overflow_y": null,
            "padding": null,
            "right": null,
            "top": null,
            "visibility": null,
            "width": null
          }
        },
        "e548a678f9374445ba15aa528ab6acfb": {
          "model_module": "@jupyter-widgets/controls",
          "model_name": "ProgressStyleModel",
          "model_module_version": "1.5.0",
          "state": {
            "_model_module": "@jupyter-widgets/controls",
            "_model_module_version": "1.5.0",
            "_model_name": "ProgressStyleModel",
            "_view_count": null,
            "_view_module": "@jupyter-widgets/base",
            "_view_module_version": "1.2.0",
            "_view_name": "StyleView",
            "bar_color": null,
            "description_width": ""
          }
        },
        "e99dedfb541f4484a8995308bbc3d634": {
          "model_module": "@jupyter-widgets/base",
          "model_name": "LayoutModel",
          "model_module_version": "1.2.0",
          "state": {
            "_model_module": "@jupyter-widgets/base",
            "_model_module_version": "1.2.0",
            "_model_name": "LayoutModel",
            "_view_count": null,
            "_view_module": "@jupyter-widgets/base",
            "_view_module_version": "1.2.0",
            "_view_name": "LayoutView",
            "align_content": null,
            "align_items": null,
            "align_self": null,
            "border": null,
            "bottom": null,
            "display": null,
            "flex": null,
            "flex_flow": null,
            "grid_area": null,
            "grid_auto_columns": null,
            "grid_auto_flow": null,
            "grid_auto_rows": null,
            "grid_column": null,
            "grid_gap": null,
            "grid_row": null,
            "grid_template_areas": null,
            "grid_template_columns": null,
            "grid_template_rows": null,
            "height": null,
            "justify_content": null,
            "justify_items": null,
            "left": null,
            "margin": null,
            "max_height": null,
            "max_width": null,
            "min_height": null,
            "min_width": null,
            "object_fit": null,
            "object_position": null,
            "order": null,
            "overflow": null,
            "overflow_x": null,
            "overflow_y": null,
            "padding": null,
            "right": null,
            "top": null,
            "visibility": null,
            "width": null
          }
        },
        "105a042f17f24879afd1cb2512d66802": {
          "model_module": "@jupyter-widgets/controls",
          "model_name": "DescriptionStyleModel",
          "model_module_version": "1.5.0",
          "state": {
            "_model_module": "@jupyter-widgets/controls",
            "_model_module_version": "1.5.0",
            "_model_name": "DescriptionStyleModel",
            "_view_count": null,
            "_view_module": "@jupyter-widgets/base",
            "_view_module_version": "1.2.0",
            "_view_name": "StyleView",
            "description_width": ""
          }
        },
        "a61651bac2f241e48ca9105fa7ba4281": {
          "model_module": "@jupyter-widgets/controls",
          "model_name": "HBoxModel",
          "model_module_version": "1.5.0",
          "state": {
            "_dom_classes": [],
            "_model_module": "@jupyter-widgets/controls",
            "_model_module_version": "1.5.0",
            "_model_name": "HBoxModel",
            "_view_count": null,
            "_view_module": "@jupyter-widgets/controls",
            "_view_module_version": "1.5.0",
            "_view_name": "HBoxView",
            "box_style": "",
            "children": [
              "IPY_MODEL_03694cd7666c4ba495f0087e291d6cde",
              "IPY_MODEL_9a08640272484f2b8ec40976f3f35110",
              "IPY_MODEL_580eef3d74a2460e8a474d8dcef14e07"
            ],
            "layout": "IPY_MODEL_5f046fc6f39045008bbe601ef4ef10f2"
          }
        },
        "03694cd7666c4ba495f0087e291d6cde": {
          "model_module": "@jupyter-widgets/controls",
          "model_name": "HTMLModel",
          "model_module_version": "1.5.0",
          "state": {
            "_dom_classes": [],
            "_model_module": "@jupyter-widgets/controls",
            "_model_module_version": "1.5.0",
            "_model_name": "HTMLModel",
            "_view_count": null,
            "_view_module": "@jupyter-widgets/controls",
            "_view_module_version": "1.5.0",
            "_view_name": "HTMLView",
            "description": "",
            "description_tooltip": null,
            "layout": "IPY_MODEL_92a13438a8b4484292ca6599910c58d2",
            "placeholder": "​",
            "style": "IPY_MODEL_32ca9074975543d68cfad9b88e1f61d2",
            "value": "100%"
          }
        },
        "9a08640272484f2b8ec40976f3f35110": {
          "model_module": "@jupyter-widgets/controls",
          "model_name": "FloatProgressModel",
          "model_module_version": "1.5.0",
          "state": {
            "_dom_classes": [],
            "_model_module": "@jupyter-widgets/controls",
            "_model_module_version": "1.5.0",
            "_model_name": "FloatProgressModel",
            "_view_count": null,
            "_view_module": "@jupyter-widgets/controls",
            "_view_module_version": "1.5.0",
            "_view_name": "ProgressView",
            "bar_style": "success",
            "description": "",
            "description_tooltip": null,
            "layout": "IPY_MODEL_dbda0f38c5ab4b3f990914a9b82fffa3",
            "max": 657,
            "min": 0,
            "orientation": "horizontal",
            "style": "IPY_MODEL_daa6752ab5ed4366ae3e83e68969704c",
            "value": 657
          }
        },
        "580eef3d74a2460e8a474d8dcef14e07": {
          "model_module": "@jupyter-widgets/controls",
          "model_name": "HTMLModel",
          "model_module_version": "1.5.0",
          "state": {
            "_dom_classes": [],
            "_model_module": "@jupyter-widgets/controls",
            "_model_module_version": "1.5.0",
            "_model_name": "HTMLModel",
            "_view_count": null,
            "_view_module": "@jupyter-widgets/controls",
            "_view_module_version": "1.5.0",
            "_view_name": "HTMLView",
            "description": "",
            "description_tooltip": null,
            "layout": "IPY_MODEL_49ad761026e0432a9ba0b292704d94d7",
            "placeholder": "​",
            "style": "IPY_MODEL_0daca51d64464cb4bc9328e55470f6c7",
            "value": " 657/657 [00:22&lt;00:00, 31.96it/s]"
          }
        },
        "5f046fc6f39045008bbe601ef4ef10f2": {
          "model_module": "@jupyter-widgets/base",
          "model_name": "LayoutModel",
          "model_module_version": "1.2.0",
          "state": {
            "_model_module": "@jupyter-widgets/base",
            "_model_module_version": "1.2.0",
            "_model_name": "LayoutModel",
            "_view_count": null,
            "_view_module": "@jupyter-widgets/base",
            "_view_module_version": "1.2.0",
            "_view_name": "LayoutView",
            "align_content": null,
            "align_items": null,
            "align_self": null,
            "border": null,
            "bottom": null,
            "display": null,
            "flex": null,
            "flex_flow": null,
            "grid_area": null,
            "grid_auto_columns": null,
            "grid_auto_flow": null,
            "grid_auto_rows": null,
            "grid_column": null,
            "grid_gap": null,
            "grid_row": null,
            "grid_template_areas": null,
            "grid_template_columns": null,
            "grid_template_rows": null,
            "height": null,
            "justify_content": null,
            "justify_items": null,
            "left": null,
            "margin": null,
            "max_height": null,
            "max_width": null,
            "min_height": null,
            "min_width": null,
            "object_fit": null,
            "object_position": null,
            "order": null,
            "overflow": null,
            "overflow_x": null,
            "overflow_y": null,
            "padding": null,
            "right": null,
            "top": null,
            "visibility": null,
            "width": null
          }
        },
        "92a13438a8b4484292ca6599910c58d2": {
          "model_module": "@jupyter-widgets/base",
          "model_name": "LayoutModel",
          "model_module_version": "1.2.0",
          "state": {
            "_model_module": "@jupyter-widgets/base",
            "_model_module_version": "1.2.0",
            "_model_name": "LayoutModel",
            "_view_count": null,
            "_view_module": "@jupyter-widgets/base",
            "_view_module_version": "1.2.0",
            "_view_name": "LayoutView",
            "align_content": null,
            "align_items": null,
            "align_self": null,
            "border": null,
            "bottom": null,
            "display": null,
            "flex": null,
            "flex_flow": null,
            "grid_area": null,
            "grid_auto_columns": null,
            "grid_auto_flow": null,
            "grid_auto_rows": null,
            "grid_column": null,
            "grid_gap": null,
            "grid_row": null,
            "grid_template_areas": null,
            "grid_template_columns": null,
            "grid_template_rows": null,
            "height": null,
            "justify_content": null,
            "justify_items": null,
            "left": null,
            "margin": null,
            "max_height": null,
            "max_width": null,
            "min_height": null,
            "min_width": null,
            "object_fit": null,
            "object_position": null,
            "order": null,
            "overflow": null,
            "overflow_x": null,
            "overflow_y": null,
            "padding": null,
            "right": null,
            "top": null,
            "visibility": null,
            "width": null
          }
        },
        "32ca9074975543d68cfad9b88e1f61d2": {
          "model_module": "@jupyter-widgets/controls",
          "model_name": "DescriptionStyleModel",
          "model_module_version": "1.5.0",
          "state": {
            "_model_module": "@jupyter-widgets/controls",
            "_model_module_version": "1.5.0",
            "_model_name": "DescriptionStyleModel",
            "_view_count": null,
            "_view_module": "@jupyter-widgets/base",
            "_view_module_version": "1.2.0",
            "_view_name": "StyleView",
            "description_width": ""
          }
        },
        "dbda0f38c5ab4b3f990914a9b82fffa3": {
          "model_module": "@jupyter-widgets/base",
          "model_name": "LayoutModel",
          "model_module_version": "1.2.0",
          "state": {
            "_model_module": "@jupyter-widgets/base",
            "_model_module_version": "1.2.0",
            "_model_name": "LayoutModel",
            "_view_count": null,
            "_view_module": "@jupyter-widgets/base",
            "_view_module_version": "1.2.0",
            "_view_name": "LayoutView",
            "align_content": null,
            "align_items": null,
            "align_self": null,
            "border": null,
            "bottom": null,
            "display": null,
            "flex": null,
            "flex_flow": null,
            "grid_area": null,
            "grid_auto_columns": null,
            "grid_auto_flow": null,
            "grid_auto_rows": null,
            "grid_column": null,
            "grid_gap": null,
            "grid_row": null,
            "grid_template_areas": null,
            "grid_template_columns": null,
            "grid_template_rows": null,
            "height": null,
            "justify_content": null,
            "justify_items": null,
            "left": null,
            "margin": null,
            "max_height": null,
            "max_width": null,
            "min_height": null,
            "min_width": null,
            "object_fit": null,
            "object_position": null,
            "order": null,
            "overflow": null,
            "overflow_x": null,
            "overflow_y": null,
            "padding": null,
            "right": null,
            "top": null,
            "visibility": null,
            "width": null
          }
        },
        "daa6752ab5ed4366ae3e83e68969704c": {
          "model_module": "@jupyter-widgets/controls",
          "model_name": "ProgressStyleModel",
          "model_module_version": "1.5.0",
          "state": {
            "_model_module": "@jupyter-widgets/controls",
            "_model_module_version": "1.5.0",
            "_model_name": "ProgressStyleModel",
            "_view_count": null,
            "_view_module": "@jupyter-widgets/base",
            "_view_module_version": "1.2.0",
            "_view_name": "StyleView",
            "bar_color": null,
            "description_width": ""
          }
        },
        "49ad761026e0432a9ba0b292704d94d7": {
          "model_module": "@jupyter-widgets/base",
          "model_name": "LayoutModel",
          "model_module_version": "1.2.0",
          "state": {
            "_model_module": "@jupyter-widgets/base",
            "_model_module_version": "1.2.0",
            "_model_name": "LayoutModel",
            "_view_count": null,
            "_view_module": "@jupyter-widgets/base",
            "_view_module_version": "1.2.0",
            "_view_name": "LayoutView",
            "align_content": null,
            "align_items": null,
            "align_self": null,
            "border": null,
            "bottom": null,
            "display": null,
            "flex": null,
            "flex_flow": null,
            "grid_area": null,
            "grid_auto_columns": null,
            "grid_auto_flow": null,
            "grid_auto_rows": null,
            "grid_column": null,
            "grid_gap": null,
            "grid_row": null,
            "grid_template_areas": null,
            "grid_template_columns": null,
            "grid_template_rows": null,
            "height": null,
            "justify_content": null,
            "justify_items": null,
            "left": null,
            "margin": null,
            "max_height": null,
            "max_width": null,
            "min_height": null,
            "min_width": null,
            "object_fit": null,
            "object_position": null,
            "order": null,
            "overflow": null,
            "overflow_x": null,
            "overflow_y": null,
            "padding": null,
            "right": null,
            "top": null,
            "visibility": null,
            "width": null
          }
        },
        "0daca51d64464cb4bc9328e55470f6c7": {
          "model_module": "@jupyter-widgets/controls",
          "model_name": "DescriptionStyleModel",
          "model_module_version": "1.5.0",
          "state": {
            "_model_module": "@jupyter-widgets/controls",
            "_model_module_version": "1.5.0",
            "_model_name": "DescriptionStyleModel",
            "_view_count": null,
            "_view_module": "@jupyter-widgets/base",
            "_view_module_version": "1.2.0",
            "_view_name": "StyleView",
            "description_width": ""
          }
        },
        "3f5d1eec6d754d1c8bd9774da8467c3f": {
          "model_module": "@jupyter-widgets/controls",
          "model_name": "HBoxModel",
          "model_module_version": "1.5.0",
          "state": {
            "_dom_classes": [],
            "_model_module": "@jupyter-widgets/controls",
            "_model_module_version": "1.5.0",
            "_model_name": "HBoxModel",
            "_view_count": null,
            "_view_module": "@jupyter-widgets/controls",
            "_view_module_version": "1.5.0",
            "_view_name": "HBoxView",
            "box_style": "",
            "children": [
              "IPY_MODEL_4d1396640bba42b093c0f052a80ffade",
              "IPY_MODEL_a6b08e223421470192e967168b8bff0d",
              "IPY_MODEL_a62b23d097154ced924a89ff843e5f92"
            ],
            "layout": "IPY_MODEL_ef694afe69a9447fb314f8bc58964c38"
          }
        },
        "4d1396640bba42b093c0f052a80ffade": {
          "model_module": "@jupyter-widgets/controls",
          "model_name": "HTMLModel",
          "model_module_version": "1.5.0",
          "state": {
            "_dom_classes": [],
            "_model_module": "@jupyter-widgets/controls",
            "_model_module_version": "1.5.0",
            "_model_name": "HTMLModel",
            "_view_count": null,
            "_view_module": "@jupyter-widgets/controls",
            "_view_module_version": "1.5.0",
            "_view_name": "HTMLView",
            "description": "",
            "description_tooltip": null,
            "layout": "IPY_MODEL_c1a6d18975b34eff93ab87b5853174f8",
            "placeholder": "​",
            "style": "IPY_MODEL_8a0e4997670a4ccaabd22abaf3658885",
            "value": "100%"
          }
        },
        "a6b08e223421470192e967168b8bff0d": {
          "model_module": "@jupyter-widgets/controls",
          "model_name": "FloatProgressModel",
          "model_module_version": "1.5.0",
          "state": {
            "_dom_classes": [],
            "_model_module": "@jupyter-widgets/controls",
            "_model_module_version": "1.5.0",
            "_model_name": "FloatProgressModel",
            "_view_count": null,
            "_view_module": "@jupyter-widgets/controls",
            "_view_module_version": "1.5.0",
            "_view_name": "ProgressView",
            "bar_style": "success",
            "description": "",
            "description_tooltip": null,
            "layout": "IPY_MODEL_0a4a5af45cba4e12bb032686eaaf3cc9",
            "max": 657,
            "min": 0,
            "orientation": "horizontal",
            "style": "IPY_MODEL_33a17b380c374f4a860eebe034592cea",
            "value": 657
          }
        },
        "a62b23d097154ced924a89ff843e5f92": {
          "model_module": "@jupyter-widgets/controls",
          "model_name": "HTMLModel",
          "model_module_version": "1.5.0",
          "state": {
            "_dom_classes": [],
            "_model_module": "@jupyter-widgets/controls",
            "_model_module_version": "1.5.0",
            "_model_name": "HTMLModel",
            "_view_count": null,
            "_view_module": "@jupyter-widgets/controls",
            "_view_module_version": "1.5.0",
            "_view_name": "HTMLView",
            "description": "",
            "description_tooltip": null,
            "layout": "IPY_MODEL_eab8be4913a044aca37845d8bc760c0f",
            "placeholder": "​",
            "style": "IPY_MODEL_c6908aa73e074873aa1a4e72f99fb948",
            "value": " 657/657 [00:23&lt;00:00, 25.15it/s]"
          }
        },
        "ef694afe69a9447fb314f8bc58964c38": {
          "model_module": "@jupyter-widgets/base",
          "model_name": "LayoutModel",
          "model_module_version": "1.2.0",
          "state": {
            "_model_module": "@jupyter-widgets/base",
            "_model_module_version": "1.2.0",
            "_model_name": "LayoutModel",
            "_view_count": null,
            "_view_module": "@jupyter-widgets/base",
            "_view_module_version": "1.2.0",
            "_view_name": "LayoutView",
            "align_content": null,
            "align_items": null,
            "align_self": null,
            "border": null,
            "bottom": null,
            "display": null,
            "flex": null,
            "flex_flow": null,
            "grid_area": null,
            "grid_auto_columns": null,
            "grid_auto_flow": null,
            "grid_auto_rows": null,
            "grid_column": null,
            "grid_gap": null,
            "grid_row": null,
            "grid_template_areas": null,
            "grid_template_columns": null,
            "grid_template_rows": null,
            "height": null,
            "justify_content": null,
            "justify_items": null,
            "left": null,
            "margin": null,
            "max_height": null,
            "max_width": null,
            "min_height": null,
            "min_width": null,
            "object_fit": null,
            "object_position": null,
            "order": null,
            "overflow": null,
            "overflow_x": null,
            "overflow_y": null,
            "padding": null,
            "right": null,
            "top": null,
            "visibility": null,
            "width": null
          }
        },
        "c1a6d18975b34eff93ab87b5853174f8": {
          "model_module": "@jupyter-widgets/base",
          "model_name": "LayoutModel",
          "model_module_version": "1.2.0",
          "state": {
            "_model_module": "@jupyter-widgets/base",
            "_model_module_version": "1.2.0",
            "_model_name": "LayoutModel",
            "_view_count": null,
            "_view_module": "@jupyter-widgets/base",
            "_view_module_version": "1.2.0",
            "_view_name": "LayoutView",
            "align_content": null,
            "align_items": null,
            "align_self": null,
            "border": null,
            "bottom": null,
            "display": null,
            "flex": null,
            "flex_flow": null,
            "grid_area": null,
            "grid_auto_columns": null,
            "grid_auto_flow": null,
            "grid_auto_rows": null,
            "grid_column": null,
            "grid_gap": null,
            "grid_row": null,
            "grid_template_areas": null,
            "grid_template_columns": null,
            "grid_template_rows": null,
            "height": null,
            "justify_content": null,
            "justify_items": null,
            "left": null,
            "margin": null,
            "max_height": null,
            "max_width": null,
            "min_height": null,
            "min_width": null,
            "object_fit": null,
            "object_position": null,
            "order": null,
            "overflow": null,
            "overflow_x": null,
            "overflow_y": null,
            "padding": null,
            "right": null,
            "top": null,
            "visibility": null,
            "width": null
          }
        },
        "8a0e4997670a4ccaabd22abaf3658885": {
          "model_module": "@jupyter-widgets/controls",
          "model_name": "DescriptionStyleModel",
          "model_module_version": "1.5.0",
          "state": {
            "_model_module": "@jupyter-widgets/controls",
            "_model_module_version": "1.5.0",
            "_model_name": "DescriptionStyleModel",
            "_view_count": null,
            "_view_module": "@jupyter-widgets/base",
            "_view_module_version": "1.2.0",
            "_view_name": "StyleView",
            "description_width": ""
          }
        },
        "0a4a5af45cba4e12bb032686eaaf3cc9": {
          "model_module": "@jupyter-widgets/base",
          "model_name": "LayoutModel",
          "model_module_version": "1.2.0",
          "state": {
            "_model_module": "@jupyter-widgets/base",
            "_model_module_version": "1.2.0",
            "_model_name": "LayoutModel",
            "_view_count": null,
            "_view_module": "@jupyter-widgets/base",
            "_view_module_version": "1.2.0",
            "_view_name": "LayoutView",
            "align_content": null,
            "align_items": null,
            "align_self": null,
            "border": null,
            "bottom": null,
            "display": null,
            "flex": null,
            "flex_flow": null,
            "grid_area": null,
            "grid_auto_columns": null,
            "grid_auto_flow": null,
            "grid_auto_rows": null,
            "grid_column": null,
            "grid_gap": null,
            "grid_row": null,
            "grid_template_areas": null,
            "grid_template_columns": null,
            "grid_template_rows": null,
            "height": null,
            "justify_content": null,
            "justify_items": null,
            "left": null,
            "margin": null,
            "max_height": null,
            "max_width": null,
            "min_height": null,
            "min_width": null,
            "object_fit": null,
            "object_position": null,
            "order": null,
            "overflow": null,
            "overflow_x": null,
            "overflow_y": null,
            "padding": null,
            "right": null,
            "top": null,
            "visibility": null,
            "width": null
          }
        },
        "33a17b380c374f4a860eebe034592cea": {
          "model_module": "@jupyter-widgets/controls",
          "model_name": "ProgressStyleModel",
          "model_module_version": "1.5.0",
          "state": {
            "_model_module": "@jupyter-widgets/controls",
            "_model_module_version": "1.5.0",
            "_model_name": "ProgressStyleModel",
            "_view_count": null,
            "_view_module": "@jupyter-widgets/base",
            "_view_module_version": "1.2.0",
            "_view_name": "StyleView",
            "bar_color": null,
            "description_width": ""
          }
        },
        "eab8be4913a044aca37845d8bc760c0f": {
          "model_module": "@jupyter-widgets/base",
          "model_name": "LayoutModel",
          "model_module_version": "1.2.0",
          "state": {
            "_model_module": "@jupyter-widgets/base",
            "_model_module_version": "1.2.0",
            "_model_name": "LayoutModel",
            "_view_count": null,
            "_view_module": "@jupyter-widgets/base",
            "_view_module_version": "1.2.0",
            "_view_name": "LayoutView",
            "align_content": null,
            "align_items": null,
            "align_self": null,
            "border": null,
            "bottom": null,
            "display": null,
            "flex": null,
            "flex_flow": null,
            "grid_area": null,
            "grid_auto_columns": null,
            "grid_auto_flow": null,
            "grid_auto_rows": null,
            "grid_column": null,
            "grid_gap": null,
            "grid_row": null,
            "grid_template_areas": null,
            "grid_template_columns": null,
            "grid_template_rows": null,
            "height": null,
            "justify_content": null,
            "justify_items": null,
            "left": null,
            "margin": null,
            "max_height": null,
            "max_width": null,
            "min_height": null,
            "min_width": null,
            "object_fit": null,
            "object_position": null,
            "order": null,
            "overflow": null,
            "overflow_x": null,
            "overflow_y": null,
            "padding": null,
            "right": null,
            "top": null,
            "visibility": null,
            "width": null
          }
        },
        "c6908aa73e074873aa1a4e72f99fb948": {
          "model_module": "@jupyter-widgets/controls",
          "model_name": "DescriptionStyleModel",
          "model_module_version": "1.5.0",
          "state": {
            "_model_module": "@jupyter-widgets/controls",
            "_model_module_version": "1.5.0",
            "_model_name": "DescriptionStyleModel",
            "_view_count": null,
            "_view_module": "@jupyter-widgets/base",
            "_view_module_version": "1.2.0",
            "_view_name": "StyleView",
            "description_width": ""
          }
        }
      }
    },
    "colab": {
      "provenance": [],
      "toc_visible": true,
      "gpuType": "T4",
      "include_colab_link": true
    },
    "accelerator": "GPU"
  },
  "nbformat": 4,
  "nbformat_minor": 5
}