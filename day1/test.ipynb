{
  "cells": [
    {
      "cell_type": "markdown",
      "metadata": {
        "colab_type": "text",
        "id": "view-in-github"
      },
      "source": [
        "<a href=\"https://colab.research.google.com/github/PrincetonUniversity/intro_machine_learning/blob/main/day1/test.ipynb\" target=\"_parent\"><img src=\"https://colab.research.google.com/assets/colab-badge.svg\" alt=\"Open In Colab\"/></a>"
      ]
    },
    {
      "cell_type": "code",
      "execution_count": null,
      "metadata": {
        "id": "-TK1adm8X6qV"
      },
      "outputs": [],
      "source": [
        "# import libraries used during this workshop\n",
        "import pandas as pd\n",
        "import seaborn as sns\n",
        "import numpy as np\n",
        "import matplotlib.pyplot as plt\n",
        "\n",
        "from sklearn.model_selection import train_test_split\n",
        "from sklearn.neighbors import KNeighborsClassifier\n",
        "from sklearn.metrics import accuracy_score\n",
        "from sklearn.impute import SimpleImputer\n",
        "from sklearn.neighbors import KNeighborsRegressor\n",
        "from sklearn.preprocessing import MinMaxScaler\n",
        "from sklearn.preprocessing import StandardScaler\n",
        "from sklearn.decomposition import PCA\n",
        "from sklearn.metrics import confusion_matrix"
      ]
    },
    {
      "attachments": {},
      "cell_type": "markdown",
      "metadata": {},
      "source": [
        "# Data collected from red or white wines\n",
        "We'll use data on wines that has the following variables:\n",
        "\n",
        "----\n",
        "\n",
        "1. **fixed acidity**: Most acids in wine are \"fixed\" or nonvolatile (do not evaporate readily).\n",
        "2. **volatile acidity**: The amount of acetic acid in wine, which at too high of levels can lead to an unpleasant, vinegar taste.\n",
        "3. **citric acid**: Found in small quantities, citric acid can add 'freshness' and flavor to wines.\n",
        "4. **residual sugar**: The amount of sugar remaining after fermentation stops, it's rare to find wines with less than 1 gram/liter.\n",
        "5. **chlorides**: The amount of salt in the wine.\n",
        "6. **free sulfur dioxide**: The free form of SO2 exists in equilibrium between molecular SO2 (as a dissolved gas) and bisulfite ion; it prevents.\n",
        "7. **total sulfur dioxide**: Amount of free and bound forms of S02; in low concentrations, SO2 is mostly undetectable in wine, but at free SO2.\n",
        "8. **density**: The density of water is close to that of water depending on the percent alcohol and sugar content.\n",
        "9. **pH**: Describes how acidic or basic a wine is on a scale from 0 (very acidic) to 14 (very basic); most wines are between 3-4.\n",
        "10. **sulphates**: A wine additive which can contribute to sulfur dioxide gas (S02) levels, wich acts as an antimicrobial.\n",
        "11. **quality**: Output variable (based on sensory data, score between 0 and 10).\n",
        "12. **alcohol**: The percent alcohol content of the wine.\n",
        "\n",
        "----\n",
        "\n",
        "Which variables should be **responses** or **features**? Sometimes it's not obvious and depends on your interests!\n",
        "\n",
        "Let's load these data into a Pandas [DataFrame](https://pandas.pydata.org/docs/reference/api/pandas.DataFrame.html) using the `read_csv()` function, which can read a table on your computer are directly from a URL!."
      ]
    },
    {
      "cell_type": "code",
      "execution_count": null,
      "metadata": {},
      "outputs": [],
      "source": [
        "url_red = 'https://archive.ics.uci.edu/ml/machine-learning-databases/wine-quality/winequality-red.csv'\n",
        "url_white = 'https://archive.ics.uci.edu/ml/machine-learning-databases/wine-quality/winequality-white.csv'\n",
        "\n",
        "# these data are in text tables in which the separation of columns is indicated with a semicolon \";\" \n",
        "red_df = pd.read_csv(url_red, sep=\";\")\n",
        "white_df = pd.read_csv(url_white, sep=\";\")"
      ]
    }
  ],
  "metadata": {
    "colab": {
      "authorship_tag": "ABX9TyOOFIBt/8ERmc9HbfF83dRJ",
      "include_colab_link": true,
      "provenance": []
    },
    "kernelspec": {
      "display_name": "Python 3.8.9 64-bit",
      "language": "python",
      "name": "python3"
    },
    "language_info": {
      "name": "python",
      "version": "3.8.9"
    },
    "vscode": {
      "interpreter": {
        "hash": "31f2aee4e71d21fbe5cf8b01ff0e069b9275f58929596ceb00d14d90e3e16cd6"
      }
    }
  },
  "nbformat": 4,
  "nbformat_minor": 0
}
